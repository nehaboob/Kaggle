{
 "cells": [
  {
   "cell_type": "code",
   "execution_count": 45,
   "metadata": {
    "collapsed": false
   },
   "outputs": [],
   "source": [
    "%matplotlib inline\n",
    "import pandas as pd\n",
    "import numpy as np\n",
    "from sklearn.metrics import mean_squared_error\n",
    "from math import sqrt\n",
    "import seaborn as sns\n",
    "import matplotlib.pyplot as plt\n",
    "\n",
    "ood = pd.read_csv('../oof_predictions_20170501.csv')"
   ]
  },
  {
   "cell_type": "code",
   "execution_count": 13,
   "metadata": {
    "collapsed": false
   },
   "outputs": [
    {
     "name": "stdout",
     "output_type": "stream",
     "text": [
      "<class 'pandas.core.frame.DataFrame'>\n",
      "RangeIndex: 329636 entries, 0 to 329635\n",
      "Data columns (total 2 columns):\n",
      "true_vals      329636 non-null float64\n",
      "predictions    329636 non-null float64\n",
      "dtypes: float64(2)\n",
      "memory usage: 5.0 MB\n"
     ]
    }
   ],
   "source": [
    "ood.info()"
   ]
  },
  {
   "cell_type": "code",
   "execution_count": 14,
   "metadata": {
    "collapsed": true
   },
   "outputs": [],
   "source": [
    "def cal_rmse(y_true, y_predict):\n",
    "    rms = sqrt(mean_squared_error(y_true, y_predict))\n",
    "    return rms"
   ]
  },
  {
   "cell_type": "code",
   "execution_count": 15,
   "metadata": {
    "collapsed": false
   },
   "outputs": [
    {
     "data": {
      "text/plain": [
       "0.3210947516636752"
      ]
     },
     "execution_count": 15,
     "metadata": {},
     "output_type": "execute_result"
    }
   ],
   "source": [
    "cal_rmse(ood.true_vals, ood.predictions)"
   ]
  },
  {
   "cell_type": "code",
   "execution_count": 38,
   "metadata": {
    "collapsed": false
   },
   "outputs": [],
   "source": [
    "th = range(20, 100)\n",
    "rmse = []\n",
    "for t in th:\n",
    "    thresh = np.percentile(ood.predictions, t)\n",
    "    preds = ood.predictions.values\n",
    "    preds[preds<thresh] = 0 \n",
    "    rmse.append(cal_rmse(ood.true_vals, preds))"
   ]
  },
  {
   "cell_type": "code",
   "execution_count": 39,
   "metadata": {
    "collapsed": false
   },
   "outputs": [
    {
     "data": {
      "text/plain": [
       "[<matplotlib.lines.Line2D at 0x7f91ff769a90>]"
      ]
     },
     "execution_count": 39,
     "metadata": {},
     "output_type": "execute_result"
    },
    {
     "data": {
      "image/png": "[encoded data removed]",
      "text/plain": [
       "<matplotlib.figure.Figure at 0x7f91ff7fe5f8>"
      ]
     },
     "metadata": {},
     "output_type": "display_data"
    }
   ],
   "source": [
    "plt.plot(list(th),rmse)"
   ]
  },
  {
   "cell_type": "code",
   "execution_count": 40,
   "metadata": {
    "collapsed": false
   },
   "outputs": [
    {
     "data": {
      "text/plain": [
       "[0.3210491631396303,\n",
       " 0.3210491631396303,\n",
       " 0.3210491631396303,\n",
       " 0.3210491708281234,\n",
       " 0.321049180422909,\n",
       " 0.321049180422909,\n",
       " 0.321049180422909,\n",
       " 0.321049180422909,\n",
       " 0.321049180422909,\n",
       " 0.321049180422909,\n",
       " 0.321049180422909,\n",
       " 0.321049180024327,\n",
       " 0.321049180024327,\n",
       " 0.3210491798222396,\n",
       " 0.3210491797898214,\n",
       " 0.32104919895772493,\n",
       " 0.32104919895772493,\n",
       " 0.32104919895772493,\n",
       " 0.32104919895772493,\n",
       " 0.32104919895772493,\n",
       " 0.32104919895772493,\n",
       " 0.32104919895772493,\n",
       " 0.32104919895772493,\n",
       " 0.32104919895772493,\n",
       " 0.32104919895772493,\n",
       " 0.32104919895772493,\n",
       " 0.32104919895772493,\n",
       " 0.32104919895772493,\n",
       " 0.32104919895772493,\n",
       " 0.32104919895772493,\n",
       " 0.32104919895772493,\n",
       " 0.3210492417877941,\n",
       " 0.32104927839025427,\n",
       " 0.3210492782336584,\n",
       " 0.3210493228629525,\n",
       " 0.3210493228629525,\n",
       " 0.321049317367449,\n",
       " 0.321049317367449,\n",
       " 0.321049317367449,\n",
       " 0.321049317367449,\n",
       " 0.321049317099805,\n",
       " 0.321049317099805,\n",
       " 0.32104935861465833,\n",
       " 0.32104935813099417,\n",
       " 0.32104935813099417,\n",
       " 0.32104935813099417,\n",
       " 0.32104935437334375,\n",
       " 0.32104935421261127,\n",
       " 0.321049352101697,\n",
       " 0.3210493506846236,\n",
       " 0.3210493486549118,\n",
       " 0.3210493461690693,\n",
       " 0.3210493442339072,\n",
       " 0.3210493442339072,\n",
       " 0.3210493376066982,\n",
       " 0.3210493370448102,\n",
       " 0.3210493308816181,\n",
       " 0.321049327167032,\n",
       " 0.3210494118245174,\n",
       " 0.3210495013291295,\n",
       " 0.3210496079353731,\n",
       " 0.3210496020818106,\n",
       " 0.32104958591211274,\n",
       " 0.3210497472869293,\n",
       " 0.32104992753787936,\n",
       " 0.3210498835188133,\n",
       " 0.3210498201312506,\n",
       " 0.32104971223232864,\n",
       " 0.32105008188958234,\n",
       " 0.3210519762747876,\n",
       " 0.3210515461706568,\n",
       " 0.3210519364799314,\n",
       " 0.3210540550435222,\n",
       " 0.32105177179099625,\n",
       " 0.3210635164230593,\n",
       " 0.32106739865815703,\n",
       " 0.3210641242137144,\n",
       " 0.3210603897173984,\n",
       " 0.3211059024583876,\n",
       " 0.32102969250877716]"
      ]
     },
     "execution_count": 40,
     "metadata": {},
     "output_type": "execute_result"
    }
   ],
   "source": [
    "rmse"
   ]
  },
  {
   "cell_type": "code",
   "execution_count": 42,
   "metadata": {
    "collapsed": false
   },
   "outputs": [
    {
     "data": {
      "text/plain": [
       "array([[326282,   3248],\n",
       "       [    57,     49]])"
      ]
     },
     "execution_count": 42,
     "metadata": {},
     "output_type": "execute_result"
    }
   ],
   "source": [
    "from sklearn.metrics import make_scorer, auc, confusion_matrix, accuracy_score, f1_score, precision_score, recall_score, roc_auc_score, roc_curve\n",
    "\n",
    "th = 99\n",
    "thresh = np.percentile(ood.predictions, 99)\n",
    "\n",
    "preds = ood.predictions.values\n",
    "preds[preds<thresh] = 0 \n",
    "confusion_matrix(ood.true_vals>0, preds>0 )\n"
   ]
  },
  {
   "cell_type": "code",
   "execution_count": 46,
   "metadata": {
    "collapsed": false
   },
   "outputs": [
    {
     "name": "stdout",
     "output_type": "stream",
     "text": [
      "0.7.1\n"
     ]
    }
   ],
   "source": [
    "print(sns.__version__)"
   ]
  },
  {
   "cell_type": "code",
   "execution_count": 43,
   "metadata": {
    "collapsed": false
   },
   "outputs": [
    {
     "data": {
      "text/plain": [
       "0         0.000000\n",
       "1         0.000000\n",
       "2         0.000000\n",
       "3         0.000000\n",
       "4         0.000000\n",
       "5         0.000000\n",
       "6         0.000000\n",
       "7         0.000000\n",
       "8         0.000000\n",
       "9         0.000000\n",
       "10        0.000000\n",
       "11        0.000000\n",
       "12        0.000000\n",
       "13        0.181433\n",
       "14        0.000000\n",
       "15        0.000000\n",
       "16        0.000000\n",
       "17        0.000000\n",
       "18        0.000000\n",
       "19        0.000000\n",
       "20        0.000000\n",
       "21        0.000000\n",
       "22        0.000000\n",
       "23        0.000000\n",
       "24        0.000000\n",
       "25        0.000000\n",
       "26        0.000000\n",
       "27        0.000000\n",
       "28        0.000000\n",
       "29        0.000000\n",
       "            ...   \n",
       "329606    0.000000\n",
       "329607    0.000000\n",
       "329608    0.000000\n",
       "329609    0.000000\n",
       "329610    0.000000\n",
       "329611    0.000000\n",
       "329612    0.000000\n",
       "329613    0.000000\n",
       "329614    0.000000\n",
       "329615    0.000000\n",
       "329616    0.000000\n",
       "329617    0.000000\n",
       "329618    0.000000\n",
       "329619    0.000000\n",
       "329620    0.000000\n",
       "329621    0.000000\n",
       "329622    0.000000\n",
       "329623    0.000000\n",
       "329624    0.000000\n",
       "329625    0.000000\n",
       "329626    0.000000\n",
       "329627    0.000000\n",
       "329628    0.000000\n",
       "329629    0.000000\n",
       "329630    0.000000\n",
       "329631    0.000000\n",
       "329632    0.000000\n",
       "329633    0.000000\n",
       "329634    0.000000\n",
       "329635    0.000000\n",
       "Name: predictions, Length: 329636, dtype: float64"
      ]
     },
     "execution_count": 43,
     "metadata": {},
     "output_type": "execute_result"
    }
   ],
   "source": [
    "ood.predictions"
   ]
  },
  {
   "cell_type": "code",
   "execution_count": null,
   "metadata": {
    "collapsed": true
   },
   "outputs": [],
   "source": []
  }
 ],
 "metadata": {
  "kernelspec": {
   "display_name": "Python 3",
   "language": "python",
   "name": "python3"
  },
  "language_info": {
   "codemirror_mode": {
    "name": "ipython",
    "version": 3
   },
   "file_extension": ".py",
   "mimetype": "text/x-python",
   "name": "python",
   "nbconvert_exporter": "python",
   "pygments_lexer": "ipython3",
   "version": "3.6.0"
  }
 },
 "nbformat": 4,
 "nbformat_minor": 2
}

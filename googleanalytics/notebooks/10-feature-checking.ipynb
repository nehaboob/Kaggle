{
 "cells": [
  {
   "cell_type": "code",
   "execution_count": 15,
   "metadata": {
    "collapsed": false
   },
   "outputs": [
    {
     "name": "stdout",
     "output_type": "stream",
     "text": [
      "/home/neha/Desktop/code/ML/Kaggle/googleanalytics\n"
     ]
    }
   ],
   "source": [
    "%matplotlib inline\n",
    "import pandas as pd\n",
    "import numpy as np\n",
    "import seaborn as sns\n",
    "import os\n",
    "import matplotlib.pyplot as plt\n",
    "PROJ_ROOT = os.path.abspath(os.path.join(os.pardir))\n",
    "print(PROJ_ROOT)"
   ]
  },
  {
   "cell_type": "code",
   "execution_count": 16,
   "metadata": {
    "collapsed": true
   },
   "outputs": [],
   "source": [
    "x = pd.read_csv('../data/processed/user_feaures_20170501.csv',dtype={'fullVisitorId': 'str'})\n",
    "y = pd.read_csv('../data/processed/user_predictions_20170501.csv',dtype={'fullVisitorId': 'str'})"
   ]
  },
  {
   "cell_type": "code",
   "execution_count": 17,
   "metadata": {
    "collapsed": false
   },
   "outputs": [
    {
     "name": "stderr",
     "output_type": "stream",
     "text": [
      "/home/neha/anaconda3/lib/python3.6/site-packages/IPython/core/interactiveshell.py:2717: DtypeWarning: Columns (52) have mixed types. Specify dtype option on import or set low_memory=False.\n",
      "  interactivity=interactivity, compiler=compiler, result=result)\n"
     ]
    }
   ],
   "source": [
    "raw = pd.read_csv('../data/processed/train_v2_flat.csv', dtype={'fullVisitorId': 'str'})"
   ]
  },
  {
   "cell_type": "code",
   "execution_count": 20,
   "metadata": {
    "collapsed": false
   },
   "outputs": [
    {
     "data": {
      "text/html": [
       "<div>\n",
       "<style scoped>\n",
       "    .dataframe tbody tr th:only-of-type {\n",
       "        vertical-align: middle;\n",
       "    }\n",
       "\n",
       "    .dataframe tbody tr th {\n",
       "        vertical-align: top;\n",
       "    }\n",
       "\n",
       "    .dataframe thead th {\n",
       "        text-align: right;\n",
       "    }\n",
       "</style>\n",
       "<table border=\"1\" class=\"dataframe\">\n",
       "  <thead>\n",
       "    <tr style=\"text-align: right;\">\n",
       "      <th></th>\n",
       "      <th>0</th>\n",
       "    </tr>\n",
       "  </thead>\n",
       "  <tbody>\n",
       "    <tr>\n",
       "      <th>channelGrouping</th>\n",
       "      <td>Organic Search</td>\n",
       "    </tr>\n",
       "    <tr>\n",
       "      <th>date</th>\n",
       "      <td>20171016</td>\n",
       "    </tr>\n",
       "    <tr>\n",
       "      <th>fullVisitorId</th>\n",
       "      <td>3162355547410993243</td>\n",
       "    </tr>\n",
       "    <tr>\n",
       "      <th>socialEngagementType</th>\n",
       "      <td>Not Socially Engaged</td>\n",
       "    </tr>\n",
       "    <tr>\n",
       "      <th>visitId</th>\n",
       "      <td>1508198450</td>\n",
       "    </tr>\n",
       "    <tr>\n",
       "      <th>visitNumber</th>\n",
       "      <td>1</td>\n",
       "    </tr>\n",
       "    <tr>\n",
       "      <th>visitStartTime</th>\n",
       "      <td>1508198450</td>\n",
       "    </tr>\n",
       "    <tr>\n",
       "      <th>device_browser</th>\n",
       "      <td>Firefox</td>\n",
       "    </tr>\n",
       "    <tr>\n",
       "      <th>device_browserSize</th>\n",
       "      <td>not available in demo dataset</td>\n",
       "    </tr>\n",
       "    <tr>\n",
       "      <th>device_browserVersion</th>\n",
       "      <td>not available in demo dataset</td>\n",
       "    </tr>\n",
       "    <tr>\n",
       "      <th>device_deviceCategory</th>\n",
       "      <td>desktop</td>\n",
       "    </tr>\n",
       "    <tr>\n",
       "      <th>device_flashVersion</th>\n",
       "      <td>not available in demo dataset</td>\n",
       "    </tr>\n",
       "    <tr>\n",
       "      <th>device_isMobile</th>\n",
       "      <td>False</td>\n",
       "    </tr>\n",
       "    <tr>\n",
       "      <th>device_language</th>\n",
       "      <td>not available in demo dataset</td>\n",
       "    </tr>\n",
       "    <tr>\n",
       "      <th>device_mobileDeviceBranding</th>\n",
       "      <td>not available in demo dataset</td>\n",
       "    </tr>\n",
       "    <tr>\n",
       "      <th>device_mobileDeviceInfo</th>\n",
       "      <td>not available in demo dataset</td>\n",
       "    </tr>\n",
       "    <tr>\n",
       "      <th>device_mobileDeviceMarketingName</th>\n",
       "      <td>not available in demo dataset</td>\n",
       "    </tr>\n",
       "    <tr>\n",
       "      <th>device_mobileDeviceModel</th>\n",
       "      <td>not available in demo dataset</td>\n",
       "    </tr>\n",
       "    <tr>\n",
       "      <th>device_mobileInputSelector</th>\n",
       "      <td>not available in demo dataset</td>\n",
       "    </tr>\n",
       "    <tr>\n",
       "      <th>device_operatingSystem</th>\n",
       "      <td>Windows</td>\n",
       "    </tr>\n",
       "    <tr>\n",
       "      <th>device_operatingSystemVersion</th>\n",
       "      <td>not available in demo dataset</td>\n",
       "    </tr>\n",
       "    <tr>\n",
       "      <th>device_screenColors</th>\n",
       "      <td>not available in demo dataset</td>\n",
       "    </tr>\n",
       "    <tr>\n",
       "      <th>device_screenResolution</th>\n",
       "      <td>not available in demo dataset</td>\n",
       "    </tr>\n",
       "    <tr>\n",
       "      <th>geoNetwork_city</th>\n",
       "      <td>not available in demo dataset</td>\n",
       "    </tr>\n",
       "    <tr>\n",
       "      <th>geoNetwork_cityId</th>\n",
       "      <td>not available in demo dataset</td>\n",
       "    </tr>\n",
       "    <tr>\n",
       "      <th>geoNetwork_continent</th>\n",
       "      <td>Europe</td>\n",
       "    </tr>\n",
       "    <tr>\n",
       "      <th>geoNetwork_country</th>\n",
       "      <td>Germany</td>\n",
       "    </tr>\n",
       "    <tr>\n",
       "      <th>geoNetwork_latitude</th>\n",
       "      <td>not available in demo dataset</td>\n",
       "    </tr>\n",
       "    <tr>\n",
       "      <th>geoNetwork_longitude</th>\n",
       "      <td>not available in demo dataset</td>\n",
       "    </tr>\n",
       "    <tr>\n",
       "      <th>geoNetwork_metro</th>\n",
       "      <td>not available in demo dataset</td>\n",
       "    </tr>\n",
       "    <tr>\n",
       "      <th>geoNetwork_networkDomain</th>\n",
       "      <td>(not set)</td>\n",
       "    </tr>\n",
       "    <tr>\n",
       "      <th>geoNetwork_networkLocation</th>\n",
       "      <td>not available in demo dataset</td>\n",
       "    </tr>\n",
       "    <tr>\n",
       "      <th>geoNetwork_region</th>\n",
       "      <td>not available in demo dataset</td>\n",
       "    </tr>\n",
       "    <tr>\n",
       "      <th>geoNetwork_subContinent</th>\n",
       "      <td>Western Europe</td>\n",
       "    </tr>\n",
       "    <tr>\n",
       "      <th>totals_bounces</th>\n",
       "      <td>1</td>\n",
       "    </tr>\n",
       "    <tr>\n",
       "      <th>totals_hits</th>\n",
       "      <td>1</td>\n",
       "    </tr>\n",
       "    <tr>\n",
       "      <th>totals_newVisits</th>\n",
       "      <td>1</td>\n",
       "    </tr>\n",
       "    <tr>\n",
       "      <th>totals_pageviews</th>\n",
       "      <td>1</td>\n",
       "    </tr>\n",
       "    <tr>\n",
       "      <th>totals_sessionQualityDim</th>\n",
       "      <td>1</td>\n",
       "    </tr>\n",
       "    <tr>\n",
       "      <th>totals_timeOnSite</th>\n",
       "      <td>NaN</td>\n",
       "    </tr>\n",
       "    <tr>\n",
       "      <th>totals_totalTransactionRevenue</th>\n",
       "      <td>NaN</td>\n",
       "    </tr>\n",
       "    <tr>\n",
       "      <th>totals_transactionRevenue</th>\n",
       "      <td>NaN</td>\n",
       "    </tr>\n",
       "    <tr>\n",
       "      <th>totals_transactions</th>\n",
       "      <td>NaN</td>\n",
       "    </tr>\n",
       "    <tr>\n",
       "      <th>totals_visits</th>\n",
       "      <td>1</td>\n",
       "    </tr>\n",
       "    <tr>\n",
       "      <th>trafficSource_adContent</th>\n",
       "      <td>NaN</td>\n",
       "    </tr>\n",
       "    <tr>\n",
       "      <th>trafficSource_adwordsClickInfo.adNetworkType</th>\n",
       "      <td>NaN</td>\n",
       "    </tr>\n",
       "    <tr>\n",
       "      <th>trafficSource_adwordsClickInfo.criteriaParameters</th>\n",
       "      <td>not available in demo dataset</td>\n",
       "    </tr>\n",
       "    <tr>\n",
       "      <th>trafficSource_adwordsClickInfo.gclId</th>\n",
       "      <td>NaN</td>\n",
       "    </tr>\n",
       "    <tr>\n",
       "      <th>trafficSource_adwordsClickInfo.isVideoAd</th>\n",
       "      <td>NaN</td>\n",
       "    </tr>\n",
       "    <tr>\n",
       "      <th>trafficSource_adwordsClickInfo.page</th>\n",
       "      <td>NaN</td>\n",
       "    </tr>\n",
       "    <tr>\n",
       "      <th>trafficSource_adwordsClickInfo.slot</th>\n",
       "      <td>NaN</td>\n",
       "    </tr>\n",
       "    <tr>\n",
       "      <th>trafficSource_campaign</th>\n",
       "      <td>(not set)</td>\n",
       "    </tr>\n",
       "    <tr>\n",
       "      <th>trafficSource_campaignCode</th>\n",
       "      <td>NaN</td>\n",
       "    </tr>\n",
       "    <tr>\n",
       "      <th>trafficSource_isTrueDirect</th>\n",
       "      <td>NaN</td>\n",
       "    </tr>\n",
       "    <tr>\n",
       "      <th>trafficSource_keyword</th>\n",
       "      <td>water bottle</td>\n",
       "    </tr>\n",
       "    <tr>\n",
       "      <th>trafficSource_medium</th>\n",
       "      <td>organic</td>\n",
       "    </tr>\n",
       "    <tr>\n",
       "      <th>trafficSource_referralPath</th>\n",
       "      <td>NaN</td>\n",
       "    </tr>\n",
       "    <tr>\n",
       "      <th>trafficSource_source</th>\n",
       "      <td>google</td>\n",
       "    </tr>\n",
       "  </tbody>\n",
       "</table>\n",
       "</div>"
      ],
      "text/plain": [
       "                                                                               0\n",
       "channelGrouping                                                   Organic Search\n",
       "date                                                                    20171016\n",
       "fullVisitorId                                                3162355547410993243\n",
       "socialEngagementType                                        Not Socially Engaged\n",
       "visitId                                                               1508198450\n",
       "visitNumber                                                                    1\n",
       "visitStartTime                                                        1508198450\n",
       "device_browser                                                           Firefox\n",
       "device_browserSize                                 not available in demo dataset\n",
       "device_browserVersion                              not available in demo dataset\n",
       "device_deviceCategory                                                    desktop\n",
       "device_flashVersion                                not available in demo dataset\n",
       "device_isMobile                                                            False\n",
       "device_language                                    not available in demo dataset\n",
       "device_mobileDeviceBranding                        not available in demo dataset\n",
       "device_mobileDeviceInfo                            not available in demo dataset\n",
       "device_mobileDeviceMarketingName                   not available in demo dataset\n",
       "device_mobileDeviceModel                           not available in demo dataset\n",
       "device_mobileInputSelector                         not available in demo dataset\n",
       "device_operatingSystem                                                   Windows\n",
       "device_operatingSystemVersion                      not available in demo dataset\n",
       "device_screenColors                                not available in demo dataset\n",
       "device_screenResolution                            not available in demo dataset\n",
       "geoNetwork_city                                    not available in demo dataset\n",
       "geoNetwork_cityId                                  not available in demo dataset\n",
       "geoNetwork_continent                                                      Europe\n",
       "geoNetwork_country                                                       Germany\n",
       "geoNetwork_latitude                                not available in demo dataset\n",
       "geoNetwork_longitude                               not available in demo dataset\n",
       "geoNetwork_metro                                   not available in demo dataset\n",
       "geoNetwork_networkDomain                                               (not set)\n",
       "geoNetwork_networkLocation                         not available in demo dataset\n",
       "geoNetwork_region                                  not available in demo dataset\n",
       "geoNetwork_subContinent                                           Western Europe\n",
       "totals_bounces                                                                 1\n",
       "totals_hits                                                                    1\n",
       "totals_newVisits                                                               1\n",
       "totals_pageviews                                                               1\n",
       "totals_sessionQualityDim                                                       1\n",
       "totals_timeOnSite                                                            NaN\n",
       "totals_totalTransactionRevenue                                               NaN\n",
       "totals_transactionRevenue                                                    NaN\n",
       "totals_transactions                                                          NaN\n",
       "totals_visits                                                                  1\n",
       "trafficSource_adContent                                                      NaN\n",
       "trafficSource_adwordsClickInfo.adNetworkType                                 NaN\n",
       "trafficSource_adwordsClickInfo.criteriaParameters  not available in demo dataset\n",
       "trafficSource_adwordsClickInfo.gclId                                         NaN\n",
       "trafficSource_adwordsClickInfo.isVideoAd                                     NaN\n",
       "trafficSource_adwordsClickInfo.page                                          NaN\n",
       "trafficSource_adwordsClickInfo.slot                                          NaN\n",
       "trafficSource_campaign                                                 (not set)\n",
       "trafficSource_campaignCode                                                   NaN\n",
       "trafficSource_isTrueDirect                                                   NaN\n",
       "trafficSource_keyword                                               water bottle\n",
       "trafficSource_medium                                                     organic\n",
       "trafficSource_referralPath                                                   NaN\n",
       "trafficSource_source                                                      google"
      ]
     },
     "execution_count": 20,
     "metadata": {},
     "output_type": "execute_result"
    }
   ],
   "source": [
    "raw.head(1).T"
   ]
  },
  {
   "cell_type": "code",
   "execution_count": 43,
   "metadata": {
    "collapsed": false
   },
   "outputs": [],
   "source": [
    "raw_x = raw[(raw.date >= 20170501) & (raw.date <= 20171015)]\n",
    "raw_y = raw[(raw.date >= 20171201) & (raw.date <= 20180131)]"
   ]
  },
  {
   "cell_type": "code",
   "execution_count": 22,
   "metadata": {
    "collapsed": false
   },
   "outputs": [
    {
     "data": {
      "text/html": [
       "<div>\n",
       "<style scoped>\n",
       "    .dataframe tbody tr th:only-of-type {\n",
       "        vertical-align: middle;\n",
       "    }\n",
       "\n",
       "    .dataframe tbody tr th {\n",
       "        vertical-align: top;\n",
       "    }\n",
       "\n",
       "    .dataframe thead th {\n",
       "        text-align: right;\n",
       "    }\n",
       "</style>\n",
       "<table border=\"1\" class=\"dataframe\">\n",
       "  <thead>\n",
       "    <tr style=\"text-align: right;\">\n",
       "      <th></th>\n",
       "      <th>0</th>\n",
       "    </tr>\n",
       "  </thead>\n",
       "  <tbody>\n",
       "    <tr>\n",
       "      <th>fullVisitorId</th>\n",
       "      <td>0000049363351866189</td>\n",
       "    </tr>\n",
       "    <tr>\n",
       "      <th>date_min</th>\n",
       "      <td>2017-09-18</td>\n",
       "    </tr>\n",
       "    <tr>\n",
       "      <th>date_max</th>\n",
       "      <td>2017-09-19</td>\n",
       "    </tr>\n",
       "    <tr>\n",
       "      <th>visitNumber_max</th>\n",
       "      <td>3</td>\n",
       "    </tr>\n",
       "    <tr>\n",
       "      <th>totals_bounces_sum</th>\n",
       "      <td>3</td>\n",
       "    </tr>\n",
       "    <tr>\n",
       "      <th>totals_bounces_mean</th>\n",
       "      <td>1</td>\n",
       "    </tr>\n",
       "    <tr>\n",
       "      <th>totals_bounces_median</th>\n",
       "      <td>1</td>\n",
       "    </tr>\n",
       "    <tr>\n",
       "      <th>totals_hits_sum</th>\n",
       "      <td>3</td>\n",
       "    </tr>\n",
       "    <tr>\n",
       "      <th>totals_hits_min</th>\n",
       "      <td>1</td>\n",
       "    </tr>\n",
       "    <tr>\n",
       "      <th>totals_hits_max</th>\n",
       "      <td>1</td>\n",
       "    </tr>\n",
       "    <tr>\n",
       "      <th>totals_hits_mean</th>\n",
       "      <td>1</td>\n",
       "    </tr>\n",
       "    <tr>\n",
       "      <th>totals_hits_median</th>\n",
       "      <td>1</td>\n",
       "    </tr>\n",
       "    <tr>\n",
       "      <th>totals_newVisits_sum</th>\n",
       "      <td>1</td>\n",
       "    </tr>\n",
       "    <tr>\n",
       "      <th>totals_newVisits_mean</th>\n",
       "      <td>1</td>\n",
       "    </tr>\n",
       "    <tr>\n",
       "      <th>totals_newVisits_median</th>\n",
       "      <td>1</td>\n",
       "    </tr>\n",
       "    <tr>\n",
       "      <th>totals_pageviews_sum</th>\n",
       "      <td>3</td>\n",
       "    </tr>\n",
       "    <tr>\n",
       "      <th>totals_pageviews_min</th>\n",
       "      <td>1</td>\n",
       "    </tr>\n",
       "    <tr>\n",
       "      <th>totals_pageviews_max</th>\n",
       "      <td>1</td>\n",
       "    </tr>\n",
       "    <tr>\n",
       "      <th>totals_pageviews_mean</th>\n",
       "      <td>1</td>\n",
       "    </tr>\n",
       "    <tr>\n",
       "      <th>totals_pageviews_median</th>\n",
       "      <td>1</td>\n",
       "    </tr>\n",
       "    <tr>\n",
       "      <th>totals_sessionQualityDim_sum</th>\n",
       "      <td>3</td>\n",
       "    </tr>\n",
       "    <tr>\n",
       "      <th>totals_sessionQualityDim_min</th>\n",
       "      <td>1</td>\n",
       "    </tr>\n",
       "    <tr>\n",
       "      <th>totals_sessionQualityDim_max</th>\n",
       "      <td>1</td>\n",
       "    </tr>\n",
       "    <tr>\n",
       "      <th>totals_sessionQualityDim_mean</th>\n",
       "      <td>1</td>\n",
       "    </tr>\n",
       "    <tr>\n",
       "      <th>totals_sessionQualityDim_median</th>\n",
       "      <td>1</td>\n",
       "    </tr>\n",
       "    <tr>\n",
       "      <th>totals_timeOnSite_sum</th>\n",
       "      <td>0</td>\n",
       "    </tr>\n",
       "    <tr>\n",
       "      <th>totals_timeOnSite_min</th>\n",
       "      <td>NaN</td>\n",
       "    </tr>\n",
       "    <tr>\n",
       "      <th>totals_timeOnSite_max</th>\n",
       "      <td>NaN</td>\n",
       "    </tr>\n",
       "    <tr>\n",
       "      <th>totals_timeOnSite_mean</th>\n",
       "      <td>NaN</td>\n",
       "    </tr>\n",
       "    <tr>\n",
       "      <th>totals_timeOnSite_median</th>\n",
       "      <td>NaN</td>\n",
       "    </tr>\n",
       "    <tr>\n",
       "      <th>totals_totalTransactionRevenue_sum</th>\n",
       "      <td>0</td>\n",
       "    </tr>\n",
       "    <tr>\n",
       "      <th>totals_totalTransactionRevenue_size</th>\n",
       "      <td>3</td>\n",
       "    </tr>\n",
       "    <tr>\n",
       "      <th>totals_transactionRevenue_sum</th>\n",
       "      <td>0</td>\n",
       "    </tr>\n",
       "    <tr>\n",
       "      <th>totals_transactionRevenue_size</th>\n",
       "      <td>3</td>\n",
       "    </tr>\n",
       "    <tr>\n",
       "      <th>totals_transactions_sum</th>\n",
       "      <td>0</td>\n",
       "    </tr>\n",
       "    <tr>\n",
       "      <th>totals_transactions_min</th>\n",
       "      <td>NaN</td>\n",
       "    </tr>\n",
       "    <tr>\n",
       "      <th>totals_transactions_max</th>\n",
       "      <td>NaN</td>\n",
       "    </tr>\n",
       "    <tr>\n",
       "      <th>totals_transactions_mean</th>\n",
       "      <td>NaN</td>\n",
       "    </tr>\n",
       "    <tr>\n",
       "      <th>totals_transactions_median</th>\n",
       "      <td>NaN</td>\n",
       "    </tr>\n",
       "    <tr>\n",
       "      <th>totals_visits_sum</th>\n",
       "      <td>3</td>\n",
       "    </tr>\n",
       "    <tr>\n",
       "      <th>totals_visits_min</th>\n",
       "      <td>1</td>\n",
       "    </tr>\n",
       "    <tr>\n",
       "      <th>totals_visits_max</th>\n",
       "      <td>1</td>\n",
       "    </tr>\n",
       "    <tr>\n",
       "      <th>totals_visits_mean</th>\n",
       "      <td>1</td>\n",
       "    </tr>\n",
       "    <tr>\n",
       "      <th>totals_visits_median</th>\n",
       "      <td>1</td>\n",
       "    </tr>\n",
       "    <tr>\n",
       "      <th>sess_date_dow_min</th>\n",
       "      <td>0</td>\n",
       "    </tr>\n",
       "    <tr>\n",
       "      <th>sess_date_dow_max</th>\n",
       "      <td>1</td>\n",
       "    </tr>\n",
       "    <tr>\n",
       "      <th>sess_date_dow_mean</th>\n",
       "      <td>0.333333</td>\n",
       "    </tr>\n",
       "    <tr>\n",
       "      <th>sess_date_dow_median</th>\n",
       "      <td>0</td>\n",
       "    </tr>\n",
       "    <tr>\n",
       "      <th>sess_date_dow_var</th>\n",
       "      <td>0.333333</td>\n",
       "    </tr>\n",
       "    <tr>\n",
       "      <th>sess_date_dow_std</th>\n",
       "      <td>0.57735</td>\n",
       "    </tr>\n",
       "    <tr>\n",
       "      <th>sess_date_dom_min</th>\n",
       "      <td>18</td>\n",
       "    </tr>\n",
       "    <tr>\n",
       "      <th>sess_date_dom_max</th>\n",
       "      <td>19</td>\n",
       "    </tr>\n",
       "    <tr>\n",
       "      <th>sess_date_dom_mean</th>\n",
       "      <td>18.3333</td>\n",
       "    </tr>\n",
       "    <tr>\n",
       "      <th>sess_date_dom_median</th>\n",
       "      <td>18</td>\n",
       "    </tr>\n",
       "    <tr>\n",
       "      <th>sess_date_dom_var</th>\n",
       "      <td>0.333333</td>\n",
       "    </tr>\n",
       "    <tr>\n",
       "      <th>sess_date_dom_std</th>\n",
       "      <td>0.57735</td>\n",
       "    </tr>\n",
       "    <tr>\n",
       "      <th>date_diff</th>\n",
       "      <td>86400000000000</td>\n",
       "    </tr>\n",
       "    <tr>\n",
       "      <th>days_since_last_visit</th>\n",
       "      <td>2246400000000000</td>\n",
       "    </tr>\n",
       "    <tr>\n",
       "      <th>days_since_first_visit</th>\n",
       "      <td>2332800000000000</td>\n",
       "    </tr>\n",
       "    <tr>\n",
       "      <th>visit_frequency</th>\n",
       "      <td>3.47222e-14</td>\n",
       "    </tr>\n",
       "  </tbody>\n",
       "</table>\n",
       "</div>"
      ],
      "text/plain": [
       "                                                       0\n",
       "fullVisitorId                        0000049363351866189\n",
       "date_min                                      2017-09-18\n",
       "date_max                                      2017-09-19\n",
       "visitNumber_max                                        3\n",
       "totals_bounces_sum                                     3\n",
       "totals_bounces_mean                                    1\n",
       "totals_bounces_median                                  1\n",
       "totals_hits_sum                                        3\n",
       "totals_hits_min                                        1\n",
       "totals_hits_max                                        1\n",
       "totals_hits_mean                                       1\n",
       "totals_hits_median                                     1\n",
       "totals_newVisits_sum                                   1\n",
       "totals_newVisits_mean                                  1\n",
       "totals_newVisits_median                                1\n",
       "totals_pageviews_sum                                   3\n",
       "totals_pageviews_min                                   1\n",
       "totals_pageviews_max                                   1\n",
       "totals_pageviews_mean                                  1\n",
       "totals_pageviews_median                                1\n",
       "totals_sessionQualityDim_sum                           3\n",
       "totals_sessionQualityDim_min                           1\n",
       "totals_sessionQualityDim_max                           1\n",
       "totals_sessionQualityDim_mean                          1\n",
       "totals_sessionQualityDim_median                        1\n",
       "totals_timeOnSite_sum                                  0\n",
       "totals_timeOnSite_min                                NaN\n",
       "totals_timeOnSite_max                                NaN\n",
       "totals_timeOnSite_mean                               NaN\n",
       "totals_timeOnSite_median                             NaN\n",
       "totals_totalTransactionRevenue_sum                     0\n",
       "totals_totalTransactionRevenue_size                    3\n",
       "totals_transactionRevenue_sum                          0\n",
       "totals_transactionRevenue_size                         3\n",
       "totals_transactions_sum                                0\n",
       "totals_transactions_min                              NaN\n",
       "totals_transactions_max                              NaN\n",
       "totals_transactions_mean                             NaN\n",
       "totals_transactions_median                           NaN\n",
       "totals_visits_sum                                      3\n",
       "totals_visits_min                                      1\n",
       "totals_visits_max                                      1\n",
       "totals_visits_mean                                     1\n",
       "totals_visits_median                                   1\n",
       "sess_date_dow_min                                      0\n",
       "sess_date_dow_max                                      1\n",
       "sess_date_dow_mean                              0.333333\n",
       "sess_date_dow_median                                   0\n",
       "sess_date_dow_var                               0.333333\n",
       "sess_date_dow_std                                0.57735\n",
       "sess_date_dom_min                                     18\n",
       "sess_date_dom_max                                     19\n",
       "sess_date_dom_mean                               18.3333\n",
       "sess_date_dom_median                                  18\n",
       "sess_date_dom_var                               0.333333\n",
       "sess_date_dom_std                                0.57735\n",
       "date_diff                                 86400000000000\n",
       "days_since_last_visit                   2246400000000000\n",
       "days_since_first_visit                  2332800000000000\n",
       "visit_frequency                              3.47222e-14"
      ]
     },
     "execution_count": 22,
     "metadata": {},
     "output_type": "execute_result"
    }
   ],
   "source": [
    "x.head(1).T"
   ]
  },
  {
   "cell_type": "code",
   "execution_count": 15,
   "metadata": {
    "collapsed": false
   },
   "outputs": [
    {
     "data": {
      "text/html": [
       "<div>\n",
       "<style scoped>\n",
       "    .dataframe tbody tr th:only-of-type {\n",
       "        vertical-align: middle;\n",
       "    }\n",
       "\n",
       "    .dataframe tbody tr th {\n",
       "        vertical-align: top;\n",
       "    }\n",
       "\n",
       "    .dataframe thead th {\n",
       "        text-align: right;\n",
       "    }\n",
       "</style>\n",
       "<table border=\"1\" class=\"dataframe\">\n",
       "  <thead>\n",
       "    <tr style=\"text-align: right;\">\n",
       "      <th></th>\n",
       "      <th>673988</th>\n",
       "      <th>674984</th>\n",
       "      <th>1361332</th>\n",
       "    </tr>\n",
       "  </thead>\n",
       "  <tbody>\n",
       "    <tr>\n",
       "      <th>channelGrouping</th>\n",
       "      <td>Direct</td>\n",
       "      <td>Direct</td>\n",
       "      <td>Direct</td>\n",
       "    </tr>\n",
       "    <tr>\n",
       "      <th>date</th>\n",
       "      <td>20170918</td>\n",
       "      <td>20170918</td>\n",
       "      <td>20170919</td>\n",
       "    </tr>\n",
       "    <tr>\n",
       "      <th>fullVisitorId</th>\n",
       "      <td>0000049363351866189</td>\n",
       "      <td>0000049363351866189</td>\n",
       "      <td>0000049363351866189</td>\n",
       "    </tr>\n",
       "    <tr>\n",
       "      <th>socialEngagementType</th>\n",
       "      <td>Not Socially Engaged</td>\n",
       "      <td>Not Socially Engaged</td>\n",
       "      <td>Not Socially Engaged</td>\n",
       "    </tr>\n",
       "    <tr>\n",
       "      <th>visitId</th>\n",
       "      <td>1505779414</td>\n",
       "      <td>1505796426</td>\n",
       "      <td>1505863874</td>\n",
       "    </tr>\n",
       "    <tr>\n",
       "      <th>visitNumber</th>\n",
       "      <td>1</td>\n",
       "      <td>2</td>\n",
       "      <td>3</td>\n",
       "    </tr>\n",
       "    <tr>\n",
       "      <th>visitStartTime</th>\n",
       "      <td>1505779414</td>\n",
       "      <td>1505796426</td>\n",
       "      <td>1505863874</td>\n",
       "    </tr>\n",
       "    <tr>\n",
       "      <th>device_browser</th>\n",
       "      <td>Chrome</td>\n",
       "      <td>Chrome</td>\n",
       "      <td>Chrome</td>\n",
       "    </tr>\n",
       "    <tr>\n",
       "      <th>device_browserSize</th>\n",
       "      <td>not available in demo dataset</td>\n",
       "      <td>not available in demo dataset</td>\n",
       "      <td>not available in demo dataset</td>\n",
       "    </tr>\n",
       "    <tr>\n",
       "      <th>device_browserVersion</th>\n",
       "      <td>not available in demo dataset</td>\n",
       "      <td>not available in demo dataset</td>\n",
       "      <td>not available in demo dataset</td>\n",
       "    </tr>\n",
       "    <tr>\n",
       "      <th>device_deviceCategory</th>\n",
       "      <td>desktop</td>\n",
       "      <td>desktop</td>\n",
       "      <td>desktop</td>\n",
       "    </tr>\n",
       "    <tr>\n",
       "      <th>device_flashVersion</th>\n",
       "      <td>not available in demo dataset</td>\n",
       "      <td>not available in demo dataset</td>\n",
       "      <td>not available in demo dataset</td>\n",
       "    </tr>\n",
       "    <tr>\n",
       "      <th>device_isMobile</th>\n",
       "      <td>False</td>\n",
       "      <td>False</td>\n",
       "      <td>False</td>\n",
       "    </tr>\n",
       "    <tr>\n",
       "      <th>device_language</th>\n",
       "      <td>not available in demo dataset</td>\n",
       "      <td>not available in demo dataset</td>\n",
       "      <td>not available in demo dataset</td>\n",
       "    </tr>\n",
       "    <tr>\n",
       "      <th>device_mobileDeviceBranding</th>\n",
       "      <td>not available in demo dataset</td>\n",
       "      <td>not available in demo dataset</td>\n",
       "      <td>not available in demo dataset</td>\n",
       "    </tr>\n",
       "    <tr>\n",
       "      <th>device_mobileDeviceInfo</th>\n",
       "      <td>not available in demo dataset</td>\n",
       "      <td>not available in demo dataset</td>\n",
       "      <td>not available in demo dataset</td>\n",
       "    </tr>\n",
       "    <tr>\n",
       "      <th>device_mobileDeviceMarketingName</th>\n",
       "      <td>not available in demo dataset</td>\n",
       "      <td>not available in demo dataset</td>\n",
       "      <td>not available in demo dataset</td>\n",
       "    </tr>\n",
       "    <tr>\n",
       "      <th>device_mobileDeviceModel</th>\n",
       "      <td>not available in demo dataset</td>\n",
       "      <td>not available in demo dataset</td>\n",
       "      <td>not available in demo dataset</td>\n",
       "    </tr>\n",
       "    <tr>\n",
       "      <th>device_mobileInputSelector</th>\n",
       "      <td>not available in demo dataset</td>\n",
       "      <td>not available in demo dataset</td>\n",
       "      <td>not available in demo dataset</td>\n",
       "    </tr>\n",
       "    <tr>\n",
       "      <th>device_operatingSystem</th>\n",
       "      <td>Chrome OS</td>\n",
       "      <td>Chrome OS</td>\n",
       "      <td>Chrome OS</td>\n",
       "    </tr>\n",
       "    <tr>\n",
       "      <th>device_operatingSystemVersion</th>\n",
       "      <td>not available in demo dataset</td>\n",
       "      <td>not available in demo dataset</td>\n",
       "      <td>not available in demo dataset</td>\n",
       "    </tr>\n",
       "    <tr>\n",
       "      <th>device_screenColors</th>\n",
       "      <td>not available in demo dataset</td>\n",
       "      <td>not available in demo dataset</td>\n",
       "      <td>not available in demo dataset</td>\n",
       "    </tr>\n",
       "    <tr>\n",
       "      <th>device_screenResolution</th>\n",
       "      <td>not available in demo dataset</td>\n",
       "      <td>not available in demo dataset</td>\n",
       "      <td>not available in demo dataset</td>\n",
       "    </tr>\n",
       "    <tr>\n",
       "      <th>geoNetwork_city</th>\n",
       "      <td>Gurgaon</td>\n",
       "      <td>Gurgaon</td>\n",
       "      <td>not available in demo dataset</td>\n",
       "    </tr>\n",
       "    <tr>\n",
       "      <th>geoNetwork_cityId</th>\n",
       "      <td>not available in demo dataset</td>\n",
       "      <td>not available in demo dataset</td>\n",
       "      <td>not available in demo dataset</td>\n",
       "    </tr>\n",
       "    <tr>\n",
       "      <th>geoNetwork_continent</th>\n",
       "      <td>Asia</td>\n",
       "      <td>Asia</td>\n",
       "      <td>Asia</td>\n",
       "    </tr>\n",
       "    <tr>\n",
       "      <th>geoNetwork_country</th>\n",
       "      <td>India</td>\n",
       "      <td>India</td>\n",
       "      <td>India</td>\n",
       "    </tr>\n",
       "    <tr>\n",
       "      <th>geoNetwork_latitude</th>\n",
       "      <td>not available in demo dataset</td>\n",
       "      <td>not available in demo dataset</td>\n",
       "      <td>not available in demo dataset</td>\n",
       "    </tr>\n",
       "    <tr>\n",
       "      <th>geoNetwork_longitude</th>\n",
       "      <td>not available in demo dataset</td>\n",
       "      <td>not available in demo dataset</td>\n",
       "      <td>not available in demo dataset</td>\n",
       "    </tr>\n",
       "    <tr>\n",
       "      <th>geoNetwork_metro</th>\n",
       "      <td>(not set)</td>\n",
       "      <td>(not set)</td>\n",
       "      <td>not available in demo dataset</td>\n",
       "    </tr>\n",
       "    <tr>\n",
       "      <th>geoNetwork_networkDomain</th>\n",
       "      <td>(not set)</td>\n",
       "      <td>(not set)</td>\n",
       "      <td>(not set)</td>\n",
       "    </tr>\n",
       "    <tr>\n",
       "      <th>geoNetwork_networkLocation</th>\n",
       "      <td>not available in demo dataset</td>\n",
       "      <td>not available in demo dataset</td>\n",
       "      <td>not available in demo dataset</td>\n",
       "    </tr>\n",
       "    <tr>\n",
       "      <th>geoNetwork_region</th>\n",
       "      <td>Haryana</td>\n",
       "      <td>Haryana</td>\n",
       "      <td>not available in demo dataset</td>\n",
       "    </tr>\n",
       "    <tr>\n",
       "      <th>geoNetwork_subContinent</th>\n",
       "      <td>Southern Asia</td>\n",
       "      <td>Southern Asia</td>\n",
       "      <td>Southern Asia</td>\n",
       "    </tr>\n",
       "    <tr>\n",
       "      <th>totals_bounces</th>\n",
       "      <td>1</td>\n",
       "      <td>1</td>\n",
       "      <td>1</td>\n",
       "    </tr>\n",
       "    <tr>\n",
       "      <th>totals_hits</th>\n",
       "      <td>1</td>\n",
       "      <td>1</td>\n",
       "      <td>1</td>\n",
       "    </tr>\n",
       "    <tr>\n",
       "      <th>totals_newVisits</th>\n",
       "      <td>1</td>\n",
       "      <td>NaN</td>\n",
       "      <td>NaN</td>\n",
       "    </tr>\n",
       "    <tr>\n",
       "      <th>totals_pageviews</th>\n",
       "      <td>1</td>\n",
       "      <td>1</td>\n",
       "      <td>1</td>\n",
       "    </tr>\n",
       "    <tr>\n",
       "      <th>totals_sessionQualityDim</th>\n",
       "      <td>1</td>\n",
       "      <td>1</td>\n",
       "      <td>1</td>\n",
       "    </tr>\n",
       "    <tr>\n",
       "      <th>totals_timeOnSite</th>\n",
       "      <td>NaN</td>\n",
       "      <td>NaN</td>\n",
       "      <td>NaN</td>\n",
       "    </tr>\n",
       "    <tr>\n",
       "      <th>totals_totalTransactionRevenue</th>\n",
       "      <td>NaN</td>\n",
       "      <td>NaN</td>\n",
       "      <td>NaN</td>\n",
       "    </tr>\n",
       "    <tr>\n",
       "      <th>totals_transactionRevenue</th>\n",
       "      <td>NaN</td>\n",
       "      <td>NaN</td>\n",
       "      <td>NaN</td>\n",
       "    </tr>\n",
       "    <tr>\n",
       "      <th>totals_transactions</th>\n",
       "      <td>NaN</td>\n",
       "      <td>NaN</td>\n",
       "      <td>NaN</td>\n",
       "    </tr>\n",
       "    <tr>\n",
       "      <th>totals_visits</th>\n",
       "      <td>1</td>\n",
       "      <td>1</td>\n",
       "      <td>1</td>\n",
       "    </tr>\n",
       "    <tr>\n",
       "      <th>trafficSource_adContent</th>\n",
       "      <td>NaN</td>\n",
       "      <td>NaN</td>\n",
       "      <td>NaN</td>\n",
       "    </tr>\n",
       "    <tr>\n",
       "      <th>trafficSource_adwordsClickInfo.adNetworkType</th>\n",
       "      <td>NaN</td>\n",
       "      <td>NaN</td>\n",
       "      <td>NaN</td>\n",
       "    </tr>\n",
       "    <tr>\n",
       "      <th>trafficSource_adwordsClickInfo.criteriaParameters</th>\n",
       "      <td>not available in demo dataset</td>\n",
       "      <td>not available in demo dataset</td>\n",
       "      <td>not available in demo dataset</td>\n",
       "    </tr>\n",
       "    <tr>\n",
       "      <th>trafficSource_adwordsClickInfo.gclId</th>\n",
       "      <td>NaN</td>\n",
       "      <td>NaN</td>\n",
       "      <td>NaN</td>\n",
       "    </tr>\n",
       "    <tr>\n",
       "      <th>trafficSource_adwordsClickInfo.isVideoAd</th>\n",
       "      <td>NaN</td>\n",
       "      <td>NaN</td>\n",
       "      <td>NaN</td>\n",
       "    </tr>\n",
       "    <tr>\n",
       "      <th>trafficSource_adwordsClickInfo.page</th>\n",
       "      <td>NaN</td>\n",
       "      <td>NaN</td>\n",
       "      <td>NaN</td>\n",
       "    </tr>\n",
       "    <tr>\n",
       "      <th>trafficSource_adwordsClickInfo.slot</th>\n",
       "      <td>NaN</td>\n",
       "      <td>NaN</td>\n",
       "      <td>NaN</td>\n",
       "    </tr>\n",
       "    <tr>\n",
       "      <th>trafficSource_campaign</th>\n",
       "      <td>(not set)</td>\n",
       "      <td>(not set)</td>\n",
       "      <td>(not set)</td>\n",
       "    </tr>\n",
       "    <tr>\n",
       "      <th>trafficSource_campaignCode</th>\n",
       "      <td>NaN</td>\n",
       "      <td>NaN</td>\n",
       "      <td>NaN</td>\n",
       "    </tr>\n",
       "    <tr>\n",
       "      <th>trafficSource_isTrueDirect</th>\n",
       "      <td>True</td>\n",
       "      <td>True</td>\n",
       "      <td>True</td>\n",
       "    </tr>\n",
       "    <tr>\n",
       "      <th>trafficSource_keyword</th>\n",
       "      <td>NaN</td>\n",
       "      <td>NaN</td>\n",
       "      <td>NaN</td>\n",
       "    </tr>\n",
       "    <tr>\n",
       "      <th>trafficSource_medium</th>\n",
       "      <td>(none)</td>\n",
       "      <td>(none)</td>\n",
       "      <td>(none)</td>\n",
       "    </tr>\n",
       "    <tr>\n",
       "      <th>trafficSource_referralPath</th>\n",
       "      <td>NaN</td>\n",
       "      <td>NaN</td>\n",
       "      <td>NaN</td>\n",
       "    </tr>\n",
       "    <tr>\n",
       "      <th>trafficSource_source</th>\n",
       "      <td>(direct)</td>\n",
       "      <td>(direct)</td>\n",
       "      <td>(direct)</td>\n",
       "    </tr>\n",
       "  </tbody>\n",
       "</table>\n",
       "</div>"
      ],
      "text/plain": [
       "                                                                         673988   \\\n",
       "channelGrouping                                                           Direct   \n",
       "date                                                                    20170918   \n",
       "fullVisitorId                                                0000049363351866189   \n",
       "socialEngagementType                                        Not Socially Engaged   \n",
       "visitId                                                               1505779414   \n",
       "visitNumber                                                                    1   \n",
       "visitStartTime                                                        1505779414   \n",
       "device_browser                                                            Chrome   \n",
       "device_browserSize                                 not available in demo dataset   \n",
       "device_browserVersion                              not available in demo dataset   \n",
       "device_deviceCategory                                                    desktop   \n",
       "device_flashVersion                                not available in demo dataset   \n",
       "device_isMobile                                                            False   \n",
       "device_language                                    not available in demo dataset   \n",
       "device_mobileDeviceBranding                        not available in demo dataset   \n",
       "device_mobileDeviceInfo                            not available in demo dataset   \n",
       "device_mobileDeviceMarketingName                   not available in demo dataset   \n",
       "device_mobileDeviceModel                           not available in demo dataset   \n",
       "device_mobileInputSelector                         not available in demo dataset   \n",
       "device_operatingSystem                                                 Chrome OS   \n",
       "device_operatingSystemVersion                      not available in demo dataset   \n",
       "device_screenColors                                not available in demo dataset   \n",
       "device_screenResolution                            not available in demo dataset   \n",
       "geoNetwork_city                                                          Gurgaon   \n",
       "geoNetwork_cityId                                  not available in demo dataset   \n",
       "geoNetwork_continent                                                        Asia   \n",
       "geoNetwork_country                                                         India   \n",
       "geoNetwork_latitude                                not available in demo dataset   \n",
       "geoNetwork_longitude                               not available in demo dataset   \n",
       "geoNetwork_metro                                                       (not set)   \n",
       "geoNetwork_networkDomain                                               (not set)   \n",
       "geoNetwork_networkLocation                         not available in demo dataset   \n",
       "geoNetwork_region                                                        Haryana   \n",
       "geoNetwork_subContinent                                            Southern Asia   \n",
       "totals_bounces                                                                 1   \n",
       "totals_hits                                                                    1   \n",
       "totals_newVisits                                                               1   \n",
       "totals_pageviews                                                               1   \n",
       "totals_sessionQualityDim                                                       1   \n",
       "totals_timeOnSite                                                            NaN   \n",
       "totals_totalTransactionRevenue                                               NaN   \n",
       "totals_transactionRevenue                                                    NaN   \n",
       "totals_transactions                                                          NaN   \n",
       "totals_visits                                                                  1   \n",
       "trafficSource_adContent                                                      NaN   \n",
       "trafficSource_adwordsClickInfo.adNetworkType                                 NaN   \n",
       "trafficSource_adwordsClickInfo.criteriaParameters  not available in demo dataset   \n",
       "trafficSource_adwordsClickInfo.gclId                                         NaN   \n",
       "trafficSource_adwordsClickInfo.isVideoAd                                     NaN   \n",
       "trafficSource_adwordsClickInfo.page                                          NaN   \n",
       "trafficSource_adwordsClickInfo.slot                                          NaN   \n",
       "trafficSource_campaign                                                 (not set)   \n",
       "trafficSource_campaignCode                                                   NaN   \n",
       "trafficSource_isTrueDirect                                                  True   \n",
       "trafficSource_keyword                                                        NaN   \n",
       "trafficSource_medium                                                      (none)   \n",
       "trafficSource_referralPath                                                   NaN   \n",
       "trafficSource_source                                                    (direct)   \n",
       "\n",
       "                                                                         674984   \\\n",
       "channelGrouping                                                           Direct   \n",
       "date                                                                    20170918   \n",
       "fullVisitorId                                                0000049363351866189   \n",
       "socialEngagementType                                        Not Socially Engaged   \n",
       "visitId                                                               1505796426   \n",
       "visitNumber                                                                    2   \n",
       "visitStartTime                                                        1505796426   \n",
       "device_browser                                                            Chrome   \n",
       "device_browserSize                                 not available in demo dataset   \n",
       "device_browserVersion                              not available in demo dataset   \n",
       "device_deviceCategory                                                    desktop   \n",
       "device_flashVersion                                not available in demo dataset   \n",
       "device_isMobile                                                            False   \n",
       "device_language                                    not available in demo dataset   \n",
       "device_mobileDeviceBranding                        not available in demo dataset   \n",
       "device_mobileDeviceInfo                            not available in demo dataset   \n",
       "device_mobileDeviceMarketingName                   not available in demo dataset   \n",
       "device_mobileDeviceModel                           not available in demo dataset   \n",
       "device_mobileInputSelector                         not available in demo dataset   \n",
       "device_operatingSystem                                                 Chrome OS   \n",
       "device_operatingSystemVersion                      not available in demo dataset   \n",
       "device_screenColors                                not available in demo dataset   \n",
       "device_screenResolution                            not available in demo dataset   \n",
       "geoNetwork_city                                                          Gurgaon   \n",
       "geoNetwork_cityId                                  not available in demo dataset   \n",
       "geoNetwork_continent                                                        Asia   \n",
       "geoNetwork_country                                                         India   \n",
       "geoNetwork_latitude                                not available in demo dataset   \n",
       "geoNetwork_longitude                               not available in demo dataset   \n",
       "geoNetwork_metro                                                       (not set)   \n",
       "geoNetwork_networkDomain                                               (not set)   \n",
       "geoNetwork_networkLocation                         not available in demo dataset   \n",
       "geoNetwork_region                                                        Haryana   \n",
       "geoNetwork_subContinent                                            Southern Asia   \n",
       "totals_bounces                                                                 1   \n",
       "totals_hits                                                                    1   \n",
       "totals_newVisits                                                             NaN   \n",
       "totals_pageviews                                                               1   \n",
       "totals_sessionQualityDim                                                       1   \n",
       "totals_timeOnSite                                                            NaN   \n",
       "totals_totalTransactionRevenue                                               NaN   \n",
       "totals_transactionRevenue                                                    NaN   \n",
       "totals_transactions                                                          NaN   \n",
       "totals_visits                                                                  1   \n",
       "trafficSource_adContent                                                      NaN   \n",
       "trafficSource_adwordsClickInfo.adNetworkType                                 NaN   \n",
       "trafficSource_adwordsClickInfo.criteriaParameters  not available in demo dataset   \n",
       "trafficSource_adwordsClickInfo.gclId                                         NaN   \n",
       "trafficSource_adwordsClickInfo.isVideoAd                                     NaN   \n",
       "trafficSource_adwordsClickInfo.page                                          NaN   \n",
       "trafficSource_adwordsClickInfo.slot                                          NaN   \n",
       "trafficSource_campaign                                                 (not set)   \n",
       "trafficSource_campaignCode                                                   NaN   \n",
       "trafficSource_isTrueDirect                                                  True   \n",
       "trafficSource_keyword                                                        NaN   \n",
       "trafficSource_medium                                                      (none)   \n",
       "trafficSource_referralPath                                                   NaN   \n",
       "trafficSource_source                                                    (direct)   \n",
       "\n",
       "                                                                         1361332  \n",
       "channelGrouping                                                           Direct  \n",
       "date                                                                    20170919  \n",
       "fullVisitorId                                                0000049363351866189  \n",
       "socialEngagementType                                        Not Socially Engaged  \n",
       "visitId                                                               1505863874  \n",
       "visitNumber                                                                    3  \n",
       "visitStartTime                                                        1505863874  \n",
       "device_browser                                                            Chrome  \n",
       "device_browserSize                                 not available in demo dataset  \n",
       "device_browserVersion                              not available in demo dataset  \n",
       "device_deviceCategory                                                    desktop  \n",
       "device_flashVersion                                not available in demo dataset  \n",
       "device_isMobile                                                            False  \n",
       "device_language                                    not available in demo dataset  \n",
       "device_mobileDeviceBranding                        not available in demo dataset  \n",
       "device_mobileDeviceInfo                            not available in demo dataset  \n",
       "device_mobileDeviceMarketingName                   not available in demo dataset  \n",
       "device_mobileDeviceModel                           not available in demo dataset  \n",
       "device_mobileInputSelector                         not available in demo dataset  \n",
       "device_operatingSystem                                                 Chrome OS  \n",
       "device_operatingSystemVersion                      not available in demo dataset  \n",
       "device_screenColors                                not available in demo dataset  \n",
       "device_screenResolution                            not available in demo dataset  \n",
       "geoNetwork_city                                    not available in demo dataset  \n",
       "geoNetwork_cityId                                  not available in demo dataset  \n",
       "geoNetwork_continent                                                        Asia  \n",
       "geoNetwork_country                                                         India  \n",
       "geoNetwork_latitude                                not available in demo dataset  \n",
       "geoNetwork_longitude                               not available in demo dataset  \n",
       "geoNetwork_metro                                   not available in demo dataset  \n",
       "geoNetwork_networkDomain                                               (not set)  \n",
       "geoNetwork_networkLocation                         not available in demo dataset  \n",
       "geoNetwork_region                                  not available in demo dataset  \n",
       "geoNetwork_subContinent                                            Southern Asia  \n",
       "totals_bounces                                                                 1  \n",
       "totals_hits                                                                    1  \n",
       "totals_newVisits                                                             NaN  \n",
       "totals_pageviews                                                               1  \n",
       "totals_sessionQualityDim                                                       1  \n",
       "totals_timeOnSite                                                            NaN  \n",
       "totals_totalTransactionRevenue                                               NaN  \n",
       "totals_transactionRevenue                                                    NaN  \n",
       "totals_transactions                                                          NaN  \n",
       "totals_visits                                                                  1  \n",
       "trafficSource_adContent                                                      NaN  \n",
       "trafficSource_adwordsClickInfo.adNetworkType                                 NaN  \n",
       "trafficSource_adwordsClickInfo.criteriaParameters  not available in demo dataset  \n",
       "trafficSource_adwordsClickInfo.gclId                                         NaN  \n",
       "trafficSource_adwordsClickInfo.isVideoAd                                     NaN  \n",
       "trafficSource_adwordsClickInfo.page                                          NaN  \n",
       "trafficSource_adwordsClickInfo.slot                                          NaN  \n",
       "trafficSource_campaign                                                 (not set)  \n",
       "trafficSource_campaignCode                                                   NaN  \n",
       "trafficSource_isTrueDirect                                                  True  \n",
       "trafficSource_keyword                                                        NaN  \n",
       "trafficSource_medium                                                      (none)  \n",
       "trafficSource_referralPath                                                   NaN  \n",
       "trafficSource_source                                                    (direct)  "
      ]
     },
     "execution_count": 15,
     "metadata": {},
     "output_type": "execute_result"
    }
   ],
   "source": [
    "raw_x[raw_x.fullVisitorId == '0000049363351866189'].T"
   ]
  },
  {
   "cell_type": "code",
   "execution_count": 23,
   "metadata": {
    "collapsed": true
   },
   "outputs": [],
   "source": [
    "# for features device_browser, device_deviceCategory, geoNetwork_city, \n",
    "# geoNetwork_continent, geoNetwork_country, geoNetwork_region, geoNetwork_subContinent"
   ]
  },
  {
   "cell_type": "code",
   "execution_count": 25,
   "metadata": {
    "collapsed": false
   },
   "outputs": [
    {
     "data": {
      "text/plain": [
       "197854"
      ]
     },
     "execution_count": 25,
     "metadata": {},
     "output_type": "execute_result"
    }
   ],
   "source": [
    "raw_x.totals_bounces.isnull().sum()"
   ]
  },
  {
   "cell_type": "code",
   "execution_count": 27,
   "metadata": {
    "collapsed": false
   },
   "outputs": [
    {
     "data": {
      "text/plain": [
       "0"
      ]
     },
     "execution_count": 27,
     "metadata": {},
     "output_type": "execute_result"
    }
   ],
   "source": [
    "raw_x.totals_hits.isnull().sum()"
   ]
  },
  {
   "cell_type": "code",
   "execution_count": 28,
   "metadata": {
    "collapsed": false
   },
   "outputs": [
    {
     "data": {
      "text/plain": [
       "104196"
      ]
     },
     "execution_count": 28,
     "metadata": {},
     "output_type": "execute_result"
    }
   ],
   "source": [
    "raw_x.totals_newVisits.isnull().sum()"
   ]
  },
  {
   "cell_type": "code",
   "execution_count": 31,
   "metadata": {
    "collapsed": false
   },
   "outputs": [
    {
     "data": {
      "text/plain": [
       "1.0"
      ]
     },
     "execution_count": 31,
     "metadata": {},
     "output_type": "execute_result"
    }
   ],
   "source": [
    "raw_x.totals_pageviews.median()"
   ]
  },
  {
   "cell_type": "code",
   "execution_count": 35,
   "metadata": {
    "collapsed": false
   },
   "outputs": [
    {
     "data": {
      "text/plain": [
       "0.31739214293442725"
      ]
     },
     "execution_count": 35,
     "metadata": {},
     "output_type": "execute_result"
    }
   ],
   "source": [
    "raw_x.totals_sessionQualityDim.isnull().sum()/raw_x.shape[0]"
   ]
  },
  {
   "cell_type": "code",
   "execution_count": 38,
   "metadata": {
    "collapsed": false
   },
   "outputs": [
    {
     "data": {
      "text/plain": [
       "1.0"
      ]
     },
     "execution_count": 38,
     "metadata": {},
     "output_type": "execute_result"
    }
   ],
   "source": [
    "raw_x.totals_sessionQualityDim.median()"
   ]
  },
  {
   "cell_type": "code",
   "execution_count": 41,
   "metadata": {
    "collapsed": false
   },
   "outputs": [
    {
     "data": {
      "text/plain": [
       "2157.0"
      ]
     },
     "execution_count": 41,
     "metadata": {},
     "output_type": "execute_result"
    }
   ],
   "source": [
    "raw_x[raw_x.totals_sessionQualityDim.isnull()].totals_transactions.sum()"
   ]
  },
  {
   "cell_type": "code",
   "execution_count": 44,
   "metadata": {
    "collapsed": false
   },
   "outputs": [
    {
     "data": {
      "text/plain": [
       "2085"
      ]
     },
     "execution_count": 44,
     "metadata": {},
     "output_type": "execute_result"
    }
   ],
   "source": [
    "sum(raw_x[raw_x.totals_sessionQualityDim.isnull()].totals_totalTransactionRevenue > 0)"
   ]
  },
  {
   "cell_type": "code",
   "execution_count": 49,
   "metadata": {
    "collapsed": false
   },
   "outputs": [
    {
     "data": {
      "text/plain": [
       "<matplotlib.collections.PathCollection at 0x7f1d7f82dc50>"
      ]
     },
     "execution_count": 49,
     "metadata": {},
     "output_type": "execute_result"
    },
    {
     "data": {
      "image/png": "[encoded data removed]",
      "text/plain": [
       "<matplotlib.figure.Figure at 0x7f1d52ed8240>"
      ]
     },
     "metadata": {},
     "output_type": "display_data"
    }
   ],
   "source": [
    "plt.scatter(raw_x.totals_sessionQualityDim, raw_x.totals_timeOnSite)"
   ]
  },
  {
   "cell_type": "code",
   "execution_count": 52,
   "metadata": {
    "collapsed": false
   },
   "outputs": [
    {
     "data": {
      "text/plain": [
       "0.5369308425811369"
      ]
     },
     "execution_count": 52,
     "metadata": {},
     "output_type": "execute_result"
    }
   ],
   "source": [
    "raw_x.totals_timeOnSite.isnull().sum()/raw_x.shape[0]"
   ]
  },
  {
   "cell_type": "code",
   "execution_count": 54,
   "metadata": {
    "collapsed": false,
    "scrolled": true
   },
   "outputs": [
    {
     "data": {
      "text/plain": [
       "93.0"
      ]
     },
     "execution_count": 54,
     "metadata": {},
     "output_type": "execute_result"
    }
   ],
   "source": [
    "raw_x.totals_timeOnSite.median()"
   ]
  },
  {
   "cell_type": "code",
   "execution_count": 56,
   "metadata": {
    "collapsed": false
   },
   "outputs": [
    {
     "data": {
      "text/plain": [
       "794.0"
      ]
     },
     "execution_count": 56,
     "metadata": {},
     "output_type": "execute_result"
    }
   ],
   "source": [
    "raw_x[raw_x.totals_transactionRevenue > 0].totals_timeOnSite.median()"
   ]
  },
  {
   "cell_type": "code",
   "execution_count": 57,
   "metadata": {
    "collapsed": false
   },
   "outputs": [
    {
     "data": {
      "text/plain": [
       "<matplotlib.collections.PathCollection at 0x7f1d52e56e10>"
      ]
     },
     "execution_count": 57,
     "metadata": {},
     "output_type": "execute_result"
    },
    {
     "data": {
      "image/png": "[encoded data removed]",
      "text/plain": [
       "<matplotlib.figure.Figure at 0x7f1d52e62550>"
      ]
     },
     "metadata": {},
     "output_type": "display_data"
    }
   ],
   "source": [
    "plt.scatter(raw_x.totals_transactionRevenue, raw_x.totals_timeOnSite)"
   ]
  },
  {
   "cell_type": "code",
   "execution_count": 59,
   "metadata": {
    "collapsed": false
   },
   "outputs": [
    {
     "data": {
      "text/plain": [
       "<matplotlib.collections.PathCollection at 0x7f1d7f7605f8>"
      ]
     },
     "execution_count": 59,
     "metadata": {},
     "output_type": "execute_result"
    },
    {
     "data": {
      "image/png": "[encoded data removed]",
      "text/plain": [
       "<matplotlib.figure.Figure at 0x7f1d52d522e8>"
      ]
     },
     "metadata": {},
     "output_type": "display_data"
    }
   ],
   "source": [
    "plt.scatter(raw_x.totals_transactionRevenue, raw_x.totals_sessionQualityDim)"
   ]
  },
  {
   "cell_type": "code",
   "execution_count": 60,
   "metadata": {
    "collapsed": false
   },
   "outputs": [
    {
     "data": {
      "text/plain": [
       "<matplotlib.collections.PathCollection at 0x7f1d7f734898>"
      ]
     },
     "execution_count": 60,
     "metadata": {},
     "output_type": "execute_result"
    },
    {
     "data": {
      "image/png": "[encoded data removed]",
      "text/plain": [
       "<matplotlib.figure.Figure at 0x7f1d52cd8b70>"
      ]
     },
     "metadata": {},
     "output_type": "display_data"
    }
   ],
   "source": [
    "plt.scatter(raw_x[raw_x.totals_transactionRevenue > 0].totals_transactionRevenue, raw_x[raw_x.totals_transactionRevenue > 0].totals_sessionQualityDim)"
   ]
  },
  {
   "cell_type": "code",
   "execution_count": 64,
   "metadata": {
    "collapsed": false
   },
   "outputs": [
    {
     "data": {
      "text/plain": [
       "0"
      ]
     },
     "execution_count": 64,
     "metadata": {},
     "output_type": "execute_result"
    }
   ],
   "source": [
    "raw_x.totals_visits.isnull().sum()"
   ]
  },
  {
   "cell_type": "code",
   "execution_count": 66,
   "metadata": {
    "collapsed": false
   },
   "outputs": [
    {
     "data": {
      "text/plain": [
       "count    425146.0\n",
       "mean          1.0\n",
       "std           0.0\n",
       "min           1.0\n",
       "25%           1.0\n",
       "50%           1.0\n",
       "75%           1.0\n",
       "max           1.0\n",
       "Name: totals_visits, dtype: float64"
      ]
     },
     "execution_count": 66,
     "metadata": {},
     "output_type": "execute_result"
    }
   ],
   "source": [
    "raw_x.totals_visits.describe()"
   ]
  },
  {
   "cell_type": "code",
   "execution_count": 68,
   "metadata": {
    "collapsed": false
   },
   "outputs": [
    {
     "data": {
      "text/plain": [
       "1    1.0\n",
       "Name: totals_visits_min, dtype: float64"
      ]
     },
     "execution_count": 68,
     "metadata": {},
     "output_type": "execute_result"
    }
   ],
   "source": [
    "x.totals_visits_min.value_counts()/x.shape[0]"
   ]
  },
  {
   "cell_type": "code",
   "execution_count": 70,
   "metadata": {
    "collapsed": false
   },
   "outputs": [
    {
     "data": {
      "text/plain": [
       "Index(['socialEngagementType', 'device_browserSize', 'device_browserVersion',\n",
       "       'device_flashVersion', 'device_language', 'device_mobileDeviceBranding',\n",
       "       'device_mobileDeviceInfo', 'device_mobileDeviceMarketingName',\n",
       "       'device_mobileDeviceModel', 'device_mobileInputSelector',\n",
       "       'device_operatingSystemVersion', 'device_screenColors',\n",
       "       'device_screenResolution', 'geoNetwork_cityId', 'geoNetwork_latitude',\n",
       "       'geoNetwork_longitude', 'geoNetwork_networkLocation', 'totals_visits',\n",
       "       'trafficSource_adwordsClickInfo.criteriaParameters',\n",
       "       'trafficSource_campaignCode'],\n",
       "      dtype='object')"
      ]
     },
     "execution_count": 70,
     "metadata": {},
     "output_type": "execute_result"
    }
   ],
   "source": [
    "raw_x.columns[raw_x.nunique(dropna=False) == 1]"
   ]
  },
  {
   "cell_type": "code",
   "execution_count": 72,
   "metadata": {
    "collapsed": false
   },
   "outputs": [
    {
     "data": {
      "text/plain": [
       "1    425146\n",
       "Name: totals_visits, dtype: int64"
      ]
     },
     "execution_count": 72,
     "metadata": {},
     "output_type": "execute_result"
    }
   ],
   "source": [
    "raw_x.totals_visits.value_counts()"
   ]
  },
  {
   "cell_type": "code",
   "execution_count": 73,
   "metadata": {
    "collapsed": false
   },
   "outputs": [
    {
     "data": {
      "text/plain": [
       "channelGrouping                                           8\n",
       "date                                                    168\n",
       "fullVisitorId                                        329636\n",
       "socialEngagementType                                      1\n",
       "visitId                                              416188\n",
       "visitNumber                                             325\n",
       "visitStartTime                                       416642\n",
       "device_browser                                           47\n",
       "device_browserSize                                        1\n",
       "device_browserVersion                                     1\n",
       "device_deviceCategory                                     3\n",
       "device_flashVersion                                       1\n",
       "device_isMobile                                           2\n",
       "device_language                                           1\n",
       "device_mobileDeviceBranding                               1\n",
       "device_mobileDeviceInfo                                   1\n",
       "device_mobileDeviceMarketingName                          1\n",
       "device_mobileDeviceModel                                  1\n",
       "device_mobileInputSelector                                1\n",
       "device_operatingSystem                                   18\n",
       "device_operatingSystemVersion                             1\n",
       "device_screenColors                                       1\n",
       "device_screenResolution                                   1\n",
       "geoNetwork_city                                         437\n",
       "geoNetwork_cityId                                         1\n",
       "geoNetwork_continent                                      6\n",
       "geoNetwork_country                                      216\n",
       "geoNetwork_latitude                                       1\n",
       "geoNetwork_longitude                                      1\n",
       "geoNetwork_metro                                         83\n",
       "geoNetwork_networkDomain                              17202\n",
       "geoNetwork_networkLocation                                1\n",
       "geoNetwork_region                                       259\n",
       "geoNetwork_subContinent                                  23\n",
       "totals_bounces                                            2\n",
       "totals_hits                                             196\n",
       "totals_newVisits                                          2\n",
       "totals_pageviews                                        138\n",
       "totals_sessionQualityDim                                101\n",
       "totals_timeOnSite                                      3557\n",
       "totals_totalTransactionRevenue                         3532\n",
       "totals_transactionRevenue                              3018\n",
       "totals_transactions                                       7\n",
       "totals_visits                                             1\n",
       "trafficSource_adContent                                  47\n",
       "trafficSource_adwordsClickInfo.adNetworkType              4\n",
       "trafficSource_adwordsClickInfo.criteriaParameters         1\n",
       "trafficSource_adwordsClickInfo.gclId                  32162\n",
       "trafficSource_adwordsClickInfo.isVideoAd                  2\n",
       "trafficSource_adwordsClickInfo.page                       9\n",
       "trafficSource_adwordsClickInfo.slot                       3\n",
       "trafficSource_campaign                                   16\n",
       "trafficSource_campaignCode                                1\n",
       "trafficSource_isTrueDirect                                2\n",
       "trafficSource_keyword                                  2158\n",
       "trafficSource_medium                                      7\n",
       "trafficSource_referralPath                             1002\n",
       "trafficSource_source                                    190\n",
       "dtype: int64"
      ]
     },
     "execution_count": 73,
     "metadata": {},
     "output_type": "execute_result"
    }
   ],
   "source": [
    "raw_x.nunique(dropna=False)"
   ]
  },
  {
   "cell_type": "code",
   "execution_count": 18,
   "metadata": {
    "collapsed": false
   },
   "outputs": [
    {
     "ename": "NameError",
     "evalue": "name 'raw_x' is not defined",
     "output_type": "error",
     "traceback": [
      "\u001b[0;31m---------------------------------------------------------------------------\u001b[0m",
      "\u001b[0;31mNameError\u001b[0m                                 Traceback (most recent call last)",
      "\u001b[0;32m<ipython-input-18-0f0e6ce3dd6e>\u001b[0m in \u001b[0;36m<module>\u001b[0;34m()\u001b[0m\n\u001b[0;32m----> 1\u001b[0;31m \u001b[0mraw_x\u001b[0m\u001b[0;34m.\u001b[0m\u001b[0mdrop\u001b[0m\u001b[0;34m(\u001b[0m\u001b[0;34m'socialEngagementType'\u001b[0m\u001b[0;34m,\u001b[0m \u001b[0maxis\u001b[0m\u001b[0;34m=\u001b[0m\u001b[0;36m1\u001b[0m\u001b[0;34m)\u001b[0m\u001b[0;34m.\u001b[0m\u001b[0mcolumns\u001b[0m\u001b[0;34m\u001b[0m\u001b[0m\n\u001b[0m",
      "\u001b[0;31mNameError\u001b[0m: name 'raw_x' is not defined"
     ]
    }
   ],
   "source": [
    "raw_x.drop('socialEngagementType', axis=1).columns"
   ]
  },
  {
   "cell_type": "code",
   "execution_count": 20,
   "metadata": {
    "collapsed": true
   },
   "outputs": [],
   "source": [
    "# for features device_browser, device_deviceCategory, geoNetwork_city, \n",
    "# geoNetwork_continent, geoNetwork_country, geoNetwork_region, geoNetwork_subContinent\n",
    "\n",
    "train = pd.merge(x, y, on='fullVisitorId', how='left')"
   ]
  },
  {
   "cell_type": "code",
   "execution_count": 22,
   "metadata": {
    "collapsed": false
   },
   "outputs": [
    {
     "data": {
      "text/plain": [
       "329636"
      ]
     },
     "execution_count": 22,
     "metadata": {},
     "output_type": "execute_result"
    }
   ],
   "source": [
    "train.shape[0]"
   ]
  },
  {
   "cell_type": "code",
   "execution_count": 45,
   "metadata": {
    "collapsed": false
   },
   "outputs": [
    {
     "name": "stderr",
     "output_type": "stream",
     "text": [
      "/home/neha/anaconda3/lib/python3.6/site-packages/ipykernel/__main__.py:1: SettingWithCopyWarning: \n",
      "A value is trying to be set on a copy of a slice from a DataFrame.\n",
      "Try using .loc[row_indexer,col_indexer] = value instead\n",
      "\n",
      "See the caveats in the documentation: http://pandas.pydata.org/pandas-docs/stable/indexing.html#indexing-view-versus-copy\n",
      "  if __name__ == '__main__':\n"
     ]
    }
   ],
   "source": [
    "raw_x['t'] = 0"
   ]
  },
  {
   "cell_type": "code",
   "execution_count": 48,
   "metadata": {
    "collapsed": false
   },
   "outputs": [
    {
     "name": "stderr",
     "output_type": "stream",
     "text": [
      "/home/neha/anaconda3/lib/python3.6/site-packages/pandas/core/indexing.py:543: SettingWithCopyWarning: \n",
      "A value is trying to be set on a copy of a slice from a DataFrame.\n",
      "Try using .loc[row_indexer,col_indexer] = value instead\n",
      "\n",
      "See the caveats in the documentation: http://pandas.pydata.org/pandas-docs/stable/indexing.html#indexing-view-versus-copy\n",
      "  self.obj[item] = s\n"
     ]
    }
   ],
   "source": [
    "raw_x.loc[raw_x.totals_transactionRevenue > 0, 't'] = 1"
   ]
  },
  {
   "cell_type": "code",
   "execution_count": 49,
   "metadata": {
    "collapsed": false
   },
   "outputs": [
    {
     "data": {
      "text/plain": [
       "5547"
      ]
     },
     "execution_count": 49,
     "metadata": {},
     "output_type": "execute_result"
    }
   ],
   "source": [
    "raw_x.t.sum()"
   ]
  },
  {
   "cell_type": "code",
   "execution_count": 51,
   "metadata": {
    "collapsed": false
   },
   "outputs": [
    {
     "data": {
      "text/plain": [
       "device_browser\n",
       "Chrome                                         0.016888\n",
       "Firefox                                        0.009221\n",
       "Internet Explorer                              0.004790\n",
       "Safari                                         0.004576\n",
       "Edge                                           0.004120\n",
       "Opera                                          0.002964\n",
       "Safari (in-app)                                0.001610\n",
       "Samsung Internet                               0.000593\n",
       "Android Webview                                0.000562\n",
       "Amazon Silk                                    0.000000\n",
       "IE with Chrome Frame                           0.000000\n",
       "+Simple Browser                                0.000000\n",
       "DDG-Android-3.1.1                              0.000000\n",
       "Coc Coc                                        0.000000\n",
       "0                                              0.000000\n",
       "Changa 99695759                                0.000000\n",
       "Browser                                        0.000000\n",
       "CSM Click                                      0.000000\n",
       "Android Browser                                0.000000\n",
       "BlackBerry                                     0.000000\n",
       "Iron                                           0.000000\n",
       "Autn-WKOOP                                     0.000000\n",
       "Apple-iPhone7C2                                0.000000\n",
       "Android Runtime                                0.000000\n",
       "wfpknuqxovyilmrdzbhgtecjas                     0.000000\n",
       "MRCHROME                                       0.000000\n",
       "Konqueror                                      0.000000\n",
       "SAMSUNG-SM-B355E Opera                         0.000000\n",
       "tfowdqmibyshaklxuregpcnzvj                     0.000000\n",
       "osee2unifiedRelease                            0.000000\n",
       "ecgiwapzltrkujdhmqsbxfonvy                     0.000000\n",
       "[Use default User-agent string] LIVRENPOCHE    0.000000\n",
       "YaBrowser                                      0.000000\n",
       "UC Browser                                     0.000000\n",
       "Seznam                                         0.000000\n",
       "SeaMonkey                                      0.000000\n",
       "Puffin                                         0.000000\n",
       "MQQBrowser                                     0.000000\n",
       "Opera Mini                                     0.000000\n",
       "Nokia Browser                                  0.000000\n",
       "Nintendo Browser                               0.000000\n",
       "Netscape                                       0.000000\n",
       "Mozilla Compatible Agent                       0.000000\n",
       "Mozilla                                        0.000000\n",
       "Maxthon                                        0.000000\n",
       "ujvrzsonxihlgaqdmkwtbfcpey                     0.000000\n",
       "(not set)                                      0.000000\n",
       "Name: t, dtype: float64"
      ]
     },
     "execution_count": 51,
     "metadata": {},
     "output_type": "execute_result"
    }
   ],
   "source": [
    "raw_x.groupby('device_browser')['t'].mean().sort_values(ascending=False)"
   ]
  },
  {
   "cell_type": "code",
   "execution_count": 52,
   "metadata": {
    "collapsed": false
   },
   "outputs": [
    {
     "data": {
      "text/plain": [
       "Chrome                                         294833\n",
       "Safari                                          77585\n",
       "Firefox                                         15182\n",
       "Internet Explorer                                7307\n",
       "Android Webview                                  7113\n",
       "Samsung Internet                                 6743\n",
       "Edge                                             4612\n",
       "Safari (in-app)                                  3727\n",
       "Opera Mini                                       3287\n",
       "Opera                                            1687\n",
       "UC Browser                                       1470\n",
       "Amazon Silk                                       384\n",
       "YaBrowser                                         328\n",
       "Android Browser                                   227\n",
       "Coc Coc                                           213\n",
       "Mozilla Compatible Agent                          138\n",
       "Maxthon                                            72\n",
       "Puffin                                             66\n",
       "BlackBerry                                         57\n",
       "MRCHROME                                           20\n",
       "osee2unifiedRelease                                17\n",
       "Nokia Browser                                      12\n",
       "Nintendo Browser                                   11\n",
       "Apple-iPhone7C2                                    10\n",
       "0                                                   7\n",
       "(not set)                                           5\n",
       "SeaMonkey                                           4\n",
       "Iron                                                4\n",
       "Mozilla                                             3\n",
       "Seznam                                              3\n",
       "CSM Click                                           2\n",
       "Autn-WKOOP                                          2\n",
       "wfpknuqxovyilmrdzbhgtecjas                          1\n",
       "Android Runtime                                     1\n",
       "SAMSUNG-SM-B355E Opera                              1\n",
       "Browser                                             1\n",
       "ecgiwapzltrkujdhmqsbxfonvy                          1\n",
       "MQQBrowser                                          1\n",
       "+Simple Browser                                     1\n",
       "Changa 99695759                                     1\n",
       "DDG-Android-3.1.1                                   1\n",
       "ujvrzsonxihlgaqdmkwtbfcpey                          1\n",
       "IE with Chrome Frame                                1\n",
       "Netscape                                            1\n",
       "Konqueror                                           1\n",
       "tfowdqmibyshaklxuregpcnzvj                          1\n",
       "[Use default User-agent string] LIVRENPOCHE         1\n",
       "Name: device_browser, dtype: int64"
      ]
     },
     "execution_count": 52,
     "metadata": {},
     "output_type": "execute_result"
    }
   ],
   "source": [
    "raw_x.device_browser.value_counts()"
   ]
  },
  {
   "cell_type": "code",
   "execution_count": 53,
   "metadata": {
    "collapsed": false
   },
   "outputs": [
    {
     "data": {
      "text/plain": [
       "device_deviceCategory\n",
       "desktop    0.019395\n",
       "mobile     0.002773\n",
       "tablet     0.003337\n",
       "Name: t, dtype: float64"
      ]
     },
     "execution_count": 53,
     "metadata": {},
     "output_type": "execute_result"
    }
   ],
   "source": [
    "raw_x.groupby('device_deviceCategory')['t'].mean().sort_values(ascending=False)"
   ]
  },
  {
   "cell_type": "code",
   "execution_count": 65,
   "metadata": {
    "collapsed": false
   },
   "outputs": [
    {
     "data": {
      "text/plain": [
       "array(['Richmond', 'Las Vegas', 'Edison', 'Tacoma', 'Walnut Creek',\n",
       "       'Chelmsford', 'Dundalk', 'Council Bluffs'], dtype=object)"
      ]
     },
     "execution_count": 65,
     "metadata": {},
     "output_type": "execute_result"
    }
   ],
   "source": [
    "p = raw_x.groupby('geoNetwork_city')['t'].mean().sort_values(ascending=False)\n",
    "p[p> 0.1].index.values"
   ]
  },
  {
   "cell_type": "code",
   "execution_count": 78,
   "metadata": {
    "collapsed": false
   },
   "outputs": [
    {
     "data": {
      "text/plain": [
       "array(['Reston', 'Ann Arbor', 'Lake Oswego', 'Milwaukee', 'San Bruno',\n",
       "       'Bellevue', 'Baltimore', 'Kirkland', 'Cambridge', 'Austin'],\n",
       "      dtype=object)"
      ]
     },
     "execution_count": 78,
     "metadata": {},
     "output_type": "execute_result"
    }
   ],
   "source": [
    "p[(p > 0.05) & (p<0.1)].index.values"
   ]
  },
  {
   "cell_type": "code",
   "execution_count": 77,
   "metadata": {
    "collapsed": false
   },
   "outputs": [
    {
     "data": {
      "text/plain": [
       "array(['New York', 'Berkeley', 'Seattle', 'Chicago', 'Milpitas', 'Irvine',\n",
       "       'Sunnyvale', 'Boulder', 'Barrie', 'San Marcos', 'Mountain View',\n",
       "       'Cupertino', 'Oakland', 'Atlanta', 'Jersey City', 'San Francisco'],\n",
       "      dtype=object)"
      ]
     },
     "execution_count": 77,
     "metadata": {},
     "output_type": "execute_result"
    }
   ],
   "source": [
    "p[(p > 0.03) & (p<0.05)].index.values"
   ]
  },
  {
   "cell_type": "code",
   "execution_count": 76,
   "metadata": {
    "collapsed": false
   },
   "outputs": [
    {
     "data": {
      "text/plain": [
       "array(['Oklahoma City', 'Salem', 'Los Angeles', 'Calgary', 'Kansas City',\n",
       "       'Fremont', 'Pittsburgh', 'Santa Clara', 'Palo Alto',\n",
       "       'Redwood City', 'San Mateo', 'Birmingham', 'Portland', 'San Diego',\n",
       "       'Fresno', 'San Jose', 'Washington', 'Minneapolis', 'Chico',\n",
       "       'Omaha', 'Santa Monica', 'South San Francisco', 'Denver',\n",
       "       'Nashville', 'Boston', 'Dallas', 'Houston', 'Columbus', 'Raleigh'],\n",
       "      dtype=object)"
      ]
     },
     "execution_count": 76,
     "metadata": {},
     "output_type": "execute_result"
    }
   ],
   "source": [
    "p[(p > 0.01) & (p<0.03)].index.values"
   ]
  },
  {
   "cell_type": "code",
   "execution_count": 58,
   "metadata": {
    "collapsed": false
   },
   "outputs": [
    {
     "data": {
      "text/plain": [
       "geoNetwork_continent\n",
       "Americas     0.023118\n",
       "(not set)    0.003604\n",
       "Oceania      0.000980\n",
       "Africa       0.000725\n",
       "Asia         0.000606\n",
       "Europe       0.000531\n",
       "Name: t, dtype: float64"
      ]
     },
     "execution_count": 58,
     "metadata": {},
     "output_type": "execute_result"
    }
   ],
   "source": [
    "# geoNetwork_continent, geoNetwork_country, geoNetwork_region, geoNetwork_subContinent\n",
    "raw_x.groupby('geoNetwork_continent')['t'].mean().sort_values(ascending=False)"
   ]
  },
  {
   "cell_type": "code",
   "execution_count": 60,
   "metadata": {
    "collapsed": false
   },
   "outputs": [
    {
     "data": {
      "text/plain": [
       "geoNetwork_country\n",
       "St. Lucia                   0.066667\n",
       "United States               0.026883\n",
       "Canada                      0.007814\n",
       "Venezuela                   0.005837\n",
       "Cambodia                    0.005747\n",
       "Panama                      0.005076\n",
       "Guatemala                   0.004255\n",
       "(not set)                   0.003604\n",
       "Puerto Rico                 0.002976\n",
       "Finland                     0.002488\n",
       "Switzerland                 0.002405\n",
       "Nigeria                     0.002086\n",
       "Ukraine                     0.001992\n",
       "Greece                      0.001971\n",
       "Chile                       0.001970\n",
       "Israel                      0.001790\n",
       "Indonesia                   0.001640\n",
       "Mexico                      0.001627\n",
       "Singapore                   0.001594\n",
       "Argentina                   0.001350\n",
       "Belgium                     0.001315\n",
       "Egypt                       0.001218\n",
       "Norway                      0.001202\n",
       "Taiwan                      0.001184\n",
       "South Korea                 0.001152\n",
       "Malaysia                    0.001141\n",
       "South Africa                0.001107\n",
       "Australia                   0.001032\n",
       "Hong Kong                   0.000917\n",
       "Sweden                      0.000871\n",
       "                              ...   \n",
       "Kuwait                      0.000000\n",
       "Kosovo                      0.000000\n",
       "Kenya                       0.000000\n",
       "Kazakhstan                  0.000000\n",
       "Jordan                      0.000000\n",
       "Jersey                      0.000000\n",
       "Mali                        0.000000\n",
       "Malta                       0.000000\n",
       "Martinique                  0.000000\n",
       "Mauritania                  0.000000\n",
       "Palestine                   0.000000\n",
       "Pakistan                    0.000000\n",
       "Oman                        0.000000\n",
       "Northern Mariana Islands    0.000000\n",
       "Niger                       0.000000\n",
       "Nicaragua                   0.000000\n",
       "New Caledonia               0.000000\n",
       "Nepal                       0.000000\n",
       "Namibia                     0.000000\n",
       "Myanmar (Burma)             0.000000\n",
       "Mozambique                  0.000000\n",
       "Morocco                     0.000000\n",
       "Montserrat                  0.000000\n",
       "Montenegro                  0.000000\n",
       "Mongolia                    0.000000\n",
       "Monaco                      0.000000\n",
       "Moldova                     0.000000\n",
       "Mayotte                     0.000000\n",
       "Mauritius                   0.000000\n",
       "Lebanon                     0.000000\n",
       "Name: t, Length: 216, dtype: float64"
      ]
     },
     "execution_count": 60,
     "metadata": {},
     "output_type": "execute_result"
    }
   ],
   "source": [
    "raw_x.groupby('geoNetwork_country')['t'].mean().sort_values(ascending=False)"
   ]
  },
  {
   "cell_type": "code",
   "execution_count": 61,
   "metadata": {
    "collapsed": false
   },
   "outputs": [
    {
     "data": {
      "text/plain": [
       "geoNetwork_region\n",
       "Maryland                         0.061224\n",
       "Michigan                         0.058184\n",
       "New York                         0.048316\n",
       "Illinois                         0.045540\n",
       "Washington                       0.041821\n",
       "Massachusetts                    0.040000\n",
       "Iowa                             0.038462\n",
       "Oregon                           0.033505\n",
       "California                       0.033466\n",
       "Georgia                          0.033391\n",
       "Oklahoma                         0.028571\n",
       "Colorado                         0.025826\n",
       "Texas                            0.025123\n",
       "Wisconsin                        0.023810\n",
       "New Jersey                       0.022346\n",
       "Virginia                         0.022173\n",
       "District of Columbia             0.021326\n",
       "Alberta                          0.020408\n",
       "Minnesota                        0.019512\n",
       "Nebraska                         0.018519\n",
       "Missouri                         0.016393\n",
       "Nevada                           0.016129\n",
       "Pennsylvania                     0.015862\n",
       "Arizona                          0.009119\n",
       "Tennessee                        0.009009\n",
       "not available in demo dataset    0.008518\n",
       "Ontario                          0.008426\n",
       "British Columbia                 0.008065\n",
       "Quebec                           0.007913\n",
       "Ohio                             0.007812\n",
       "                                   ...   \n",
       "Izmir                            0.000000\n",
       "South Australia                  0.000000\n",
       "Tyrol                            0.000000\n",
       "Indiana                          0.000000\n",
       "Lima Region                      0.000000\n",
       "Ljubljana                        0.000000\n",
       "Nakhon Ratchasima                0.000000\n",
       "Lombardy                         0.000000\n",
       "Nairobi County                   0.000000\n",
       "Nagano Prefecture                0.000000\n",
       "Moravian-Silesian Region         0.000000\n",
       "Montana                          0.000000\n",
       "Miyazaki Prefecture              0.000000\n",
       "Minsk Region                     0.000000\n",
       "Tamaulipas                       0.000000\n",
       "Taoyuan County                   0.000000\n",
       "Metro Manila                     0.000000\n",
       "Meghalaya                        0.000000\n",
       "Tatarstan                        0.000000\n",
       "Masovian Voivodeship             0.000000\n",
       "Tbilisi                          0.000000\n",
       "Manitoba                         0.000000\n",
       "Makkah Province                  0.000000\n",
       "Maharashtra                      0.000000\n",
       "Magdalena                        0.000000\n",
       "Madrid                           0.000000\n",
       "Madhya Pradesh                   0.000000\n",
       "Lower Silesian Voivodeship       0.000000\n",
       "Lower Saxony                     0.000000\n",
       "Louisiana                        0.000000\n",
       "Name: t, Length: 259, dtype: float64"
      ]
     },
     "execution_count": 61,
     "metadata": {},
     "output_type": "execute_result"
    }
   ],
   "source": [
    "raw_x.groupby('geoNetwork_region')['t'].mean().sort_values(ascending=False)"
   ]
  },
  {
   "cell_type": "code",
   "execution_count": 62,
   "metadata": {
    "collapsed": false
   },
   "outputs": [
    {
     "data": {
      "text/plain": [
       "geoNetwork_subContinent\n",
       "Northern America      0.025708\n",
       "(not set)             0.003604\n",
       "Caribbean             0.001986\n",
       "Central America       0.001687\n",
       "Western Africa        0.001458\n",
       "Southern Africa       0.001057\n",
       "Australasia           0.000991\n",
       "Eastern Asia          0.000938\n",
       "Southeast Asia        0.000792\n",
       "South America         0.000725\n",
       "Western Europe        0.000719\n",
       "Western Asia          0.000489\n",
       "Northern Europe       0.000489\n",
       "Northern Africa       0.000466\n",
       "Eastern Europe        0.000461\n",
       "Southern Europe       0.000337\n",
       "Southern Asia         0.000238\n",
       "Middle Africa         0.000000\n",
       "Micronesian Region    0.000000\n",
       "Melanesia             0.000000\n",
       "Eastern Africa        0.000000\n",
       "Central Asia          0.000000\n",
       "Polynesia             0.000000\n",
       "Name: t, dtype: float64"
      ]
     },
     "execution_count": 62,
     "metadata": {},
     "output_type": "execute_result"
    }
   ],
   "source": [
    "raw_x.groupby('geoNetwork_subContinent')['t'].mean().sort_values(ascending=False) "
   ]
  }
 ],
 "metadata": {
  "kernelspec": {
   "display_name": "Python 3",
   "language": "python",
   "name": "python3"
  },
  "language_info": {
   "codemirror_mode": {
    "name": "ipython",
    "version": 3
   },
   "file_extension": ".py",
   "mimetype": "text/x-python",
   "name": "python",
   "nbconvert_exporter": "python",
   "pygments_lexer": "ipython3",
   "version": "3.6.0"
  }
 },
 "nbformat": 4,
 "nbformat_minor": 2
}

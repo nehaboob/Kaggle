{
 "cells": [
  {
   "cell_type": "code",
   "execution_count": 1,
   "metadata": {
    "collapsed": false
   },
   "outputs": [
    {
     "name": "stdout",
     "output_type": "stream",
     "text": [
      "/home/neha/Desktop/code/ML/Kaggle/googleanalytics\n"
     ]
    }
   ],
   "source": [
    "%matplotlib inline\n",
    "import pandas as pd\n",
    "import numpy as np\n",
    "import seaborn as sns\n",
    "import os\n",
    "PROJ_ROOT = os.path.abspath(os.path.join(os.pardir))\n",
    "print(PROJ_ROOT)"
   ]
  },
  {
   "cell_type": "code",
   "execution_count": 5,
   "metadata": {
    "collapsed": false
   },
   "outputs": [],
   "source": [
    "x = pd.read_csv('../data/processed/user_feaures_20170501.csv',dtype={'fullVisitorId': 'str'})\n",
    "y = pd.read_csv('../data/processed/user_predictions_20170501.csv',dtype={'fullVisitorId': 'str'})"
   ]
  },
  {
   "cell_type": "code",
   "execution_count": 22,
   "metadata": {
    "collapsed": true
   },
   "outputs": [],
   "source": [
    "x_recent = pd.read_csv('../data/processed/user_feaures_20170501_v3.csv',dtype={'fullVisitorId': 'str'})"
   ]
  },
  {
   "cell_type": "code",
   "execution_count": 23,
   "metadata": {
    "collapsed": false
   },
   "outputs": [
    {
     "data": {
      "text/plain": [
       "Index(['fullVisitorId', 'date_min', 'date_max', 'visitNumber_max',\n",
       "       'visitNumber_size', 'totals_bounces_sum', 'totals_bounces_mean',\n",
       "       'totals_bounces_median', 'totals_hits_sum', 'totals_hits_min',\n",
       "       'totals_hits_max', 'totals_hits_mean', 'totals_hits_median',\n",
       "       'totals_newVisits_sum', 'totals_newVisits_mean',\n",
       "       'totals_newVisits_median', 'totals_pageviews_sum',\n",
       "       'totals_pageviews_min', 'totals_pageviews_max', 'totals_pageviews_mean',\n",
       "       'totals_pageviews_median', 'totals_sessionQualityDim_sum',\n",
       "       'totals_sessionQualityDim_min', 'totals_sessionQualityDim_max',\n",
       "       'totals_sessionQualityDim_mean', 'totals_sessionQualityDim_median',\n",
       "       'totals_timeOnSite_sum', 'totals_timeOnSite_min',\n",
       "       'totals_timeOnSite_max', 'totals_timeOnSite_mean',\n",
       "       'totals_timeOnSite_median', 'totals_totalTransactionRevenue_sum',\n",
       "       'totals_totalTransactionRevenue_min',\n",
       "       'totals_totalTransactionRevenue_max',\n",
       "       'totals_totalTransactionRevenue_mean',\n",
       "       'totals_totalTransactionRevenue_median',\n",
       "       'totals_transactionRevenue_sum', 'totals_transactionRevenue_min',\n",
       "       'totals_transactionRevenue_max', 'totals_transactionRevenue_mean',\n",
       "       'totals_transactionRevenue_median', 'totals_transactions_sum',\n",
       "       'totals_transactions_min', 'totals_transactions_max',\n",
       "       'totals_transactions_mean', 'totals_transactions_median',\n",
       "       'sess_date_dow_min', 'sess_date_dow_max', 'sess_date_dow_mean',\n",
       "       'sess_date_dow_median', 'sess_date_dow_var', 'sess_date_dow_std',\n",
       "       'sess_date_dow_sum', 'sess_date_dom_min', 'sess_date_dom_max',\n",
       "       'sess_date_dom_mean', 'sess_date_dom_median', 'sess_date_dom_var',\n",
       "       'sess_date_dom_std', 'sess_date_dom_sum', 'date_diff',\n",
       "       'days_since_last_visit', 'days_since_first_visit', 'visit_frequency',\n",
       "       'totals_hits_45_sum', 'totals_pageviews_45_sum',\n",
       "       'totals_sessionQualityDim_45_sum', 'totals_timeOnSite_45_sum',\n",
       "       'totals_hits_90_sum', 'totals_pageviews_90_sum',\n",
       "       'totals_sessionQualityDim_90_sum', 'totals_timeOnSite_90_sum'],\n",
       "      dtype='object')"
      ]
     },
     "execution_count": 23,
     "metadata": {},
     "output_type": "execute_result"
    }
   ],
   "source": [
    "x_recent.columns"
   ]
  },
  {
   "cell_type": "code",
   "execution_count": 21,
   "metadata": {
    "collapsed": false
   },
   "outputs": [
    {
     "data": {
      "text/plain": [
       "0    0\n",
       "1    1\n",
       "2    2\n",
       "3    3\n",
       "4    4\n",
       "Name: Unnamed: 0, dtype: int64"
      ]
     },
     "execution_count": 21,
     "metadata": {},
     "output_type": "execute_result"
    }
   ],
   "source": [
    "x_recent['Unnamed: 0'].head()"
   ]
  },
  {
   "cell_type": "code",
   "execution_count": 3,
   "metadata": {
    "collapsed": false
   },
   "outputs": [
    {
     "name": "stdout",
     "output_type": "stream",
     "text": [
      "<class 'pandas.core.frame.DataFrame'>\n",
      "RangeIndex: 144049 entries, 0 to 144048\n",
      "Data columns (total 2 columns):\n",
      "fullVisitorId    144049 non-null object\n",
      "target           144049 non-null float64\n",
      "dtypes: float64(1), object(1)\n",
      "memory usage: 2.2+ MB\n"
     ]
    }
   ],
   "source": [
    "y.info()"
   ]
  },
  {
   "cell_type": "code",
   "execution_count": 4,
   "metadata": {
    "collapsed": false
   },
   "outputs": [
    {
     "data": {
      "text/html": [
       "<div>\n",
       "<style scoped>\n",
       "    .dataframe tbody tr th:only-of-type {\n",
       "        vertical-align: middle;\n",
       "    }\n",
       "\n",
       "    .dataframe tbody tr th {\n",
       "        vertical-align: top;\n",
       "    }\n",
       "\n",
       "    .dataframe thead th {\n",
       "        text-align: right;\n",
       "    }\n",
       "</style>\n",
       "<table border=\"1\" class=\"dataframe\">\n",
       "  <thead>\n",
       "    <tr style=\"text-align: right;\">\n",
       "      <th></th>\n",
       "      <th>fullVisitorId</th>\n",
       "      <th>date_min</th>\n",
       "      <th>date_max</th>\n",
       "      <th>visitNumber_max</th>\n",
       "      <th>visitNumber_size</th>\n",
       "      <th>totals_bounces_sum</th>\n",
       "      <th>totals_bounces_mean</th>\n",
       "      <th>totals_bounces_median</th>\n",
       "      <th>totals_hits_sum</th>\n",
       "      <th>totals_hits_min</th>\n",
       "      <th>...</th>\n",
       "      <th>sess_date_dom_min</th>\n",
       "      <th>sess_date_dom_max</th>\n",
       "      <th>sess_date_dom_mean</th>\n",
       "      <th>sess_date_dom_median</th>\n",
       "      <th>sess_date_dom_var</th>\n",
       "      <th>sess_date_dom_std</th>\n",
       "      <th>date_diff</th>\n",
       "      <th>days_since_last_visit</th>\n",
       "      <th>days_since_first_visit</th>\n",
       "      <th>visit_frequency</th>\n",
       "    </tr>\n",
       "  </thead>\n",
       "  <tbody>\n",
       "    <tr>\n",
       "      <th>0</th>\n",
       "      <td>0000049363351866189</td>\n",
       "      <td>2017-09-18</td>\n",
       "      <td>2017-09-19</td>\n",
       "      <td>3</td>\n",
       "      <td>3</td>\n",
       "      <td>3.0</td>\n",
       "      <td>1.0</td>\n",
       "      <td>1.0</td>\n",
       "      <td>3</td>\n",
       "      <td>1</td>\n",
       "      <td>...</td>\n",
       "      <td>18</td>\n",
       "      <td>19</td>\n",
       "      <td>18.333333</td>\n",
       "      <td>18.0</td>\n",
       "      <td>0.333333</td>\n",
       "      <td>0.57735</td>\n",
       "      <td>86400000000000</td>\n",
       "      <td>2246400000000000</td>\n",
       "      <td>2332800000000000</td>\n",
       "      <td>3.472222e-14</td>\n",
       "    </tr>\n",
       "    <tr>\n",
       "      <th>1</th>\n",
       "      <td>0000062267706107999</td>\n",
       "      <td>2017-07-09</td>\n",
       "      <td>2017-07-09</td>\n",
       "      <td>1</td>\n",
       "      <td>1</td>\n",
       "      <td>1.0</td>\n",
       "      <td>1.0</td>\n",
       "      <td>1.0</td>\n",
       "      <td>1</td>\n",
       "      <td>1</td>\n",
       "      <td>...</td>\n",
       "      <td>9</td>\n",
       "      <td>9</td>\n",
       "      <td>9.000000</td>\n",
       "      <td>9.0</td>\n",
       "      <td>NaN</td>\n",
       "      <td>NaN</td>\n",
       "      <td>0</td>\n",
       "      <td>8467200000000000</td>\n",
       "      <td>8467200000000000</td>\n",
       "      <td>inf</td>\n",
       "    </tr>\n",
       "    <tr>\n",
       "      <th>2</th>\n",
       "      <td>0000085059828173212</td>\n",
       "      <td>2017-07-19</td>\n",
       "      <td>2017-07-19</td>\n",
       "      <td>1</td>\n",
       "      <td>1</td>\n",
       "      <td>1.0</td>\n",
       "      <td>1.0</td>\n",
       "      <td>1.0</td>\n",
       "      <td>1</td>\n",
       "      <td>1</td>\n",
       "      <td>...</td>\n",
       "      <td>19</td>\n",
       "      <td>19</td>\n",
       "      <td>19.000000</td>\n",
       "      <td>19.0</td>\n",
       "      <td>NaN</td>\n",
       "      <td>NaN</td>\n",
       "      <td>0</td>\n",
       "      <td>7603200000000000</td>\n",
       "      <td>7603200000000000</td>\n",
       "      <td>inf</td>\n",
       "    </tr>\n",
       "    <tr>\n",
       "      <th>3</th>\n",
       "      <td>0000085840370633780</td>\n",
       "      <td>2017-09-08</td>\n",
       "      <td>2017-09-08</td>\n",
       "      <td>1</td>\n",
       "      <td>1</td>\n",
       "      <td>0.0</td>\n",
       "      <td>0.0</td>\n",
       "      <td>0.0</td>\n",
       "      <td>2</td>\n",
       "      <td>2</td>\n",
       "      <td>...</td>\n",
       "      <td>8</td>\n",
       "      <td>8</td>\n",
       "      <td>8.000000</td>\n",
       "      <td>8.0</td>\n",
       "      <td>NaN</td>\n",
       "      <td>NaN</td>\n",
       "      <td>0</td>\n",
       "      <td>3196800000000000</td>\n",
       "      <td>3196800000000000</td>\n",
       "      <td>inf</td>\n",
       "    </tr>\n",
       "    <tr>\n",
       "      <th>4</th>\n",
       "      <td>0000091131414287111</td>\n",
       "      <td>2017-09-28</td>\n",
       "      <td>2017-09-28</td>\n",
       "      <td>1</td>\n",
       "      <td>1</td>\n",
       "      <td>1.0</td>\n",
       "      <td>1.0</td>\n",
       "      <td>1.0</td>\n",
       "      <td>1</td>\n",
       "      <td>1</td>\n",
       "      <td>...</td>\n",
       "      <td>28</td>\n",
       "      <td>28</td>\n",
       "      <td>28.000000</td>\n",
       "      <td>28.0</td>\n",
       "      <td>NaN</td>\n",
       "      <td>NaN</td>\n",
       "      <td>0</td>\n",
       "      <td>1468800000000000</td>\n",
       "      <td>1468800000000000</td>\n",
       "      <td>inf</td>\n",
       "    </tr>\n",
       "  </tbody>\n",
       "</table>\n",
       "<p>5 rows × 62 columns</p>\n",
       "</div>"
      ],
      "text/plain": [
       "         fullVisitorId    date_min    date_max  visitNumber_max  \\\n",
       "0  0000049363351866189  2017-09-18  2017-09-19                3   \n",
       "1  0000062267706107999  2017-07-09  2017-07-09                1   \n",
       "2  0000085059828173212  2017-07-19  2017-07-19                1   \n",
       "3  0000085840370633780  2017-09-08  2017-09-08                1   \n",
       "4  0000091131414287111  2017-09-28  2017-09-28                1   \n",
       "\n",
       "   visitNumber_size  totals_bounces_sum  totals_bounces_mean  \\\n",
       "0                 3                 3.0                  1.0   \n",
       "1                 1                 1.0                  1.0   \n",
       "2                 1                 1.0                  1.0   \n",
       "3                 1                 0.0                  0.0   \n",
       "4                 1                 1.0                  1.0   \n",
       "\n",
       "   totals_bounces_median  totals_hits_sum  totals_hits_min       ...         \\\n",
       "0                    1.0                3                1       ...          \n",
       "1                    1.0                1                1       ...          \n",
       "2                    1.0                1                1       ...          \n",
       "3                    0.0                2                2       ...          \n",
       "4                    1.0                1                1       ...          \n",
       "\n",
       "   sess_date_dom_min  sess_date_dom_max  sess_date_dom_mean  \\\n",
       "0                 18                 19           18.333333   \n",
       "1                  9                  9            9.000000   \n",
       "2                 19                 19           19.000000   \n",
       "3                  8                  8            8.000000   \n",
       "4                 28                 28           28.000000   \n",
       "\n",
       "   sess_date_dom_median  sess_date_dom_var  sess_date_dom_std       date_diff  \\\n",
       "0                  18.0           0.333333            0.57735  86400000000000   \n",
       "1                   9.0                NaN                NaN               0   \n",
       "2                  19.0                NaN                NaN               0   \n",
       "3                   8.0                NaN                NaN               0   \n",
       "4                  28.0                NaN                NaN               0   \n",
       "\n",
       "   days_since_last_visit  days_since_first_visit  visit_frequency  \n",
       "0       2246400000000000        2332800000000000     3.472222e-14  \n",
       "1       8467200000000000        8467200000000000              inf  \n",
       "2       7603200000000000        7603200000000000              inf  \n",
       "3       3196800000000000        3196800000000000              inf  \n",
       "4       1468800000000000        1468800000000000              inf  \n",
       "\n",
       "[5 rows x 62 columns]"
      ]
     },
     "execution_count": 4,
     "metadata": {},
     "output_type": "execute_result"
    }
   ],
   "source": [
    "x.head()"
   ]
  },
  {
   "cell_type": "code",
   "execution_count": 87,
   "metadata": {
    "collapsed": false
   },
   "outputs": [
    {
     "data": {
      "text/plain": [
       "['totals_visits_min',\n",
       " 'totals_visits_max',\n",
       " 'totals_visits_mean',\n",
       " 'totals_visits_median',\n",
       " 'sess_date_hour_min',\n",
       " 'sess_date_hour_max',\n",
       " 'sess_date_hour_mean',\n",
       " 'sess_date_hour_median']"
      ]
     },
     "execution_count": 87,
     "metadata": {},
     "output_type": "execute_result"
    }
   ],
   "source": [
    "const_cols = [c for c in x.columns if x[c].nunique(dropna=False)==1 ]\n",
    "const_cols"
   ]
  },
  {
   "cell_type": "code",
   "execution_count": 88,
   "metadata": {
    "collapsed": false
   },
   "outputs": [],
   "source": [
    "train = pd.merge(x, y, on='fullVisitorId')"
   ]
  },
  {
   "cell_type": "code",
   "execution_count": 89,
   "metadata": {
    "collapsed": false
   },
   "outputs": [
    {
     "data": {
      "text/plain": [
       "3369"
      ]
     },
     "execution_count": 89,
     "metadata": {},
     "output_type": "execute_result"
    }
   ],
   "source": [
    "train.shape[0]"
   ]
  },
  {
   "cell_type": "code",
   "execution_count": 90,
   "metadata": {
    "collapsed": false
   },
   "outputs": [
    {
     "data": {
      "text/plain": [
       "<matplotlib.axes._subplots.AxesSubplot at 0x7f51caa48160>"
      ]
     },
     "execution_count": 90,
     "metadata": {},
     "output_type": "execute_result"
    },
    {
     "data": {
      "image/png": "[encoded data removed]",
      "text/plain": [
       "<matplotlib.figure.Figure at 0x7f51caa489b0>"
      ]
     },
     "metadata": {},
     "output_type": "display_data"
    }
   ],
   "source": [
    "sns.distplot(train.target)"
   ]
  },
  {
   "cell_type": "code",
   "execution_count": 91,
   "metadata": {
    "collapsed": false
   },
   "outputs": [
    {
     "data": {
      "text/plain": [
       "341388"
      ]
     },
     "execution_count": 91,
     "metadata": {},
     "output_type": "execute_result"
    }
   ],
   "source": [
    "x.shape[0]"
   ]
  },
  {
   "cell_type": "code",
   "execution_count": 92,
   "metadata": {
    "collapsed": false
   },
   "outputs": [
    {
     "data": {
      "text/plain": [
       "142"
      ]
     },
     "execution_count": 92,
     "metadata": {},
     "output_type": "execute_result"
    }
   ],
   "source": [
    "train[train.target > 0].shape[0]"
   ]
  },
  {
   "cell_type": "code",
   "execution_count": 93,
   "metadata": {
    "collapsed": false
   },
   "outputs": [
    {
     "data": {
      "text/plain": [
       "count    3369.000000\n",
       "mean        0.760190\n",
       "std         3.634004\n",
       "min         0.000000\n",
       "25%         0.000000\n",
       "50%         0.000000\n",
       "75%         0.000000\n",
       "max        20.994384\n",
       "Name: target, dtype: float64"
      ]
     },
     "execution_count": 93,
     "metadata": {},
     "output_type": "execute_result"
    }
   ],
   "source": [
    "train.target.describe()"
   ]
  },
  {
   "cell_type": "code",
   "execution_count": 94,
   "metadata": {
    "collapsed": false
   },
   "outputs": [
    {
     "data": {
      "text/plain": [
       "0.0004159490081666608"
      ]
     },
     "execution_count": 94,
     "metadata": {},
     "output_type": "execute_result"
    }
   ],
   "source": [
    "142/341388"
   ]
  },
  {
   "cell_type": "code",
   "execution_count": 95,
   "metadata": {
    "collapsed": false
   },
   "outputs": [
    {
     "name": "stdout",
     "output_type": "stream",
     "text": [
      "<class 'pandas.core.frame.DataFrame'>\n",
      "RangeIndex: 341388 entries, 0 to 341387\n",
      "Data columns (total 65 columns):\n",
      "fullVisitorId                          341388 non-null object\n",
      "date_min                               341388 non-null object\n",
      "date_max                               341388 non-null object\n",
      "visitNumber_sum                        341388 non-null int64\n",
      "visitNumber_mean                       341388 non-null float64\n",
      "visitNumber_median                     341388 non-null float64\n",
      "totals_bounces_sum                     341388 non-null float64\n",
      "totals_bounces_mean                    198487 non-null float64\n",
      "totals_bounces_median                  198487 non-null float64\n",
      "totals_hits_sum                        341388 non-null int64\n",
      "totals_hits_min                        341388 non-null int64\n",
      "totals_hits_max                        341388 non-null int64\n",
      "totals_hits_mean                       341388 non-null float64\n",
      "totals_hits_median                     341388 non-null float64\n",
      "totals_newVisits_sum                   341388 non-null float64\n",
      "totals_newVisits_mean                  320679 non-null float64\n",
      "totals_newVisits_median                320679 non-null float64\n",
      "totals_pageviews_sum                   341388 non-null float64\n",
      "totals_pageviews_min                   341383 non-null float64\n",
      "totals_pageviews_max                   341383 non-null float64\n",
      "totals_pageviews_mean                  341383 non-null float64\n",
      "totals_pageviews_median                341383 non-null float64\n",
      "totals_sessionQualityDim_sum           341388 non-null float64\n",
      "totals_sessionQualityDim_min           234746 non-null float64\n",
      "totals_sessionQualityDim_max           234746 non-null float64\n",
      "totals_sessionQualityDim_mean          234746 non-null float64\n",
      "totals_sessionQualityDim_median        234746 non-null float64\n",
      "totals_timeOnSite_sum                  341388 non-null float64\n",
      "totals_timeOnSite_min                  163007 non-null float64\n",
      "totals_timeOnSite_max                  163007 non-null float64\n",
      "totals_timeOnSite_mean                 163007 non-null float64\n",
      "totals_timeOnSite_median               163007 non-null float64\n",
      "totals_totalTransactionRevenue_sum     341388 non-null float64\n",
      "totals_totalTransactionRevenue_size    341388 non-null int64\n",
      "totals_transactionRevenue_sum          341388 non-null float64\n",
      "totals_transactionRevenue_size         341388 non-null int64\n",
      "totals_transactions_sum                341388 non-null float64\n",
      "totals_transactions_min                5047 non-null float64\n",
      "totals_transactions_max                5047 non-null float64\n",
      "totals_transactions_mean               5047 non-null float64\n",
      "totals_transactions_median             5047 non-null float64\n",
      "totals_visits_sum                      341388 non-null int64\n",
      "totals_visits_min                      341388 non-null int64\n",
      "totals_visits_max                      341388 non-null int64\n",
      "totals_visits_mean                     341388 non-null int64\n",
      "totals_visits_median                   341388 non-null int64\n",
      "sess_date_dow_min                      341388 non-null int64\n",
      "sess_date_dow_max                      341388 non-null int64\n",
      "sess_date_dow_mean                     341388 non-null float64\n",
      "sess_date_dow_median                   341388 non-null float64\n",
      "sess_date_dow_var                      46372 non-null float64\n",
      "sess_date_dow_std                      46372 non-null float64\n",
      "sess_date_dom_min                      341388 non-null int64\n",
      "sess_date_dom_max                      341388 non-null int64\n",
      "sess_date_dom_mean                     341388 non-null float64\n",
      "sess_date_dom_median                   341388 non-null float64\n",
      "sess_date_dom_var                      46372 non-null float64\n",
      "sess_date_dom_std                      46372 non-null float64\n",
      "sess_date_hour_min                     341388 non-null int64\n",
      "sess_date_hour_max                     341388 non-null int64\n",
      "sess_date_hour_mean                    341388 non-null int64\n",
      "sess_date_hour_median                  341388 non-null int64\n",
      "sess_date_hour_var                     46372 non-null float64\n",
      "sess_date_hour_std                     46372 non-null float64\n",
      "date_diff                              341388 non-null int64\n",
      "dtypes: float64(42), int64(20), object(3)\n",
      "memory usage: 169.3+ MB\n"
     ]
    }
   ],
   "source": [
    "x.info()"
   ]
  },
  {
   "cell_type": "code",
   "execution_count": 96,
   "metadata": {
    "collapsed": false
   },
   "outputs": [],
   "source": [
    "cols = np.setdiff1d(x.columns.values, ['fullVisitorId', 'date_min', 'date_max'])"
   ]
  },
  {
   "cell_type": "code",
   "execution_count": 97,
   "metadata": {
    "collapsed": false
   },
   "outputs": [],
   "source": [
    "from sklearn.decomposition import PCA\n",
    "from sklearn.preprocessing import StandardScaler\n",
    "\n",
    "x1 = StandardScaler().fit_transform(x[cols].fillna(0))\n",
    "pca = PCA(n_components=2)\n",
    "principalComponents = pca.fit_transform(x1)"
   ]
  },
  {
   "cell_type": "code",
   "execution_count": 98,
   "metadata": {
    "collapsed": true
   },
   "outputs": [],
   "source": [
    "principalDf = pd.DataFrame(data = principalComponents, columns = ['pc1', 'pc2'])"
   ]
  },
  {
   "cell_type": "code",
   "execution_count": 99,
   "metadata": {
    "collapsed": false
   },
   "outputs": [
    {
     "name": "stdout",
     "output_type": "stream",
     "text": [
      "<class 'pandas.core.frame.DataFrame'>\n",
      "RangeIndex: 341388 entries, 0 to 341387\n",
      "Data columns (total 2 columns):\n",
      "pc1    341388 non-null float64\n",
      "pc2    341388 non-null float64\n",
      "dtypes: float64(2)\n",
      "memory usage: 5.2 MB\n"
     ]
    }
   ],
   "source": [
    "principalDf.info()"
   ]
  },
  {
   "cell_type": "code",
   "execution_count": 100,
   "metadata": {
    "collapsed": false
   },
   "outputs": [
    {
     "data": {
      "text/plain": [
       "<matplotlib.collections.PathCollection at 0x7f51b02d7ba8>"
      ]
     },
     "execution_count": 100,
     "metadata": {},
     "output_type": "execute_result"
    },
    {
     "data": {
      "image/png": "[encoded data removed]",
      "text/plain": [
       "<matplotlib.figure.Figure at 0x7f51b11bdf98>"
      ]
     },
     "metadata": {},
     "output_type": "display_data"
    }
   ],
   "source": [
    "plt.scatter(principalDf.pc1, principalDf.pc2)"
   ]
  },
  {
   "cell_type": "code",
   "execution_count": 101,
   "metadata": {
    "collapsed": false
   },
   "outputs": [
    {
     "name": "stdout",
     "output_type": "stream",
     "text": [
      "<class 'pandas.core.frame.DataFrame'>\n",
      "RangeIndex: 148529 entries, 0 to 148528\n",
      "Data columns (total 2 columns):\n",
      "fullVisitorId    148529 non-null object\n",
      "target           148529 non-null float64\n",
      "dtypes: float64(1), object(1)\n",
      "memory usage: 2.3+ MB\n"
     ]
    }
   ],
   "source": [
    "y.info()"
   ]
  },
  {
   "cell_type": "code",
   "execution_count": 102,
   "metadata": {
    "collapsed": true
   },
   "outputs": [],
   "source": [
    "traget_v = y[y.target > 0].fullVisitorId.values"
   ]
  },
  {
   "cell_type": "code",
   "execution_count": 103,
   "metadata": {
    "collapsed": false
   },
   "outputs": [
    {
     "data": {
      "text/plain": [
       "array(['820140226748860', '2833869866157625', '4245645024915245', ...,\n",
       "       '9927330381225034775', '9939952603022711664',\n",
       "       '9959898575919023676'], dtype=object)"
      ]
     },
     "execution_count": 103,
     "metadata": {},
     "output_type": "execute_result"
    }
   ],
   "source": [
    "traget_v"
   ]
  },
  {
   "cell_type": "code",
   "execution_count": 104,
   "metadata": {
    "collapsed": false
   },
   "outputs": [
    {
     "data": {
      "image/png": "[encoded data removed]",
      "text/plain": [
       "<matplotlib.figure.Figure at 0x7f51b02d72b0>"
      ]
     },
     "metadata": {},
     "output_type": "display_data"
    }
   ],
   "source": [
    "fig = plt.figure(figsize = (8,8))\n",
    "ax = fig.add_subplot(1,1,1) \n",
    "ax.set_xlabel('Principal Component 1', fontsize = 15)\n",
    "ax.set_ylabel('Principal Component 2', fontsize = 15)\n",
    "ax.set_title('2 component PCA', fontsize = 20)\n",
    "\n",
    "ax.scatter(principalDf.loc[x.fullVisitorId.isin(traget_v), 'pc1']\n",
    "               , principalDf.loc[x.fullVisitorId.isin(traget_v), 'pc2']\n",
    "               , c = 'r'\n",
    "               , s = 50)\n",
    "ax.scatter(principalDf.loc[~x.fullVisitorId.isin(traget_v), 'pc1']\n",
    "               , principalDf.loc[~x.fullVisitorId.isin(traget_v), 'pc2']\n",
    "               , c = 'g'\n",
    "               , s = 50)\n",
    "ax.legend(['Returned', 'Not Returned'])\n",
    "ax.grid()"
   ]
  },
  {
   "cell_type": "code",
   "execution_count": 105,
   "metadata": {
    "collapsed": false
   },
   "outputs": [
    {
     "data": {
      "text/plain": [
       "'object'"
      ]
     },
     "execution_count": 105,
     "metadata": {},
     "output_type": "execute_result"
    }
   ],
   "source": [
    "x['fullVisitorId'].dtype.name"
   ]
  },
  {
   "cell_type": "code",
   "execution_count": 106,
   "metadata": {
    "collapsed": false
   },
   "outputs": [
    {
     "name": "stdout",
     "output_type": "stream",
     "text": [
      "<class 'pandas.core.frame.DataFrame'>\n",
      "Int64Index: 3369 entries, 0 to 3368\n",
      "Data columns (total 66 columns):\n",
      "fullVisitorId                          3369 non-null object\n",
      "date_min                               3369 non-null object\n",
      "date_max                               3369 non-null object\n",
      "visitNumber_sum                        3369 non-null int64\n",
      "visitNumber_mean                       3369 non-null float64\n",
      "visitNumber_median                     3369 non-null float64\n",
      "totals_bounces_sum                     3369 non-null float64\n",
      "totals_bounces_mean                    1638 non-null float64\n",
      "totals_bounces_median                  1638 non-null float64\n",
      "totals_hits_sum                        3369 non-null int64\n",
      "totals_hits_min                        3369 non-null int64\n",
      "totals_hits_max                        3369 non-null int64\n",
      "totals_hits_mean                       3369 non-null float64\n",
      "totals_hits_median                     3369 non-null float64\n",
      "totals_newVisits_sum                   3369 non-null float64\n",
      "totals_newVisits_mean                  2185 non-null float64\n",
      "totals_newVisits_median                2185 non-null float64\n",
      "totals_pageviews_sum                   3369 non-null float64\n",
      "totals_pageviews_min                   3369 non-null float64\n",
      "totals_pageviews_max                   3369 non-null float64\n",
      "totals_pageviews_mean                  3369 non-null float64\n",
      "totals_pageviews_median                3369 non-null float64\n",
      "totals_sessionQualityDim_sum           3369 non-null float64\n",
      "totals_sessionQualityDim_min           2997 non-null float64\n",
      "totals_sessionQualityDim_max           2997 non-null float64\n",
      "totals_sessionQualityDim_mean          2997 non-null float64\n",
      "totals_sessionQualityDim_median        2997 non-null float64\n",
      "totals_timeOnSite_sum                  3369 non-null float64\n",
      "totals_timeOnSite_min                  2501 non-null float64\n",
      "totals_timeOnSite_max                  2501 non-null float64\n",
      "totals_timeOnSite_mean                 2501 non-null float64\n",
      "totals_timeOnSite_median               2501 non-null float64\n",
      "totals_totalTransactionRevenue_sum     3369 non-null float64\n",
      "totals_totalTransactionRevenue_size    3369 non-null int64\n",
      "totals_transactionRevenue_sum          3369 non-null float64\n",
      "totals_transactionRevenue_size         3369 non-null int64\n",
      "totals_transactions_sum                3369 non-null float64\n",
      "totals_transactions_min                238 non-null float64\n",
      "totals_transactions_max                238 non-null float64\n",
      "totals_transactions_mean               238 non-null float64\n",
      "totals_transactions_median             238 non-null float64\n",
      "totals_visits_sum                      3369 non-null int64\n",
      "totals_visits_min                      3369 non-null int64\n",
      "totals_visits_max                      3369 non-null int64\n",
      "totals_visits_mean                     3369 non-null int64\n",
      "totals_visits_median                   3369 non-null int64\n",
      "sess_date_dow_min                      3369 non-null int64\n",
      "sess_date_dow_max                      3369 non-null int64\n",
      "sess_date_dow_mean                     3369 non-null float64\n",
      "sess_date_dow_median                   3369 non-null float64\n",
      "sess_date_dow_var                      1646 non-null float64\n",
      "sess_date_dow_std                      1646 non-null float64\n",
      "sess_date_dom_min                      3369 non-null int64\n",
      "sess_date_dom_max                      3369 non-null int64\n",
      "sess_date_dom_mean                     3369 non-null float64\n",
      "sess_date_dom_median                   3369 non-null float64\n",
      "sess_date_dom_var                      1646 non-null float64\n",
      "sess_date_dom_std                      1646 non-null float64\n",
      "sess_date_hour_min                     3369 non-null int64\n",
      "sess_date_hour_max                     3369 non-null int64\n",
      "sess_date_hour_mean                    3369 non-null int64\n",
      "sess_date_hour_median                  3369 non-null int64\n",
      "sess_date_hour_var                     1646 non-null float64\n",
      "sess_date_hour_std                     1646 non-null float64\n",
      "date_diff                              3369 non-null int64\n",
      "target                                 3369 non-null float64\n",
      "dtypes: float64(43), int64(20), object(3)\n",
      "memory usage: 1.7+ MB\n"
     ]
    }
   ],
   "source": [
    "train.info()"
   ]
  },
  {
   "cell_type": "code",
   "execution_count": 60,
   "metadata": {
    "collapsed": false
   },
   "outputs": [
    {
     "name": "stdout",
     "output_type": "stream",
     "text": [
      "<class 'pandas.core.frame.DataFrame'>\n",
      "RangeIndex: 341388 entries, 0 to 341387\n",
      "Data columns (total 65 columns):\n",
      "fullVisitorId                          341388 non-null object\n",
      "date_min                               341388 non-null object\n",
      "date_max                               341388 non-null object\n",
      "visitNumber_sum                        341388 non-null int64\n",
      "visitNumber_mean                       341388 non-null float64\n",
      "visitNumber_median                     341388 non-null float64\n",
      "totals_bounces_sum                     341388 non-null float64\n",
      "totals_bounces_mean                    198487 non-null float64\n",
      "totals_bounces_median                  198487 non-null float64\n",
      "totals_hits_sum                        341388 non-null int64\n",
      "totals_hits_min                        341388 non-null int64\n",
      "totals_hits_max                        341388 non-null int64\n",
      "totals_hits_mean                       341388 non-null float64\n",
      "totals_hits_median                     341388 non-null float64\n",
      "totals_newVisits_sum                   341388 non-null float64\n",
      "totals_newVisits_mean                  320679 non-null float64\n",
      "totals_newVisits_median                320679 non-null float64\n",
      "totals_pageviews_sum                   341388 non-null float64\n",
      "totals_pageviews_min                   341383 non-null float64\n",
      "totals_pageviews_max                   341383 non-null float64\n",
      "totals_pageviews_mean                  341383 non-null float64\n",
      "totals_pageviews_median                341383 non-null float64\n",
      "totals_sessionQualityDim_sum           341388 non-null float64\n",
      "totals_sessionQualityDim_min           234746 non-null float64\n",
      "totals_sessionQualityDim_max           234746 non-null float64\n",
      "totals_sessionQualityDim_mean          234746 non-null float64\n",
      "totals_sessionQualityDim_median        234746 non-null float64\n",
      "totals_timeOnSite_sum                  341388 non-null float64\n",
      "totals_timeOnSite_min                  163007 non-null float64\n",
      "totals_timeOnSite_max                  163007 non-null float64\n",
      "totals_timeOnSite_mean                 163007 non-null float64\n",
      "totals_timeOnSite_median               163007 non-null float64\n",
      "totals_totalTransactionRevenue_sum     341388 non-null float64\n",
      "totals_totalTransactionRevenue_size    341388 non-null int64\n",
      "totals_transactionRevenue_sum          341388 non-null float64\n",
      "totals_transactionRevenue_size         341388 non-null int64\n",
      "totals_transactions_sum                341388 non-null float64\n",
      "totals_transactions_min                5047 non-null float64\n",
      "totals_transactions_max                5047 non-null float64\n",
      "totals_transactions_mean               5047 non-null float64\n",
      "totals_transactions_median             5047 non-null float64\n",
      "totals_visits_sum                      341388 non-null int64\n",
      "totals_visits_min                      341388 non-null int64\n",
      "totals_visits_max                      341388 non-null int64\n",
      "totals_visits_mean                     341388 non-null int64\n",
      "totals_visits_median                   341388 non-null int64\n",
      "sess_date_dow_min                      341388 non-null int64\n",
      "sess_date_dow_max                      341388 non-null int64\n",
      "sess_date_dow_mean                     341388 non-null float64\n",
      "sess_date_dow_median                   341388 non-null float64\n",
      "sess_date_dow_var                      46372 non-null float64\n",
      "sess_date_dow_std                      46372 non-null float64\n",
      "sess_date_dom_min                      341388 non-null int64\n",
      "sess_date_dom_max                      341388 non-null int64\n",
      "sess_date_dom_mean                     341388 non-null float64\n",
      "sess_date_dom_median                   341388 non-null float64\n",
      "sess_date_dom_var                      46372 non-null float64\n",
      "sess_date_dom_std                      46372 non-null float64\n",
      "sess_date_hour_min                     341388 non-null int64\n",
      "sess_date_hour_max                     341388 non-null int64\n",
      "sess_date_hour_mean                    341388 non-null int64\n",
      "sess_date_hour_median                  341388 non-null int64\n",
      "sess_date_hour_var                     46372 non-null float64\n",
      "sess_date_hour_std                     46372 non-null float64\n",
      "date_diff                              341388 non-null int64\n",
      "dtypes: float64(42), int64(20), object(3)\n",
      "memory usage: 169.3+ MB\n"
     ]
    }
   ],
   "source": [
    "x.info()"
   ]
  },
  {
   "cell_type": "code",
   "execution_count": 107,
   "metadata": {
    "collapsed": false
   },
   "outputs": [
    {
     "name": "stdout",
     "output_type": "stream",
     "text": [
      "<class 'pandas.core.frame.DataFrame'>\n",
      "RangeIndex: 148529 entries, 0 to 148528\n",
      "Data columns (total 2 columns):\n",
      "fullVisitorId    148529 non-null object\n",
      "target           148529 non-null float64\n",
      "dtypes: float64(1), object(1)\n",
      "memory usage: 2.3+ MB\n"
     ]
    }
   ],
   "source": [
    "y.info()"
   ]
  },
  {
   "cell_type": "code",
   "execution_count": 108,
   "metadata": {
    "collapsed": false
   },
   "outputs": [
    {
     "data": {
      "text/html": [
       "<div>\n",
       "<style scoped>\n",
       "    .dataframe tbody tr th:only-of-type {\n",
       "        vertical-align: middle;\n",
       "    }\n",
       "\n",
       "    .dataframe tbody tr th {\n",
       "        vertical-align: top;\n",
       "    }\n",
       "\n",
       "    .dataframe thead th {\n",
       "        text-align: right;\n",
       "    }\n",
       "</style>\n",
       "<table border=\"1\" class=\"dataframe\">\n",
       "  <thead>\n",
       "    <tr style=\"text-align: right;\">\n",
       "      <th></th>\n",
       "      <th>fullVisitorId</th>\n",
       "      <th>target</th>\n",
       "    </tr>\n",
       "  </thead>\n",
       "  <tbody>\n",
       "    <tr>\n",
       "      <th>0</th>\n",
       "      <td>18809460226514</td>\n",
       "      <td>0.0</td>\n",
       "    </tr>\n",
       "    <tr>\n",
       "      <th>1</th>\n",
       "      <td>18998785589239</td>\n",
       "      <td>0.0</td>\n",
       "    </tr>\n",
       "    <tr>\n",
       "      <th>2</th>\n",
       "      <td>61214566278074</td>\n",
       "      <td>0.0</td>\n",
       "    </tr>\n",
       "    <tr>\n",
       "      <th>3</th>\n",
       "      <td>63394874386185</td>\n",
       "      <td>0.0</td>\n",
       "    </tr>\n",
       "    <tr>\n",
       "      <th>4</th>\n",
       "      <td>99242451401195</td>\n",
       "      <td>0.0</td>\n",
       "    </tr>\n",
       "  </tbody>\n",
       "</table>\n",
       "</div>"
      ],
      "text/plain": [
       "    fullVisitorId  target\n",
       "0  18809460226514     0.0\n",
       "1  18998785589239     0.0\n",
       "2  61214566278074     0.0\n",
       "3  63394874386185     0.0\n",
       "4  99242451401195     0.0"
      ]
     },
     "execution_count": 108,
     "metadata": {},
     "output_type": "execute_result"
    }
   ],
   "source": [
    "y.head()"
   ]
  },
  {
   "cell_type": "code",
   "execution_count": 113,
   "metadata": {
    "collapsed": false
   },
   "outputs": [
    {
     "data": {
      "image/png": "[encoded data removed]",
      "text/plain": [
       "<matplotlib.figure.Figure at 0x7f51cc031b38>"
      ]
     },
     "metadata": {},
     "output_type": "display_data"
    }
   ],
   "source": [
    "from sklearn.cluster import KMeans\n",
    "from sklearn import metrics\n",
    "from scipy.spatial.distance import cdist\n",
    "import numpy as np\n",
    "import matplotlib.pyplot as plt\n",
    "\n",
    "\n",
    "# k means determine k\n",
    "distortions = []\n",
    "K = range(1,15)\n",
    "for k in K:\n",
    "    kmeanModel = KMeans(n_clusters=k)\n",
    "    kmeanModel.fit(x1)\n",
    "    distortions.append(sum(np.min(cdist(x1, kmeanModel.cluster_centers_, 'euclidean'), axis=1)) / x1.shape[0])\n",
    "\n",
    "plt.plot(K, distortions, 'bx-')\n",
    "plt.xlabel('k')\n",
    "plt.ylabel('Distortion')\n",
    "plt.title('The Elbow Method showing the optimal k')\n",
    "plt.show()"
   ]
  },
  {
   "cell_type": "code",
   "execution_count": 129,
   "metadata": {
    "collapsed": false
   },
   "outputs": [],
   "source": [
    "kmeanModel = KMeans(n_clusters=8)\n",
    "kmeanModel.fit(x1)\n",
    "x['cluster'] = kmeanModel.predict(x1)"
   ]
  },
  {
   "cell_type": "code",
   "execution_count": 116,
   "metadata": {
    "collapsed": false
   },
   "outputs": [
    {
     "data": {
      "text/plain": [
       "cluster\n",
       "0    91296\n",
       "1     5036\n",
       "2    93105\n",
       "3    16527\n",
       "4     4942\n",
       "5    13194\n",
       "6    27426\n",
       "7    89862\n",
       "dtype: int64"
      ]
     },
     "execution_count": 116,
     "metadata": {},
     "output_type": "execute_result"
    }
   ],
   "source": [
    "x.groupby('cluster').size()"
   ]
  },
  {
   "cell_type": "code",
   "execution_count": 118,
   "metadata": {
    "collapsed": false
   },
   "outputs": [],
   "source": [
    "x['return'] = (x.fullVisitorId.isin(traget_v))*1"
   ]
  },
  {
   "cell_type": "code",
   "execution_count": 120,
   "metadata": {
    "collapsed": false
   },
   "outputs": [
    {
     "data": {
      "text/plain": [
       "140"
      ]
     },
     "execution_count": 120,
     "metadata": {},
     "output_type": "execute_result"
    }
   ],
   "source": [
    "x['return'].sum()"
   ]
  },
  {
   "cell_type": "code",
   "execution_count": 130,
   "metadata": {
    "collapsed": false
   },
   "outputs": [
    {
     "data": {
      "text/html": [
       "<div>\n",
       "<style scoped>\n",
       "    .dataframe tbody tr th:only-of-type {\n",
       "        vertical-align: middle;\n",
       "    }\n",
       "\n",
       "    .dataframe tbody tr th {\n",
       "        vertical-align: top;\n",
       "    }\n",
       "\n",
       "    .dataframe thead tr th {\n",
       "        text-align: left;\n",
       "    }\n",
       "\n",
       "    .dataframe thead tr:last-of-type th {\n",
       "        text-align: right;\n",
       "    }\n",
       "</style>\n",
       "<table border=\"1\" class=\"dataframe\">\n",
       "  <thead>\n",
       "    <tr>\n",
       "      <th></th>\n",
       "      <th colspan=\"2\" halign=\"left\">return</th>\n",
       "    </tr>\n",
       "    <tr>\n",
       "      <th></th>\n",
       "      <th>count</th>\n",
       "      <th>sum</th>\n",
       "    </tr>\n",
       "    <tr>\n",
       "      <th>cluster</th>\n",
       "      <th></th>\n",
       "      <th></th>\n",
       "    </tr>\n",
       "  </thead>\n",
       "  <tbody>\n",
       "    <tr>\n",
       "      <th>0</th>\n",
       "      <td>97929</td>\n",
       "      <td>4</td>\n",
       "    </tr>\n",
       "    <tr>\n",
       "      <th>1</th>\n",
       "      <td>103470</td>\n",
       "      <td>5</td>\n",
       "    </tr>\n",
       "    <tr>\n",
       "      <th>2</th>\n",
       "      <td>13448</td>\n",
       "      <td>28</td>\n",
       "    </tr>\n",
       "    <tr>\n",
       "      <th>3</th>\n",
       "      <td>10150</td>\n",
       "      <td>14</td>\n",
       "    </tr>\n",
       "    <tr>\n",
       "      <th>4</th>\n",
       "      <td>5053</td>\n",
       "      <td>44</td>\n",
       "    </tr>\n",
       "    <tr>\n",
       "      <th>5</th>\n",
       "      <td>94700</td>\n",
       "      <td>19</td>\n",
       "    </tr>\n",
       "    <tr>\n",
       "      <th>6</th>\n",
       "      <td>16637</td>\n",
       "      <td>25</td>\n",
       "    </tr>\n",
       "    <tr>\n",
       "      <th>7</th>\n",
       "      <td>1</td>\n",
       "      <td>1</td>\n",
       "    </tr>\n",
       "  </tbody>\n",
       "</table>\n",
       "</div>"
      ],
      "text/plain": [
       "         return    \n",
       "          count sum\n",
       "cluster            \n",
       "0         97929   4\n",
       "1        103470   5\n",
       "2         13448  28\n",
       "3         10150  14\n",
       "4          5053  44\n",
       "5         94700  19\n",
       "6         16637  25\n",
       "7             1   1"
      ]
     },
     "execution_count": 130,
     "metadata": {},
     "output_type": "execute_result"
    }
   ],
   "source": [
    "x.groupby('cluster').agg({'return': ['count', 'sum']})"
   ]
  },
  {
   "cell_type": "code",
   "execution_count": 123,
   "metadata": {
    "collapsed": false
   },
   "outputs": [
    {
     "data": {
      "text/plain": [
       "0.3142857142857143"
      ]
     },
     "execution_count": 123,
     "metadata": {},
     "output_type": "execute_result"
    }
   ],
   "source": [
    "44/140"
   ]
  },
  {
   "cell_type": "code",
   "execution_count": 128,
   "metadata": {
    "collapsed": false
   },
   "outputs": [
    {
     "data": {
      "text/plain": [
       "59"
      ]
     },
     "execution_count": 128,
     "metadata": {},
     "output_type": "execute_result"
    }
   ],
   "source": [
    "38+14+7"
   ]
  },
  {
   "cell_type": "code",
   "execution_count": 15,
   "metadata": {
    "collapsed": true
   },
   "outputs": [],
   "source": [
    "import PIL"
   ]
  }
 ],
 "metadata": {
  "kernelspec": {
   "display_name": "Python 3",
   "language": "python",
   "name": "python3"
  },
  "language_info": {
   "codemirror_mode": {
    "name": "ipython",
    "version": 3
   },
   "file_extension": ".py",
   "mimetype": "text/x-python",
   "name": "python",
   "nbconvert_exporter": "python",
   "pygments_lexer": "ipython3",
   "version": "3.6.0"
  }
 },
 "nbformat": 4,
 "nbformat_minor": 2
}

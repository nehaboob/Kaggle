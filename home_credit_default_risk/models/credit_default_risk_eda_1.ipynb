{
 "cells": [
  {
   "cell_type": "code",
   "execution_count": 2,
   "metadata": {
    "collapsed": true
   },
   "outputs": [],
   "source": [
    "from scipy import stats\n",
    "import pandas as pd\n",
    "import numpy as np\n",
    "import seaborn as sns\n",
    "import matplotlib.pyplot as plt\n",
    "from scipy import stats\n",
    "\n",
    "%matplotlib inline"
   ]
  },
  {
   "cell_type": "code",
   "execution_count": 2,
   "metadata": {
    "collapsed": false
   },
   "outputs": [],
   "source": [
    "application_train = pd.read_csv('/home/neha/Desktop/code/ML/Kaggle/home_credit_default_risk/data/application_train.csv') # (307511, 122)\n",
    "application_test = pd.read_csv('/home/neha/Desktop/code/ML/Kaggle/home_credit_default_risk/data/application_test.csv') # (48744, 121)"
   ]
  },
  {
   "cell_type": "code",
   "execution_count": 6,
   "metadata": {
    "collapsed": false
   },
   "outputs": [
    {
     "data": {
      "text/plain": [
       "((307511, 122), (48744, 121))"
      ]
     },
     "execution_count": 6,
     "metadata": {},
     "output_type": "execute_result"
    }
   ],
   "source": [
    "(application_train.shape, application_test.shape)"
   ]
  },
  {
   "cell_type": "code",
   "execution_count": 7,
   "metadata": {
    "collapsed": false
   },
   "outputs": [
    {
     "data": {
      "text/plain": [
       "0.1585114028441259"
      ]
     },
     "execution_count": 7,
     "metadata": {},
     "output_type": "execute_result"
    }
   ],
   "source": [
    "application_test.shape[0]/application_train.shape[0]"
   ]
  },
  {
   "cell_type": "code",
   "execution_count": 3,
   "metadata": {
    "collapsed": false
   },
   "outputs": [
    {
     "data": {
      "text/plain": [
       "['SK_ID_CURR',\n",
       " 'TARGET',\n",
       " 'NAME_CONTRACT_TYPE',\n",
       " 'CODE_GENDER',\n",
       " 'FLAG_OWN_CAR',\n",
       " 'FLAG_OWN_REALTY',\n",
       " 'CNT_CHILDREN',\n",
       " 'AMT_INCOME_TOTAL',\n",
       " 'AMT_CREDIT',\n",
       " 'AMT_ANNUITY',\n",
       " 'AMT_GOODS_PRICE',\n",
       " 'NAME_TYPE_SUITE',\n",
       " 'NAME_INCOME_TYPE',\n",
       " 'NAME_EDUCATION_TYPE',\n",
       " 'NAME_FAMILY_STATUS',\n",
       " 'NAME_HOUSING_TYPE',\n",
       " 'REGION_POPULATION_RELATIVE',\n",
       " 'DAYS_BIRTH',\n",
       " 'DAYS_EMPLOYED',\n",
       " 'DAYS_REGISTRATION',\n",
       " 'DAYS_ID_PUBLISH',\n",
       " 'OWN_CAR_AGE',\n",
       " 'FLAG_MOBIL',\n",
       " 'FLAG_EMP_PHONE',\n",
       " 'FLAG_WORK_PHONE',\n",
       " 'FLAG_CONT_MOBILE',\n",
       " 'FLAG_PHONE',\n",
       " 'FLAG_EMAIL',\n",
       " 'OCCUPATION_TYPE',\n",
       " 'CNT_FAM_MEMBERS',\n",
       " 'REGION_RATING_CLIENT',\n",
       " 'REGION_RATING_CLIENT_W_CITY',\n",
       " 'WEEKDAY_APPR_PROCESS_START',\n",
       " 'HOUR_APPR_PROCESS_START',\n",
       " 'REG_REGION_NOT_LIVE_REGION',\n",
       " 'REG_REGION_NOT_WORK_REGION',\n",
       " 'LIVE_REGION_NOT_WORK_REGION',\n",
       " 'REG_CITY_NOT_LIVE_CITY',\n",
       " 'REG_CITY_NOT_WORK_CITY',\n",
       " 'LIVE_CITY_NOT_WORK_CITY',\n",
       " 'ORGANIZATION_TYPE',\n",
       " 'EXT_SOURCE_1',\n",
       " 'EXT_SOURCE_2',\n",
       " 'EXT_SOURCE_3',\n",
       " 'APARTMENTS_AVG',\n",
       " 'BASEMENTAREA_AVG',\n",
       " 'YEARS_BEGINEXPLUATATION_AVG',\n",
       " 'YEARS_BUILD_AVG',\n",
       " 'COMMONAREA_AVG',\n",
       " 'ELEVATORS_AVG',\n",
       " 'ENTRANCES_AVG',\n",
       " 'FLOORSMAX_AVG',\n",
       " 'FLOORSMIN_AVG',\n",
       " 'LANDAREA_AVG',\n",
       " 'LIVINGAPARTMENTS_AVG',\n",
       " 'LIVINGAREA_AVG',\n",
       " 'NONLIVINGAPARTMENTS_AVG',\n",
       " 'NONLIVINGAREA_AVG',\n",
       " 'APARTMENTS_MODE',\n",
       " 'BASEMENTAREA_MODE',\n",
       " 'YEARS_BEGINEXPLUATATION_MODE',\n",
       " 'YEARS_BUILD_MODE',\n",
       " 'COMMONAREA_MODE',\n",
       " 'ELEVATORS_MODE',\n",
       " 'ENTRANCES_MODE',\n",
       " 'FLOORSMAX_MODE',\n",
       " 'FLOORSMIN_MODE',\n",
       " 'LANDAREA_MODE',\n",
       " 'LIVINGAPARTMENTS_MODE',\n",
       " 'LIVINGAREA_MODE',\n",
       " 'NONLIVINGAPARTMENTS_MODE',\n",
       " 'NONLIVINGAREA_MODE',\n",
       " 'APARTMENTS_MEDI',\n",
       " 'BASEMENTAREA_MEDI',\n",
       " 'YEARS_BEGINEXPLUATATION_MEDI',\n",
       " 'YEARS_BUILD_MEDI',\n",
       " 'COMMONAREA_MEDI',\n",
       " 'ELEVATORS_MEDI',\n",
       " 'ENTRANCES_MEDI',\n",
       " 'FLOORSMAX_MEDI',\n",
       " 'FLOORSMIN_MEDI',\n",
       " 'LANDAREA_MEDI',\n",
       " 'LIVINGAPARTMENTS_MEDI',\n",
       " 'LIVINGAREA_MEDI',\n",
       " 'NONLIVINGAPARTMENTS_MEDI',\n",
       " 'NONLIVINGAREA_MEDI',\n",
       " 'FONDKAPREMONT_MODE',\n",
       " 'HOUSETYPE_MODE',\n",
       " 'TOTALAREA_MODE',\n",
       " 'WALLSMATERIAL_MODE',\n",
       " 'EMERGENCYSTATE_MODE',\n",
       " 'OBS_30_CNT_SOCIAL_CIRCLE',\n",
       " 'DEF_30_CNT_SOCIAL_CIRCLE',\n",
       " 'OBS_60_CNT_SOCIAL_CIRCLE',\n",
       " 'DEF_60_CNT_SOCIAL_CIRCLE',\n",
       " 'DAYS_LAST_PHONE_CHANGE',\n",
       " 'FLAG_DOCUMENT_2',\n",
       " 'FLAG_DOCUMENT_3',\n",
       " 'FLAG_DOCUMENT_4',\n",
       " 'FLAG_DOCUMENT_5',\n",
       " 'FLAG_DOCUMENT_6',\n",
       " 'FLAG_DOCUMENT_7',\n",
       " 'FLAG_DOCUMENT_8',\n",
       " 'FLAG_DOCUMENT_9',\n",
       " 'FLAG_DOCUMENT_10',\n",
       " 'FLAG_DOCUMENT_11',\n",
       " 'FLAG_DOCUMENT_12',\n",
       " 'FLAG_DOCUMENT_13',\n",
       " 'FLAG_DOCUMENT_14',\n",
       " 'FLAG_DOCUMENT_15',\n",
       " 'FLAG_DOCUMENT_16',\n",
       " 'FLAG_DOCUMENT_17',\n",
       " 'FLAG_DOCUMENT_18',\n",
       " 'FLAG_DOCUMENT_19',\n",
       " 'FLAG_DOCUMENT_20',\n",
       " 'FLAG_DOCUMENT_21',\n",
       " 'AMT_REQ_CREDIT_BUREAU_HOUR',\n",
       " 'AMT_REQ_CREDIT_BUREAU_DAY',\n",
       " 'AMT_REQ_CREDIT_BUREAU_WEEK',\n",
       " 'AMT_REQ_CREDIT_BUREAU_MON',\n",
       " 'AMT_REQ_CREDIT_BUREAU_QRT',\n",
       " 'AMT_REQ_CREDIT_BUREAU_YEAR']"
      ]
     },
     "execution_count": 3,
     "metadata": {},
     "output_type": "execute_result"
    }
   ],
   "source": [
    "list(application_train.columns)"
   ]
  },
  {
   "cell_type": "code",
   "execution_count": 15,
   "metadata": {
    "collapsed": false
   },
   "outputs": [
    {
     "data": {
      "text/plain": [
       "array([1, 0])"
      ]
     },
     "execution_count": 15,
     "metadata": {},
     "output_type": "execute_result"
    }
   ],
   "source": [
    "application_train.TARGET.unique()"
   ]
  },
  {
   "cell_type": "code",
   "execution_count": null,
   "metadata": {
    "collapsed": true
   },
   "outputs": [],
   "source": []
  },
  {
   "cell_type": "code",
   "execution_count": 16,
   "metadata": {
    "collapsed": false
   },
   "outputs": [
    {
     "data": {
      "text/plain": [
       "0    282686\n",
       "1     24825\n",
       "Name: TARGET, dtype: int64"
      ]
     },
     "execution_count": 16,
     "metadata": {},
     "output_type": "execute_result"
    }
   ],
   "source": [
    "application_train.TARGET.value_counts()"
   ]
  },
  {
   "cell_type": "code",
   "execution_count": 21,
   "metadata": {
    "collapsed": false
   },
   "outputs": [
    {
     "data": {
      "text/plain": [
       "<matplotlib.axes._subplots.AxesSubplot at 0x7f8453edfac8>"
      ]
     },
     "execution_count": 21,
     "metadata": {},
     "output_type": "execute_result"
    },
    {
     "data": {
      "image/png": "[encoded data removed]",
      "text/plain": [
       "<matplotlib.figure.Figure at 0x7f845a281400>"
      ]
     },
     "metadata": {},
     "output_type": "display_data"
    }
   ],
   "source": [
    "sns.countplot(application_train.TARGET)"
   ]
  },
  {
   "cell_type": "markdown",
   "metadata": {},
   "source": [
    "### NAME_CONTRACT_TYPE \n",
    "___Identification if loan is cash or revolving___"
   ]
  },
  {
   "cell_type": "code",
   "execution_count": 24,
   "metadata": {
    "collapsed": false
   },
   "outputs": [
    {
     "data": {
      "text/plain": [
       "array(['Cash loans', 'Revolving loans'], dtype=object)"
      ]
     },
     "execution_count": 24,
     "metadata": {},
     "output_type": "execute_result"
    }
   ],
   "source": [
    "application_train.NAME_CONTRACT_TYPE.unique()"
   ]
  },
  {
   "cell_type": "code",
   "execution_count": 26,
   "metadata": {
    "collapsed": false
   },
   "outputs": [
    {
     "data": {
      "text/plain": [
       "array(['Cash loans', 'Revolving loans'], dtype=object)"
      ]
     },
     "execution_count": 26,
     "metadata": {},
     "output_type": "execute_result"
    }
   ],
   "source": [
    "application_test.NAME_CONTRACT_TYPE.unique()"
   ]
  },
  {
   "cell_type": "code",
   "execution_count": 29,
   "metadata": {
    "collapsed": false
   },
   "outputs": [
    {
     "data": {
      "text/plain": [
       "<matplotlib.axes._subplots.AxesSubplot at 0x7f8453d8d978>"
      ]
     },
     "execution_count": 29,
     "metadata": {},
     "output_type": "execute_result"
    },
    {
     "data": {
      "image/png": "[encoded data removed]",
      "text/plain": [
       "<matplotlib.figure.Figure at 0x7f8453d2a7f0>"
      ]
     },
     "metadata": {},
     "output_type": "display_data"
    }
   ],
   "source": [
    "sns.countplot(application_train.NAME_CONTRACT_TYPE)"
   ]
  },
  {
   "cell_type": "code",
   "execution_count": 32,
   "metadata": {
    "collapsed": false
   },
   "outputs": [
    {
     "data": {
      "text/plain": [
       "<matplotlib.axes._subplots.AxesSubplot at 0x7f8453ba19b0>"
      ]
     },
     "execution_count": 32,
     "metadata": {},
     "output_type": "execute_result"
    },
    {
     "data": {
      "image/png": "[encoded data removed]",
      "text/plain": [
       "<matplotlib.figure.Figure at 0x7f8453cb4f60>"
      ]
     },
     "metadata": {},
     "output_type": "display_data"
    }
   ],
   "source": [
    "sns.countplot(application_test.NAME_CONTRACT_TYPE)"
   ]
  },
  {
   "cell_type": "code",
   "execution_count": 4,
   "metadata": {
    "collapsed": false
   },
   "outputs": [
    {
     "data": {
      "text/plain": [
       "<matplotlib.axes._subplots.AxesSubplot at 0x7faf7b161278>"
      ]
     },
     "execution_count": 4,
     "metadata": {},
     "output_type": "execute_result"
    },
    {
     "data": {
      "image/png": "[encoded data removed]",
      "text/plain": [
       "<matplotlib.figure.Figure at 0x7faf9a3e4908>"
      ]
     },
     "metadata": {},
     "output_type": "display_data"
    }
   ],
   "source": [
    "sns.countplot(x='TARGET',hue='NAME_CONTRACT_TYPE',data=application_train)"
   ]
  },
  {
   "cell_type": "code",
   "execution_count": 15,
   "metadata": {
    "collapsed": false
   },
   "outputs": [
    {
     "data": {
      "text/html": [
       "<div>\n",
       "<table border=\"1\" class=\"dataframe\">\n",
       "  <thead>\n",
       "    <tr style=\"text-align: right;\">\n",
       "      <th>TARGET</th>\n",
       "      <th>0</th>\n",
       "      <th>1</th>\n",
       "    </tr>\n",
       "    <tr>\n",
       "      <th>NAME_CONTRACT_TYPE</th>\n",
       "      <th></th>\n",
       "      <th></th>\n",
       "    </tr>\n",
       "  </thead>\n",
       "  <tbody>\n",
       "    <tr>\n",
       "      <th>Cash loans</th>\n",
       "      <td>255011</td>\n",
       "      <td>23221</td>\n",
       "    </tr>\n",
       "    <tr>\n",
       "      <th>Revolving loans</th>\n",
       "      <td>27675</td>\n",
       "      <td>1604</td>\n",
       "    </tr>\n",
       "  </tbody>\n",
       "</table>\n",
       "</div>"
      ],
      "text/plain": [
       "TARGET                   0      1\n",
       "NAME_CONTRACT_TYPE               \n",
       "Cash loans          255011  23221\n",
       "Revolving loans      27675   1604"
      ]
     },
     "execution_count": 15,
     "metadata": {},
     "output_type": "execute_result"
    }
   ],
   "source": [
    "crosstab = pd.crosstab(application_train['NAME_CONTRACT_TYPE'], application_train['TARGET'])\n",
    "crosstab"
   ]
  },
  {
   "cell_type": "code",
   "execution_count": 16,
   "metadata": {
    "collapsed": false
   },
   "outputs": [
    {
     "data": {
      "text/plain": [
       "(293.15054219964554,\n",
       " 1.0235150721172847e-65,\n",
       " 1,\n",
       " array([[ 255770.65910488,   22461.34089512],\n",
       "        [  26915.34089512,    2363.65910488]]))"
      ]
     },
     "execution_count": 16,
     "metadata": {},
     "output_type": "execute_result"
    }
   ],
   "source": [
    "stats.chi2_contingency(crosstab)"
   ]
  },
  {
   "cell_type": "markdown",
   "metadata": {},
   "source": [
    "#### Summary of NAME_CONTRACT_TYPE: \n",
    "- Revolving loans are very less in test data\n",
    "- there is very less correlation between loan type and target variable"
   ]
  },
  {
   "cell_type": "markdown",
   "metadata": {},
   "source": [
    "### CODE_GENDER \n",
    "___Gender of the client___"
   ]
  },
  {
   "cell_type": "code",
   "execution_count": 17,
   "metadata": {
    "collapsed": false
   },
   "outputs": [
    {
     "data": {
      "text/plain": [
       "array(['M', 'F', 'XNA'], dtype=object)"
      ]
     },
     "execution_count": 17,
     "metadata": {},
     "output_type": "execute_result"
    }
   ],
   "source": [
    "application_train.CODE_GENDER.unique()"
   ]
  },
  {
   "cell_type": "code",
   "execution_count": 18,
   "metadata": {
    "collapsed": false
   },
   "outputs": [
    {
     "data": {
      "text/plain": [
       "array(['F', 'M'], dtype=object)"
      ]
     },
     "execution_count": 18,
     "metadata": {},
     "output_type": "execute_result"
    }
   ],
   "source": [
    "application_test.CODE_GENDER.unique()"
   ]
  },
  {
   "cell_type": "code",
   "execution_count": 19,
   "metadata": {
    "collapsed": false
   },
   "outputs": [
    {
     "data": {
      "text/plain": [
       "<matplotlib.axes._subplots.AxesSubplot at 0x7faf74dd7978>"
      ]
     },
     "execution_count": 19,
     "metadata": {},
     "output_type": "execute_result"
    },
    {
     "data": {
      "image/png": "[encoded data removed]",
      "text/plain": [
       "<matplotlib.figure.Figure at 0x7faf74ddeb70>"
      ]
     },
     "metadata": {},
     "output_type": "display_data"
    }
   ],
   "source": [
    "sns.countplot(application_train.CODE_GENDER)"
   ]
  },
  {
   "cell_type": "code",
   "execution_count": 20,
   "metadata": {
    "collapsed": false
   },
   "outputs": [
    {
     "data": {
      "text/plain": [
       "<matplotlib.axes._subplots.AxesSubplot at 0x7faf74d51908>"
      ]
     },
     "execution_count": 20,
     "metadata": {},
     "output_type": "execute_result"
    },
    {
     "data": {
      "image/png": "[encoded data removed]",
      "text/plain": [
       "<matplotlib.figure.Figure at 0x7faf74d35048>"
      ]
     },
     "metadata": {},
     "output_type": "display_data"
    }
   ],
   "source": [
    "sns.countplot(application_test.CODE_GENDER)"
   ]
  },
  {
   "cell_type": "code",
   "execution_count": 21,
   "metadata": {
    "collapsed": false
   },
   "outputs": [
    {
     "data": {
      "text/plain": [
       "<matplotlib.axes._subplots.AxesSubplot at 0x7faf74cdf048>"
      ]
     },
     "execution_count": 21,
     "metadata": {},
     "output_type": "execute_result"
    },
    {
     "data": {
      "image/png": "[encoded data removed]",
      "text/plain": [
       "<matplotlib.figure.Figure at 0x7faf7b154198>"
      ]
     },
     "metadata": {},
     "output_type": "display_data"
    }
   ],
   "source": [
    "sns.countplot(x='TARGET',hue='CODE_GENDER',data=application_train)"
   ]
  },
  {
   "cell_type": "code",
   "execution_count": 25,
   "metadata": {
    "collapsed": false
   },
   "outputs": [
    {
     "data": {
      "text/html": [
       "<div>\n",
       "<table border=\"1\" class=\"dataframe\">\n",
       "  <thead>\n",
       "    <tr style=\"text-align: right;\">\n",
       "      <th>TARGET</th>\n",
       "      <th>0</th>\n",
       "      <th>1</th>\n",
       "    </tr>\n",
       "    <tr>\n",
       "      <th>CODE_GENDER</th>\n",
       "      <th></th>\n",
       "      <th></th>\n",
       "    </tr>\n",
       "  </thead>\n",
       "  <tbody>\n",
       "    <tr>\n",
       "      <th>F</th>\n",
       "      <td>188278</td>\n",
       "      <td>14170</td>\n",
       "    </tr>\n",
       "    <tr>\n",
       "      <th>M</th>\n",
       "      <td>94404</td>\n",
       "      <td>10655</td>\n",
       "    </tr>\n",
       "  </tbody>\n",
       "</table>\n",
       "</div>"
      ],
      "text/plain": [
       "TARGET            0      1\n",
       "CODE_GENDER               \n",
       "F            188278  14170\n",
       "M             94404  10655"
      ]
     },
     "execution_count": 25,
     "metadata": {},
     "output_type": "execute_result"
    }
   ],
   "source": [
    "crosstab = pd.crosstab(application_train[application_train.CODE_GENDER != 'XNA']['CODE_GENDER'], application_train[application_train.CODE_GENDER != 'XNA']['TARGET'])\n",
    "crosstab"
   ]
  },
  {
   "cell_type": "code",
   "execution_count": 26,
   "metadata": {
    "collapsed": false
   },
   "outputs": [
    {
     "data": {
      "text/plain": [
       "(920.00572542498492,\n",
       " 4.3940913399831119e-202,\n",
       " 1,\n",
       " array([[ 186104.39936652,   16343.60063348],\n",
       "        [  96577.60063348,    8481.39936652]]))"
      ]
     },
     "execution_count": 26,
     "metadata": {},
     "output_type": "execute_result"
    }
   ],
   "source": [
    "stats.chi2_contingency(crosstab)"
   ]
  },
  {
   "cell_type": "markdown",
   "metadata": {},
   "source": [
    "#### Summary of CODE_GENDER\n",
    "- Females are more in the data\n",
    "- Male defaulter are more in ratio as compared to female defaulters"
   ]
  },
  {
   "cell_type": "markdown",
   "metadata": {},
   "source": [
    "### FLAG_OWN_CAR\n",
    "___Flag if the client owns a car___"
   ]
  },
  {
   "cell_type": "code",
   "execution_count": 27,
   "metadata": {
    "collapsed": false
   },
   "outputs": [
    {
     "data": {
      "text/plain": [
       "array(['N', 'Y'], dtype=object)"
      ]
     },
     "execution_count": 27,
     "metadata": {},
     "output_type": "execute_result"
    }
   ],
   "source": [
    "application_train.FLAG_OWN_CAR.unique()"
   ]
  },
  {
   "cell_type": "code",
   "execution_count": 28,
   "metadata": {
    "collapsed": false
   },
   "outputs": [
    {
     "data": {
      "text/plain": [
       "array(['N', 'Y'], dtype=object)"
      ]
     },
     "execution_count": 28,
     "metadata": {},
     "output_type": "execute_result"
    }
   ],
   "source": [
    "application_test.FLAG_OWN_CAR.unique()"
   ]
  },
  {
   "cell_type": "code",
   "execution_count": 29,
   "metadata": {
    "collapsed": false
   },
   "outputs": [
    {
     "data": {
      "text/plain": [
       "<matplotlib.axes._subplots.AxesSubplot at 0x7faf748921d0>"
      ]
     },
     "execution_count": 29,
     "metadata": {},
     "output_type": "execute_result"
    },
    {
     "data": {
      "image/png": "[encoded data removed]",
      "text/plain": [
       "<matplotlib.figure.Figure at 0x7faf749f7ef0>"
      ]
     },
     "metadata": {},
     "output_type": "display_data"
    }
   ],
   "source": [
    "sns.countplot(application_train.FLAG_OWN_CAR)"
   ]
  },
  {
   "cell_type": "code",
   "execution_count": 31,
   "metadata": {
    "collapsed": false
   },
   "outputs": [
    {
     "data": {
      "text/plain": [
       "<matplotlib.axes._subplots.AxesSubplot at 0x7faf74cb4160>"
      ]
     },
     "execution_count": 31,
     "metadata": {},
     "output_type": "execute_result"
    },
    {
     "data": {
      "image/png": "[encoded data removed]",
      "text/plain": [
       "<matplotlib.figure.Figure at 0x7faf74bcfbe0>"
      ]
     },
     "metadata": {},
     "output_type": "display_data"
    }
   ],
   "source": [
    "sns.countplot(application_test.FLAG_OWN_CAR)"
   ]
  },
  {
   "cell_type": "code",
   "execution_count": 32,
   "metadata": {
    "collapsed": false
   },
   "outputs": [
    {
     "data": {
      "text/plain": [
       "<matplotlib.axes._subplots.AxesSubplot at 0x7faf7478ca20>"
      ]
     },
     "execution_count": 32,
     "metadata": {},
     "output_type": "execute_result"
    },
    {
     "data": {
      "image/png": "[encoded data removed]",
      "text/plain": [
       "<matplotlib.figure.Figure at 0x7faf74d246d8>"
      ]
     },
     "metadata": {},
     "output_type": "display_data"
    }
   ],
   "source": [
    "sns.countplot(x='TARGET',hue='FLAG_OWN_CAR',data=application_train)"
   ]
  },
  {
   "cell_type": "code",
   "execution_count": 34,
   "metadata": {
    "collapsed": false
   },
   "outputs": [
    {
     "data": {
      "text/html": [
       "<div>\n",
       "<table border=\"1\" class=\"dataframe\">\n",
       "  <thead>\n",
       "    <tr style=\"text-align: right;\">\n",
       "      <th>TARGET</th>\n",
       "      <th>0</th>\n",
       "      <th>1</th>\n",
       "    </tr>\n",
       "    <tr>\n",
       "      <th>FLAG_OWN_CAR</th>\n",
       "      <th></th>\n",
       "      <th></th>\n",
       "    </tr>\n",
       "  </thead>\n",
       "  <tbody>\n",
       "    <tr>\n",
       "      <th>N</th>\n",
       "      <td>185675</td>\n",
       "      <td>17249</td>\n",
       "    </tr>\n",
       "    <tr>\n",
       "      <th>Y</th>\n",
       "      <td>97011</td>\n",
       "      <td>7576</td>\n",
       "    </tr>\n",
       "  </tbody>\n",
       "</table>\n",
       "</div>"
      ],
      "text/plain": [
       "TARGET             0      1\n",
       "FLAG_OWN_CAR               \n",
       "N             185675  17249\n",
       "Y              97011   7576"
      ]
     },
     "execution_count": 34,
     "metadata": {},
     "output_type": "execute_result"
    }
   ],
   "source": [
    "crosstab = pd.crosstab(application_train['FLAG_OWN_CAR'], application_train['TARGET'])\n",
    "crosstab"
   ]
  },
  {
   "cell_type": "code",
   "execution_count": 37,
   "metadata": {
    "collapsed": false
   },
   "outputs": [
    {
     "data": {
      "text/plain": [
       "(146.65601825576024,\n",
       " 9.3309944311096668e-34,\n",
       " 1,\n",
       " array([[ 186542.18504054,   16381.81495946],\n",
       "        [  96143.81495946,    8443.18504054]]))"
      ]
     },
     "execution_count": 37,
     "metadata": {},
     "output_type": "execute_result"
    }
   ],
   "source": [
    "stats.chi2_contingency(crosstab)"
   ]
  },
  {
   "cell_type": "markdown",
   "metadata": {},
   "source": [
    "### FLAG_OWN_REALTY\n",
    "___Flag if client owns a house or flat___"
   ]
  },
  {
   "cell_type": "code",
   "execution_count": 38,
   "metadata": {
    "collapsed": false
   },
   "outputs": [
    {
     "data": {
      "text/plain": [
       "array(['Y', 'N'], dtype=object)"
      ]
     },
     "execution_count": 38,
     "metadata": {},
     "output_type": "execute_result"
    }
   ],
   "source": [
    "application_train.FLAG_OWN_REALTY.unique()"
   ]
  },
  {
   "cell_type": "code",
   "execution_count": 40,
   "metadata": {
    "collapsed": false
   },
   "outputs": [
    {
     "data": {
      "text/plain": [
       "array(['Y', 'N'], dtype=object)"
      ]
     },
     "execution_count": 40,
     "metadata": {},
     "output_type": "execute_result"
    }
   ],
   "source": [
    "application_test.FLAG_OWN_REALTY.unique()"
   ]
  },
  {
   "cell_type": "code",
   "execution_count": 41,
   "metadata": {
    "collapsed": false
   },
   "outputs": [
    {
     "data": {
      "text/plain": [
       "<matplotlib.axes._subplots.AxesSubplot at 0x7faf7474d588>"
      ]
     },
     "execution_count": 41,
     "metadata": {},
     "output_type": "execute_result"
    },
    {
     "data": {
      "image/png": "[encoded data removed]",
      "text/plain": [
       "<matplotlib.figure.Figure at 0x7faf749f7f60>"
      ]
     },
     "metadata": {},
     "output_type": "display_data"
    }
   ],
   "source": [
    "sns.countplot(application_train.FLAG_OWN_REALTY)"
   ]
  },
  {
   "cell_type": "code",
   "execution_count": 42,
   "metadata": {
    "collapsed": false
   },
   "outputs": [
    {
     "data": {
      "text/plain": [
       "<matplotlib.axes._subplots.AxesSubplot at 0x7faf74665588>"
      ]
     },
     "execution_count": 42,
     "metadata": {},
     "output_type": "execute_result"
    },
    {
     "data": {
      "image/png": "[encoded data removed]",
      "text/plain": [
       "<matplotlib.figure.Figure at 0x7faf74802860>"
      ]
     },
     "metadata": {},
     "output_type": "display_data"
    }
   ],
   "source": [
    "sns.countplot(application_test.FLAG_OWN_REALTY)"
   ]
  },
  {
   "cell_type": "code",
   "execution_count": 43,
   "metadata": {
    "collapsed": false
   },
   "outputs": [
    {
     "data": {
      "text/plain": [
       "<matplotlib.axes._subplots.AxesSubplot at 0x7faf745e01d0>"
      ]
     },
     "execution_count": 43,
     "metadata": {},
     "output_type": "execute_result"
    },
    {
     "data": {
      "image/png": "[encoded data removed]",
      "text/plain": [
       "<matplotlib.figure.Figure at 0x7faf74e4ba58>"
      ]
     },
     "metadata": {},
     "output_type": "display_data"
    }
   ],
   "source": [
    "sns.countplot(x='TARGET',hue='FLAG_OWN_REALTY',data=application_train)"
   ]
  },
  {
   "cell_type": "code",
   "execution_count": 45,
   "metadata": {
    "collapsed": false
   },
   "outputs": [
    {
     "data": {
      "text/html": [
       "<div>\n",
       "<table border=\"1\" class=\"dataframe\">\n",
       "  <thead>\n",
       "    <tr style=\"text-align: right;\">\n",
       "      <th>TARGET</th>\n",
       "      <th>0</th>\n",
       "      <th>1</th>\n",
       "    </tr>\n",
       "    <tr>\n",
       "      <th>FLAG_OWN_REALTY</th>\n",
       "      <th></th>\n",
       "      <th></th>\n",
       "    </tr>\n",
       "  </thead>\n",
       "  <tbody>\n",
       "    <tr>\n",
       "      <th>N</th>\n",
       "      <td>86357</td>\n",
       "      <td>7842</td>\n",
       "    </tr>\n",
       "    <tr>\n",
       "      <th>Y</th>\n",
       "      <td>196329</td>\n",
       "      <td>16983</td>\n",
       "    </tr>\n",
       "  </tbody>\n",
       "</table>\n",
       "</div>"
      ],
      "text/plain": [
       "TARGET                0      1\n",
       "FLAG_OWN_REALTY               \n",
       "N                 86357   7842\n",
       "Y                196329  16983"
      ]
     },
     "execution_count": 45,
     "metadata": {},
     "output_type": "execute_result"
    }
   ],
   "source": [
    "crosstab = pd.crosstab(application_train['FLAG_OWN_REALTY'], application_train['TARGET'])\n",
    "crosstab"
   ]
  },
  {
   "cell_type": "code",
   "execution_count": 48,
   "metadata": {
    "collapsed": false
   },
   "outputs": [
    {
     "data": {
      "text/plain": [
       "(11.57582729808418,\n",
       " 0.00066814703175458866,\n",
       " 1,\n",
       " array([[  86594.42593598,    7604.57406402],\n",
       "        [ 196091.57406402,   17220.42593598]]))"
      ]
     },
     "execution_count": 48,
     "metadata": {},
     "output_type": "execute_result"
    }
   ],
   "source": [
    "stats.chi2_contingency(crosstab)"
   ]
  },
  {
   "cell_type": "markdown",
   "metadata": {},
   "source": [
    "### CNT_CHILDREN\n",
    "__Number of children the client has__"
   ]
  },
  {
   "cell_type": "code",
   "execution_count": 50,
   "metadata": {
    "collapsed": false
   },
   "outputs": [
    {
     "data": {
      "text/plain": [
       "array([ 0,  1,  2,  3,  4,  7,  5,  6,  8,  9, 11, 12, 10, 19, 14])"
      ]
     },
     "execution_count": 50,
     "metadata": {},
     "output_type": "execute_result"
    }
   ],
   "source": [
    "application_train.CNT_CHILDREN.unique()"
   ]
  },
  {
   "cell_type": "code",
   "execution_count": 51,
   "metadata": {
    "collapsed": false
   },
   "outputs": [
    {
     "data": {
      "text/plain": [
       "array([ 0,  2,  1,  3,  8,  4,  6,  5,  7, 20, 11])"
      ]
     },
     "execution_count": 51,
     "metadata": {},
     "output_type": "execute_result"
    }
   ],
   "source": [
    "application_test.CNT_CHILDREN.unique()"
   ]
  },
  {
   "cell_type": "code",
   "execution_count": 52,
   "metadata": {
    "collapsed": false
   },
   "outputs": [
    {
     "data": {
      "text/plain": [
       "<matplotlib.axes._subplots.AxesSubplot at 0x7faf745ca470>"
      ]
     },
     "execution_count": 52,
     "metadata": {},
     "output_type": "execute_result"
    },
    {
     "data": {
      "image/png": "[encoded data removed]",
      "text/plain": [
       "<matplotlib.figure.Figure at 0x7faf747845f8>"
      ]
     },
     "metadata": {},
     "output_type": "display_data"
    }
   ],
   "source": [
    "sns.countplot(application_train.CNT_CHILDREN)"
   ]
  },
  {
   "cell_type": "code",
   "execution_count": 53,
   "metadata": {
    "collapsed": false
   },
   "outputs": [
    {
     "data": {
      "text/plain": [
       "<matplotlib.axes._subplots.AxesSubplot at 0x7faf74403978>"
      ]
     },
     "execution_count": 53,
     "metadata": {},
     "output_type": "execute_result"
    },
    {
     "data": {
      "image/png": "[encoded data removed]",
      "text/plain": [
       "<matplotlib.figure.Figure at 0x7faf74484b70>"
      ]
     },
     "metadata": {},
     "output_type": "display_data"
    }
   ],
   "source": [
    "sns.countplot(application_test.CNT_CHILDREN)"
   ]
  },
  {
   "cell_type": "code",
   "execution_count": 57,
   "metadata": {
    "collapsed": false
   },
   "outputs": [
    {
     "data": {
      "text/plain": [
       "<matplotlib.axes._subplots.AxesSubplot at 0x7faf73f9c278>"
      ]
     },
     "execution_count": 57,
     "metadata": {},
     "output_type": "execute_result"
    },
    {
     "data": {
      "image/png": "[encoded data removed]",
      "text/plain": [
       "<matplotlib.figure.Figure at 0x7faf744f7b00>"
      ]
     },
     "metadata": {},
     "output_type": "display_data"
    }
   ],
   "source": [
    "sns.countplot(x='TARGET',hue='CNT_CHILDREN',data=application_train)"
   ]
  },
  {
   "cell_type": "code",
   "execution_count": 59,
   "metadata": {
    "collapsed": false
   },
   "outputs": [
    {
     "data": {
      "text/html": [
       "<div>\n",
       "<table border=\"1\" class=\"dataframe\">\n",
       "  <thead>\n",
       "    <tr style=\"text-align: right;\">\n",
       "      <th>TARGET</th>\n",
       "      <th>0</th>\n",
       "      <th>1</th>\n",
       "    </tr>\n",
       "    <tr>\n",
       "      <th>CNT_CHILDREN</th>\n",
       "      <th></th>\n",
       "      <th></th>\n",
       "    </tr>\n",
       "  </thead>\n",
       "  <tbody>\n",
       "    <tr>\n",
       "      <th>0</th>\n",
       "      <td>198762</td>\n",
       "      <td>16609</td>\n",
       "    </tr>\n",
       "    <tr>\n",
       "      <th>1</th>\n",
       "      <td>55665</td>\n",
       "      <td>5454</td>\n",
       "    </tr>\n",
       "    <tr>\n",
       "      <th>2</th>\n",
       "      <td>24416</td>\n",
       "      <td>2333</td>\n",
       "    </tr>\n",
       "    <tr>\n",
       "      <th>3</th>\n",
       "      <td>3359</td>\n",
       "      <td>358</td>\n",
       "    </tr>\n",
       "    <tr>\n",
       "      <th>4</th>\n",
       "      <td>374</td>\n",
       "      <td>55</td>\n",
       "    </tr>\n",
       "    <tr>\n",
       "      <th>5</th>\n",
       "      <td>77</td>\n",
       "      <td>7</td>\n",
       "    </tr>\n",
       "    <tr>\n",
       "      <th>6</th>\n",
       "      <td>15</td>\n",
       "      <td>6</td>\n",
       "    </tr>\n",
       "    <tr>\n",
       "      <th>7</th>\n",
       "      <td>7</td>\n",
       "      <td>0</td>\n",
       "    </tr>\n",
       "    <tr>\n",
       "      <th>8</th>\n",
       "      <td>2</td>\n",
       "      <td>0</td>\n",
       "    </tr>\n",
       "    <tr>\n",
       "      <th>9</th>\n",
       "      <td>0</td>\n",
       "      <td>2</td>\n",
       "    </tr>\n",
       "    <tr>\n",
       "      <th>10</th>\n",
       "      <td>2</td>\n",
       "      <td>0</td>\n",
       "    </tr>\n",
       "    <tr>\n",
       "      <th>11</th>\n",
       "      <td>0</td>\n",
       "      <td>1</td>\n",
       "    </tr>\n",
       "    <tr>\n",
       "      <th>12</th>\n",
       "      <td>2</td>\n",
       "      <td>0</td>\n",
       "    </tr>\n",
       "    <tr>\n",
       "      <th>14</th>\n",
       "      <td>3</td>\n",
       "      <td>0</td>\n",
       "    </tr>\n",
       "    <tr>\n",
       "      <th>19</th>\n",
       "      <td>2</td>\n",
       "      <td>0</td>\n",
       "    </tr>\n",
       "  </tbody>\n",
       "</table>\n",
       "</div>"
      ],
      "text/plain": [
       "TARGET             0      1\n",
       "CNT_CHILDREN               \n",
       "0             198762  16609\n",
       "1              55665   5454\n",
       "2              24416   2333\n",
       "3               3359    358\n",
       "4                374     55\n",
       "5                 77      7\n",
       "6                 15      6\n",
       "7                  7      0\n",
       "8                  2      0\n",
       "9                  0      2\n",
       "10                 2      0\n",
       "11                 0      1\n",
       "12                 2      0\n",
       "14                 3      0\n",
       "19                 2      0"
      ]
     },
     "execution_count": 59,
     "metadata": {},
     "output_type": "execute_result"
    }
   ],
   "source": [
    "crosstab = pd.crosstab(application_train['CNT_CHILDREN'], application_train['TARGET'])\n",
    "crosstab"
   ]
  },
  {
   "cell_type": "markdown",
   "metadata": {},
   "source": [
    "### AMT_INCOME_TOTAL\n",
    "__Income of the client__"
   ]
  },
  {
   "cell_type": "code",
   "execution_count": 69,
   "metadata": {
    "collapsed": false
   },
   "outputs": [
    {
     "data": {
      "text/plain": [
       "count    3.075110e+05\n",
       "mean     1.687979e+05\n",
       "std      2.371231e+05\n",
       "min      2.565000e+04\n",
       "25%      1.125000e+05\n",
       "50%      1.471500e+05\n",
       "75%      2.025000e+05\n",
       "max      1.170000e+08\n",
       "Name: AMT_INCOME_TOTAL, dtype: float64"
      ]
     },
     "execution_count": 69,
     "metadata": {},
     "output_type": "execute_result"
    }
   ],
   "source": [
    "application_train.AMT_INCOME_TOTAL.describe()"
   ]
  },
  {
   "cell_type": "code",
   "execution_count": 72,
   "metadata": {
    "collapsed": false
   },
   "outputs": [
    {
     "data": {
      "text/plain": [
       "0.10     81000.0\n",
       "0.30    112500.0\n",
       "0.50    147150.0\n",
       "0.60    162000.0\n",
       "0.70    180000.0\n",
       "0.80    225000.0\n",
       "0.90    270000.0\n",
       "0.95    337500.0\n",
       "0.99    472500.0\n",
       "Name: AMT_INCOME_TOTAL, dtype: float64"
      ]
     },
     "execution_count": 72,
     "metadata": {},
     "output_type": "execute_result"
    }
   ],
   "source": [
    "application_train.AMT_INCOME_TOTAL.quantile([.1, 0.3, .5, 0.6, 0.7, 0.8, 0.9, 0.95, 0.99])"
   ]
  },
  {
   "cell_type": "code",
   "execution_count": 74,
   "metadata": {
    "collapsed": false
   },
   "outputs": [
    {
     "data": {
      "text/plain": [
       "count    4.874400e+04\n",
       "mean     1.784318e+05\n",
       "std      1.015226e+05\n",
       "min      2.694150e+04\n",
       "25%      1.125000e+05\n",
       "50%      1.575000e+05\n",
       "75%      2.250000e+05\n",
       "max      4.410000e+06\n",
       "Name: AMT_INCOME_TOTAL, dtype: float64"
      ]
     },
     "execution_count": 74,
     "metadata": {},
     "output_type": "execute_result"
    }
   ],
   "source": [
    "application_test.AMT_INCOME_TOTAL.describe()"
   ]
  },
  {
   "cell_type": "code",
   "execution_count": 75,
   "metadata": {
    "collapsed": false
   },
   "outputs": [
    {
     "data": {
      "text/plain": [
       "0.10     90000.0\n",
       "0.30    126000.0\n",
       "0.50    157500.0\n",
       "0.60    180000.0\n",
       "0.70    202500.0\n",
       "0.80    225000.0\n",
       "0.90    292500.0\n",
       "0.95    360000.0\n",
       "0.99    517500.0\n",
       "Name: AMT_INCOME_TOTAL, dtype: float64"
      ]
     },
     "execution_count": 75,
     "metadata": {},
     "output_type": "execute_result"
    }
   ],
   "source": [
    "application_test.AMT_INCOME_TOTAL.quantile([.1, 0.3, .5, 0.6, 0.7, 0.8, 0.9, 0.95, 0.99])"
   ]
  },
  {
   "cell_type": "code",
   "execution_count": 78,
   "metadata": {
    "collapsed": false
   },
   "outputs": [
    {
     "data": {
      "text/plain": [
       "<matplotlib.axes._subplots.AxesSubplot at 0x7faf5860f940>"
      ]
     },
     "execution_count": 78,
     "metadata": {},
     "output_type": "execute_result"
    },
    {
     "data": {
      "image/png": "[encoded data removed]",
      "text/plain": [
       "<matplotlib.figure.Figure at 0x7faf58468e80>"
      ]
     },
     "metadata": {},
     "output_type": "display_data"
    }
   ],
   "source": [
    "sns.distplot(application_train[application_train.AMT_INCOME_TOTAL < 500000.00].AMT_INCOME_TOTAL)"
   ]
  },
  {
   "cell_type": "code",
   "execution_count": 50,
   "metadata": {
    "collapsed": false
   },
   "outputs": [
    {
     "data": {
      "text/plain": [
       "<matplotlib.axes._subplots.AxesSubplot at 0x7f0dad7289b0>"
      ]
     },
     "execution_count": 50,
     "metadata": {},
     "output_type": "execute_result"
    },
    {
     "data": {
      "image/png": "[encoded data removed]",
      "text/plain": [
       "<matplotlib.figure.Figure at 0x7f0dae55b358>"
      ]
     },
     "metadata": {},
     "output_type": "display_data"
    }
   ],
   "source": [
    "sns.distplot(application_train[(application_train.TARGET == 0) & (application_train.AMT_INCOME_TOTAL < 500000.00) ].AMT_INCOME_TOTAL, color='green')\n",
    "sns.distplot(application_train[(application_train.TARGET == 1) & (application_train.AMT_INCOME_TOTAL < 500000.00) ].AMT_INCOME_TOTAL, color='red')"
   ]
  },
  {
   "cell_type": "code",
   "execution_count": 76,
   "metadata": {
    "collapsed": false
   },
   "outputs": [
    {
     "data": {
      "text/plain": [
       "0.10     81000.0\n",
       "0.30    112500.0\n",
       "0.50    148500.0\n",
       "0.60    166500.0\n",
       "0.70    185400.0\n",
       "0.80    225000.0\n",
       "0.90    270000.0\n",
       "0.95    337500.0\n",
       "0.99    486000.0\n",
       "Name: AMT_INCOME_TOTAL, dtype: float64"
      ]
     },
     "execution_count": 76,
     "metadata": {},
     "output_type": "execute_result"
    }
   ],
   "source": [
    "application_train[application_train.TARGET == 0].AMT_INCOME_TOTAL.quantile([.1, 0.3, .5, 0.6, 0.7, 0.8, 0.9, 0.95, 0.99])"
   ]
  },
  {
   "cell_type": "code",
   "execution_count": 77,
   "metadata": {
    "collapsed": false
   },
   "outputs": [
    {
     "data": {
      "text/plain": [
       "0.10     81000.0\n",
       "0.30    112500.0\n",
       "0.50    135000.0\n",
       "0.60    157500.0\n",
       "0.70    180000.0\n",
       "0.80    202500.0\n",
       "0.90    256500.0\n",
       "0.95    315000.0\n",
       "0.99    450000.0\n",
       "Name: AMT_INCOME_TOTAL, dtype: float64"
      ]
     },
     "execution_count": 77,
     "metadata": {},
     "output_type": "execute_result"
    }
   ],
   "source": [
    "application_train[application_train.TARGET == 1].AMT_INCOME_TOTAL.quantile([.1, 0.3, .5, 0.6, 0.7, 0.8, 0.9, 0.95, 0.99])"
   ]
  },
  {
   "cell_type": "markdown",
   "metadata": {},
   "source": [
    "#### Summary of Income\n",
    "- Income distribution between people who default or not is same\n",
    "- So loan paying is not entirely based on Income\n",
    "- Is it more of a behaviour then ?"
   ]
  },
  {
   "cell_type": "markdown",
   "metadata": {},
   "source": [
    "### EXT_SOURCE_3\n",
    "__Normalized score from external data source__"
   ]
  },
  {
   "cell_type": "code",
   "execution_count": 87,
   "metadata": {
    "collapsed": false
   },
   "outputs": [
    {
     "data": {
      "text/plain": [
       "(246546, 307511)"
      ]
     },
     "execution_count": 87,
     "metadata": {},
     "output_type": "execute_result"
    }
   ],
   "source": [
    "(application_train.EXT_SOURCE_3.notnull().sum(), application_train.shape[0])"
   ]
  },
  {
   "cell_type": "code",
   "execution_count": 83,
   "metadata": {
    "collapsed": false
   },
   "outputs": [
    {
     "data": {
      "text/plain": [
       "count    246546.000000\n",
       "mean          0.510853\n",
       "std           0.194844\n",
       "min           0.000527\n",
       "25%           0.370650\n",
       "50%           0.535276\n",
       "75%           0.669057\n",
       "max           0.896010\n",
       "Name: EXT_SOURCE_3, dtype: float64"
      ]
     },
     "execution_count": 83,
     "metadata": {},
     "output_type": "execute_result"
    }
   ],
   "source": [
    "application_train.EXT_SOURCE_3.describe()"
   ]
  },
  {
   "cell_type": "code",
   "execution_count": 84,
   "metadata": {
    "collapsed": false
   },
   "outputs": [
    {
     "data": {
      "text/plain": [
       "count    40076.000000\n",
       "mean         0.500106\n",
       "std          0.189498\n",
       "min          0.000527\n",
       "25%          0.363945\n",
       "50%          0.519097\n",
       "75%          0.652897\n",
       "max          0.882530\n",
       "Name: EXT_SOURCE_3, dtype: float64"
      ]
     },
     "execution_count": 84,
     "metadata": {},
     "output_type": "execute_result"
    }
   ],
   "source": [
    "application_test.EXT_SOURCE_3.describe()"
   ]
  },
  {
   "cell_type": "code",
   "execution_count": 90,
   "metadata": {
    "collapsed": false
   },
   "outputs": [
    {
     "data": {
      "text/plain": [
       "<matplotlib.axes._subplots.AxesSubplot at 0x7faf6181b4a8>"
      ]
     },
     "execution_count": 90,
     "metadata": {},
     "output_type": "execute_result"
    },
    {
     "data": {
      "image/png": "[encoded data removed]",
      "text/plain": [
       "<matplotlib.figure.Figure at 0x7faf61b942e8>"
      ]
     },
     "metadata": {},
     "output_type": "display_data"
    }
   ],
   "source": [
    "sns.distplot(application_train[application_train.EXT_SOURCE_3.notnull()].EXT_SOURCE_3)"
   ]
  },
  {
   "cell_type": "code",
   "execution_count": 92,
   "metadata": {
    "collapsed": false
   },
   "outputs": [
    {
     "data": {
      "text/plain": [
       "<matplotlib.axes._subplots.AxesSubplot at 0x7faf61bbcda0>"
      ]
     },
     "execution_count": 92,
     "metadata": {},
     "output_type": "execute_result"
    },
    {
     "data": {
      "image/png": "[encoded data removed]",
      "text/plain": [
       "<matplotlib.figure.Figure at 0x7faf59eb0518>"
      ]
     },
     "metadata": {},
     "output_type": "display_data"
    }
   ],
   "source": [
    "sns.distplot(application_test[application_test.EXT_SOURCE_3.notnull()].EXT_SOURCE_3)"
   ]
  },
  {
   "cell_type": "code",
   "execution_count": 93,
   "metadata": {
    "collapsed": false
   },
   "outputs": [
    {
     "data": {
      "text/plain": [
       "<matplotlib.axes._subplots.AxesSubplot at 0x7faf614751d0>"
      ]
     },
     "execution_count": 93,
     "metadata": {},
     "output_type": "execute_result"
    },
    {
     "data": {
      "image/png": "[encoded data removed]",
      "text/plain": [
       "<matplotlib.figure.Figure at 0x7faf6198d208>"
      ]
     },
     "metadata": {},
     "output_type": "display_data"
    }
   ],
   "source": [
    "sns.distplot(application_train[application_train.EXT_SOURCE_3.notnull() & (application_train.TARGET == 0)].EXT_SOURCE_3)"
   ]
  },
  {
   "cell_type": "code",
   "execution_count": 94,
   "metadata": {
    "collapsed": false
   },
   "outputs": [
    {
     "data": {
      "text/plain": [
       "<matplotlib.axes._subplots.AxesSubplot at 0x7faf5a35a1d0>"
      ]
     },
     "execution_count": 94,
     "metadata": {},
     "output_type": "execute_result"
    },
    {
     "data": {
      "image/png": "[encoded data removed]",
      "text/plain": [
       "<matplotlib.figure.Figure at 0x7faf61616048>"
      ]
     },
     "metadata": {},
     "output_type": "display_data"
    }
   ],
   "source": [
    "sns.distplot(application_train[application_train.EXT_SOURCE_3.notnull() & (application_train.TARGET == 1)].EXT_SOURCE_3)"
   ]
  },
  {
   "cell_type": "code",
   "execution_count": 35,
   "metadata": {
    "collapsed": false
   },
   "outputs": [
    {
     "data": {
      "text/plain": [
       "<matplotlib.axes._subplots.AxesSubplot at 0x7f0dafdc4cc0>"
      ]
     },
     "execution_count": 35,
     "metadata": {},
     "output_type": "execute_result"
    },
    {
     "data": {
      "image/png": "[encoded data removed]",
      "text/plain": [
       "<matplotlib.figure.Figure at 0x7f0dafdeb898>"
      ]
     },
     "metadata": {},
     "output_type": "display_data"
    }
   ],
   "source": [
    "sns.distplot(application_train[application_train.EXT_SOURCE_3.notnull()].EXT_SOURCE_3, color='blue')\n",
    "sns.distplot(application_train[application_train.EXT_SOURCE_3.notnull() & (application_train.TARGET == 1)].EXT_SOURCE_3, color='red')\n",
    "sns.distplot(application_train[application_train.EXT_SOURCE_3.notnull() & (application_train.TARGET == 0)].EXT_SOURCE_3, color='green')"
   ]
  },
  {
   "cell_type": "markdown",
   "metadata": {},
   "source": [
    "#### Summary of EXT_SOURCE_3\n",
    "- values < 0.4 most of the people are defaulting\n",
    "- variation explains the defaulting behavior"
   ]
  },
  {
   "cell_type": "markdown",
   "metadata": {},
   "source": [
    "### Generated Feature - AMT_CREDIT/AMT_INCOME_TOTAL\n",
    "__EDA for ratio of Loan Amount and Income__"
   ]
  },
  {
   "cell_type": "code",
   "execution_count": 55,
   "metadata": {
    "collapsed": false
   },
   "outputs": [],
   "source": [
    "application_train['loan_income_ratio']=application_train['AMT_CREDIT']/application_train['AMT_INCOME_TOTAL']\n",
    "application_test['loan_income_ratio']=application_test['AMT_CREDIT']/application_test['AMT_INCOME_TOTAL']"
   ]
  },
  {
   "cell_type": "code",
   "execution_count": 53,
   "metadata": {
    "collapsed": false
   },
   "outputs": [
    {
     "data": {
      "text/plain": [
       "count    307511.000000\n",
       "mean          3.957570\n",
       "std           2.689728\n",
       "min           0.004808\n",
       "25%           2.018667\n",
       "50%           3.265067\n",
       "75%           5.159880\n",
       "max          84.736842\n",
       "Name: loan_income_ratio, dtype: float64"
      ]
     },
     "execution_count": 53,
     "metadata": {},
     "output_type": "execute_result"
    }
   ],
   "source": [
    "application_train['loan_income_ratio'].describe()"
   ]
  },
  {
   "cell_type": "code",
   "execution_count": 56,
   "metadata": {
    "collapsed": false
   },
   "outputs": [
    {
     "data": {
      "text/plain": [
       "count    48744.000000\n",
       "mean         3.167544\n",
       "std          2.137173\n",
       "min          0.092500\n",
       "25%          1.695695\n",
       "50%          2.666143\n",
       "75%          4.029600\n",
       "max         30.445000\n",
       "Name: loan_income_ratio, dtype: float64"
      ]
     },
     "execution_count": 56,
     "metadata": {},
     "output_type": "execute_result"
    }
   ],
   "source": [
    "application_test['loan_income_ratio'].describe()"
   ]
  },
  {
   "cell_type": "code",
   "execution_count": 44,
   "metadata": {
    "collapsed": false
   },
   "outputs": [
    {
     "data": {
      "text/plain": [
       "<matplotlib.axes._subplots.AxesSubplot at 0x7f0dae81eda0>"
      ]
     },
     "execution_count": 44,
     "metadata": {},
     "output_type": "execute_result"
    },
    {
     "data": {
      "image/png": "[encoded data removed]",
      "text/plain": [
       "<matplotlib.figure.Figure at 0x7f0daeb19cc0>"
      ]
     },
     "metadata": {},
     "output_type": "display_data"
    }
   ],
   "source": [
    "sns.distplot(application_train[(application_train.loan_income_ratio <= 5)].loan_income_ratio, color='blue')\n",
    "sns.distplot(application_train[(application_train.loan_income_ratio <= 5) & (application_train.TARGET == 1)].loan_income_ratio, color='red')\n",
    "sns.distplot(application_train[(application_train.loan_income_ratio <= 5) & (application_train.TARGET == 0)].loan_income_ratio, color='green')"
   ]
  },
  {
   "cell_type": "code",
   "execution_count": 42,
   "metadata": {
    "collapsed": false
   },
   "outputs": [
    {
     "data": {
      "text/plain": [
       "<matplotlib.axes._subplots.AxesSubplot at 0x7f0dae8ea3c8>"
      ]
     },
     "execution_count": 42,
     "metadata": {},
     "output_type": "execute_result"
    },
    {
     "data": {
      "image/png": "[encoded data removed]",
      "text/plain": [
       "<matplotlib.figure.Figure at 0x7f0db4457ac8>"
      ]
     },
     "metadata": {},
     "output_type": "display_data"
    }
   ],
   "source": [
    "sns.distplot(application_train[(application_train.loan_income_ratio >= 5) & (application_train.loan_income_ratio <= 10)].loan_income_ratio, color='blue')\n",
    "sns.distplot(application_train[(application_train.loan_income_ratio >= 5) & (application_train.loan_income_ratio <= 10) & (application_train.TARGET == 1)].loan_income_ratio, color='red')\n",
    "sns.distplot(application_train[(application_train.loan_income_ratio >= 5) & (application_train.loan_income_ratio <= 10) & (application_train.TARGET == 0)].loan_income_ratio, color='green')"
   ]
  },
  {
   "cell_type": "code",
   "execution_count": 45,
   "metadata": {
    "collapsed": false
   },
   "outputs": [
    {
     "data": {
      "text/plain": [
       "<matplotlib.axes._subplots.AxesSubplot at 0x7f0dae531fd0>"
      ]
     },
     "execution_count": 45,
     "metadata": {},
     "output_type": "execute_result"
    },
    {
     "data": {
      "image/png": "[encoded data removed]",
      "text/plain": [
       "<matplotlib.figure.Figure at 0x7f0dae575908>"
      ]
     },
     "metadata": {},
     "output_type": "display_data"
    }
   ],
   "source": [
    "sns.distplot(application_train[(application_train.loan_income_ratio >= 10) & (application_train.loan_income_ratio <= 20)].loan_income_ratio, color='blue')\n",
    "sns.distplot(application_train[(application_train.loan_income_ratio >= 10) & (application_train.loan_income_ratio <= 20) & (application_train.TARGET == 1)].loan_income_ratio, color='red')\n",
    "sns.distplot(application_train[(application_train.loan_income_ratio >= 10) & (application_train.loan_income_ratio <= 20) & (application_train.TARGET == 0)].loan_income_ratio, color='green')"
   ]
  },
  {
   "cell_type": "code",
   "execution_count": 59,
   "metadata": {
    "collapsed": false
   },
   "outputs": [
    {
     "data": {
      "text/plain": [
       "<matplotlib.axes._subplots.AxesSubplot at 0x7f0dad359f98>"
      ]
     },
     "execution_count": 59,
     "metadata": {},
     "output_type": "execute_result"
    },
    {
     "data": {
      "image/png": "[encoded data removed]",
      "text/plain": [
       "<matplotlib.figure.Figure at 0x7f0dad71ef60>"
      ]
     },
     "metadata": {},
     "output_type": "display_data"
    }
   ],
   "source": [
    "sns.distplot(application_train[(application_train.loan_income_ratio >= 20)].loan_income_ratio, color='blue', bins=100)\n",
    "sns.distplot(application_train[(application_train.loan_income_ratio >= 20) & (application_train.TARGET == 1)].loan_income_ratio, color='red', bins=100)\n",
    "sns.distplot(application_train[(application_train.loan_income_ratio >= 20) & (application_train.TARGET == 0)].loan_income_ratio, color='green', bins=100)"
   ]
  },
  {
   "cell_type": "markdown",
   "metadata": {},
   "source": [
    "### NULL columns analysis "
   ]
  },
  {
   "cell_type": "code",
   "execution_count": 41,
   "metadata": {
    "collapsed": false
   },
   "outputs": [
    {
     "data": {
      "text/plain": [
       "AMT_REQ_CREDIT_BUREAU_YEAR      0.135016\n",
       "AMT_REQ_CREDIT_BUREAU_QRT       0.135016\n",
       "AMT_REQ_CREDIT_BUREAU_MON       0.135016\n",
       "AMT_REQ_CREDIT_BUREAU_WEEK      0.135016\n",
       "AMT_REQ_CREDIT_BUREAU_DAY       0.135016\n",
       "AMT_REQ_CREDIT_BUREAU_HOUR      0.135016\n",
       "EXT_SOURCE_3                    0.198253\n",
       "OCCUPATION_TYPE                 0.313455\n",
       "EMERGENCYSTATE_MODE             0.473983\n",
       "TOTALAREA_MODE                  0.482685\n",
       "YEARS_BEGINEXPLUATATION_MEDI    0.487810\n",
       "YEARS_BEGINEXPLUATATION_AVG     0.487810\n",
       "YEARS_BEGINEXPLUATATION_MODE    0.487810\n",
       "FLOORSMAX_MODE                  0.497608\n",
       "FLOORSMAX_MEDI                  0.497608\n",
       "FLOORSMAX_AVG                   0.497608\n",
       "HOUSETYPE_MODE                  0.501761\n",
       "LIVINGAREA_AVG                  0.501933\n",
       "LIVINGAREA_MODE                 0.501933\n",
       "LIVINGAREA_MEDI                 0.501933\n",
       "ENTRANCES_MODE                  0.503488\n",
       "ENTRANCES_MEDI                  0.503488\n",
       "ENTRANCES_AVG                   0.503488\n",
       "APARTMENTS_MEDI                 0.507497\n",
       "APARTMENTS_MODE                 0.507497\n",
       "APARTMENTS_AVG                  0.507497\n",
       "WALLSMATERIAL_MODE              0.508408\n",
       "ELEVATORS_AVG                   0.532960\n",
       "ELEVATORS_MODE                  0.532960\n",
       "ELEVATORS_MEDI                  0.532960\n",
       "NONLIVINGAREA_AVG               0.551792\n",
       "NONLIVINGAREA_MEDI              0.551792\n",
       "NONLIVINGAREA_MODE              0.551792\n",
       "EXT_SOURCE_1                    0.563811\n",
       "BASEMENTAREA_MODE               0.585160\n",
       "BASEMENTAREA_AVG                0.585160\n",
       "BASEMENTAREA_MEDI               0.585160\n",
       "LANDAREA_AVG                    0.593767\n",
       "LANDAREA_MEDI                   0.593767\n",
       "LANDAREA_MODE                   0.593767\n",
       "OWN_CAR_AGE                     0.659908\n",
       "YEARS_BUILD_MEDI                0.664978\n",
       "YEARS_BUILD_MODE                0.664978\n",
       "YEARS_BUILD_AVG                 0.664978\n",
       "FLOORSMIN_MODE                  0.678486\n",
       "FLOORSMIN_AVG                   0.678486\n",
       "FLOORSMIN_MEDI                  0.678486\n",
       "LIVINGAPARTMENTS_MEDI           0.683550\n",
       "LIVINGAPARTMENTS_AVG            0.683550\n",
       "LIVINGAPARTMENTS_MODE           0.683550\n",
       "FONDKAPREMONT_MODE              0.683862\n",
       "NONLIVINGAPARTMENTS_MEDI        0.694330\n",
       "NONLIVINGAPARTMENTS_MODE        0.694330\n",
       "NONLIVINGAPARTMENTS_AVG         0.694330\n",
       "COMMONAREA_MEDI                 0.698723\n",
       "COMMONAREA_MODE                 0.698723\n",
       "COMMONAREA_AVG                  0.698723\n",
       "dtype: float64"
      ]
     },
     "execution_count": 41,
     "metadata": {},
     "output_type": "execute_result"
    }
   ],
   "source": [
    "null_columns = application_train.isnull().sum()/application_train.shape[0]\n",
    "null_columns = null_columns[null_columns > 0.1]\n",
    "null_columns.sort_values()"
   ]
  },
  {
   "cell_type": "code",
   "execution_count": 42,
   "metadata": {
    "collapsed": false
   },
   "outputs": [
    {
     "data": {
      "text/plain": [
       "AMT_REQ_CREDIT_BUREAU_YEAR      0.124097\n",
       "AMT_REQ_CREDIT_BUREAU_DAY       0.124097\n",
       "AMT_REQ_CREDIT_BUREAU_WEEK      0.124097\n",
       "AMT_REQ_CREDIT_BUREAU_QRT       0.124097\n",
       "AMT_REQ_CREDIT_BUREAU_HOUR      0.124097\n",
       "AMT_REQ_CREDIT_BUREAU_MON       0.124097\n",
       "EXT_SOURCE_3                    0.177827\n",
       "OCCUPATION_TYPE                 0.320142\n",
       "EXT_SOURCE_1                    0.421221\n",
       "EMERGENCYSTATE_MODE             0.455625\n",
       "TOTALAREA_MODE                  0.464139\n",
       "YEARS_BEGINEXPLUATATION_AVG     0.468899\n",
       "YEARS_BEGINEXPLUATATION_MEDI    0.468899\n",
       "YEARS_BEGINEXPLUATATION_MODE    0.468899\n",
       "FLOORSMAX_MEDI                  0.478438\n",
       "FLOORSMAX_AVG                   0.478438\n",
       "FLOORSMAX_MODE                  0.478438\n",
       "LIVINGAREA_MODE                 0.483177\n",
       "LIVINGAREA_MEDI                 0.483177\n",
       "LIVINGAREA_AVG                  0.483177\n",
       "ENTRANCES_MODE                  0.483731\n",
       "ENTRANCES_MEDI                  0.483731\n",
       "ENTRANCES_AVG                   0.483731\n",
       "HOUSETYPE_MODE                  0.484552\n",
       "APARTMENTS_AVG                  0.490050\n",
       "APARTMENTS_MEDI                 0.490050\n",
       "APARTMENTS_MODE                 0.490050\n",
       "WALLSMATERIAL_MODE              0.490173\n",
       "ELEVATORS_MEDI                  0.516761\n",
       "ELEVATORS_AVG                   0.516761\n",
       "ELEVATORS_MODE                  0.516761\n",
       "NONLIVINGAREA_MODE              0.535122\n",
       "NONLIVINGAREA_MEDI              0.535122\n",
       "NONLIVINGAREA_AVG               0.535122\n",
       "BASEMENTAREA_MEDI               0.567065\n",
       "BASEMENTAREA_AVG                0.567065\n",
       "BASEMENTAREA_MODE               0.567065\n",
       "LANDAREA_AVG                    0.579641\n",
       "LANDAREA_MEDI                   0.579641\n",
       "LANDAREA_MODE                   0.579641\n",
       "YEARS_BUILD_AVG                 0.652757\n",
       "YEARS_BUILD_MEDI                0.652757\n",
       "YEARS_BUILD_MODE                0.652757\n",
       "OWN_CAR_AGE                     0.662892\n",
       "FLOORSMIN_MEDI                  0.666051\n",
       "FLOORSMIN_MODE                  0.666051\n",
       "FLOORSMIN_AVG                   0.666051\n",
       "LIVINGAPARTMENTS_AVG            0.672493\n",
       "LIVINGAPARTMENTS_MEDI           0.672493\n",
       "LIVINGAPARTMENTS_MODE           0.672493\n",
       "FONDKAPREMONT_MODE              0.672842\n",
       "NONLIVINGAPARTMENTS_MEDI        0.684125\n",
       "NONLIVINGAPARTMENTS_MODE        0.684125\n",
       "NONLIVINGAPARTMENTS_AVG         0.684125\n",
       "COMMONAREA_MEDI                 0.687161\n",
       "COMMONAREA_MODE                 0.687161\n",
       "COMMONAREA_AVG                  0.687161\n",
       "dtype: float64"
      ]
     },
     "execution_count": 42,
     "metadata": {},
     "output_type": "execute_result"
    }
   ],
   "source": [
    "null_columns = application_test.isnull().sum()/application_test.shape[0]\n",
    "null_columns = null_columns[null_columns > 0.1]\n",
    "null_columns.sort_values()"
   ]
  },
  {
   "cell_type": "raw",
   "metadata": {},
   "source": [
    "Important features which are null \n",
    "\n",
    "OWN_CAR_AGE                     0.659908\n",
    "EXT_SOURCE_1                    0.563811\n",
    "AMT_REQ_CREDIT_BUREAU_YEAR      0.135016\n",
    "AMT_REQ_CREDIT_BUREAU_QRT       0.135016\n",
    "AMT_REQ_CREDIT_BUREAU_MON       0.135016\n",
    "AMT_REQ_CREDIT_BUREAU_WEEK      0.135016\n",
    "AMT_REQ_CREDIT_BUREAU_DAY       0.135016\n",
    "AMT_REQ_CREDIT_BUREAU_HOUR      0.135016\n",
    "EXT_SOURCE_3                    0.198253\n",
    "OCCUPATION_TYPE                 0.313455"
   ]
  },
  {
   "cell_type": "code",
   "execution_count": 11,
   "metadata": {
    "collapsed": false
   },
   "outputs": [
    {
     "data": {
      "text/plain": [
       "N    202924\n",
       "Y         5\n",
       "Name: FLAG_OWN_CAR, dtype: int64"
      ]
     },
     "execution_count": 11,
     "metadata": {},
     "output_type": "execute_result"
    }
   ],
   "source": [
    "# if OWN_CAR_AGE is null when person not owns a Car ?\n",
    "application_train[application_train.OWN_CAR_AGE.isnull()].FLAG_OWN_CAR.value_counts()"
   ]
  },
  {
   "cell_type": "code",
   "execution_count": 40,
   "metadata": {
    "collapsed": false
   },
   "outputs": [
    {
     "data": {
      "text/plain": [
       "<matplotlib.axes._subplots.AxesSubplot at 0x7f91e8163dd8>"
      ]
     },
     "execution_count": 40,
     "metadata": {},
     "output_type": "execute_result"
    },
    {
     "data": {
      "image/png": "[encoded data removed]",
      "text/plain": [
       "<matplotlib.figure.Figure at 0x7f91e9228a90>"
      ]
     },
     "metadata": {},
     "output_type": "display_data"
    }
   ],
   "source": [
    "#distribution of EXT_SOURCE_1\n",
    "sns.distplot(application_train[~application_train.EXT_SOURCE_1.isnull()].EXT_SOURCE_1, fit=stats.gamma)"
   ]
  },
  {
   "cell_type": "code",
   "execution_count": 18,
   "metadata": {
    "collapsed": false
   },
   "outputs": [
    {
     "data": {
      "text/plain": [
       "<matplotlib.axes._subplots.AxesSubplot at 0x7f91e9e1fc50>"
      ]
     },
     "execution_count": 18,
     "metadata": {},
     "output_type": "execute_result"
    },
    {
     "data": {
      "image/png": "[encoded data removed]",
      "text/plain": [
       "<matplotlib.figure.Figure at 0x7f91ea032400>"
      ]
     },
     "metadata": {},
     "output_type": "display_data"
    }
   ],
   "source": [
    "sns.distplot(application_train.EXT_SOURCE_1.fillna(0))\n",
    "sns.distplot(application_train.EXT_SOURCE_1.fillna(0.5))"
   ]
  },
  {
   "cell_type": "code",
   "execution_count": 24,
   "metadata": {
    "collapsed": false
   },
   "outputs": [
    {
     "data": {
      "text/plain": [
       "<matplotlib.axes._subplots.AxesSubplot at 0x7f91e925c6a0>"
      ]
     },
     "execution_count": 24,
     "metadata": {},
     "output_type": "execute_result"
    },
    {
     "data": {
      "image/png": "[encoded data removed]",
      "text/plain": [
       "<matplotlib.figure.Figure at 0x7f91e97847f0>"
      ]
     },
     "metadata": {},
     "output_type": "display_data"
    }
   ],
   "source": [
    "sns.distplot(application_train[(~application_train.EXT_SOURCE_1.isnull()) & (application_train.TARGET == 1)].EXT_SOURCE_1, color='red')\n",
    "sns.distplot(application_train[(~application_train.EXT_SOURCE_1.isnull()) & (application_train.TARGET == 0)].EXT_SOURCE_1, color='green')"
   ]
  },
  {
   "cell_type": "code",
   "execution_count": 31,
   "metadata": {
    "collapsed": false
   },
   "outputs": [
    {
     "data": {
      "text/plain": [
       "0    0.914805\n",
       "1    0.085195\n",
       "Name: TARGET, dtype: float64"
      ]
     },
     "execution_count": 31,
     "metadata": {},
     "output_type": "execute_result"
    }
   ],
   "source": [
    "application_train[application_train.EXT_SOURCE_1.isnull()].TARGET.value_counts()/application_train.EXT_SOURCE_1.isnull().sum()"
   ]
  },
  {
   "cell_type": "code",
   "execution_count": 56,
   "metadata": {
    "collapsed": false
   },
   "outputs": [
    {
     "data": {
      "text/plain": [
       "0    0.925045\n",
       "1    0.074955\n",
       "Name: TARGET, dtype: float64"
      ]
     },
     "execution_count": 56,
     "metadata": {},
     "output_type": "execute_result"
    }
   ],
   "source": [
    "application_train[~application_train.EXT_SOURCE_1.isnull()].TARGET.value_counts()/(~application_train.EXT_SOURCE_1.isnull()).sum()"
   ]
  },
  {
   "cell_type": "code",
   "execution_count": 62,
   "metadata": {
    "collapsed": false
   },
   "outputs": [
    {
     "data": {
      "text/html": [
       "<div>\n",
       "<table border=\"1\" class=\"dataframe\">\n",
       "  <thead>\n",
       "    <tr style=\"text-align: right;\">\n",
       "      <th></th>\n",
       "      <th>mean</th>\n",
       "      <th>std</th>\n",
       "    </tr>\n",
       "    <tr>\n",
       "      <th>NAME_INCOME_TYPE</th>\n",
       "      <th></th>\n",
       "      <th></th>\n",
       "    </tr>\n",
       "  </thead>\n",
       "  <tbody>\n",
       "    <tr>\n",
       "      <th>Businessman</th>\n",
       "      <td>0.521988</td>\n",
       "      <td>0.121380</td>\n",
       "    </tr>\n",
       "    <tr>\n",
       "      <th>Commercial associate</th>\n",
       "      <td>0.500461</td>\n",
       "      <td>0.206816</td>\n",
       "    </tr>\n",
       "    <tr>\n",
       "      <th>Maternity leave</th>\n",
       "      <td>0.666147</td>\n",
       "      <td>0.215876</td>\n",
       "    </tr>\n",
       "    <tr>\n",
       "      <th>Pensioner</th>\n",
       "      <td>0.693047</td>\n",
       "      <td>0.161574</td>\n",
       "    </tr>\n",
       "    <tr>\n",
       "      <th>State servant</th>\n",
       "      <td>0.522977</td>\n",
       "      <td>0.202560</td>\n",
       "    </tr>\n",
       "    <tr>\n",
       "      <th>Student</th>\n",
       "      <td>0.420672</td>\n",
       "      <td>0.267348</td>\n",
       "    </tr>\n",
       "    <tr>\n",
       "      <th>Unemployed</th>\n",
       "      <td>0.416729</td>\n",
       "      <td>0.299629</td>\n",
       "    </tr>\n",
       "    <tr>\n",
       "      <th>Working</th>\n",
       "      <td>0.466842</td>\n",
       "      <td>0.203708</td>\n",
       "    </tr>\n",
       "  </tbody>\n",
       "</table>\n",
       "</div>"
      ],
      "text/plain": [
       "                          mean       std\n",
       "NAME_INCOME_TYPE                        \n",
       "Businessman           0.521988  0.121380\n",
       "Commercial associate  0.500461  0.206816\n",
       "Maternity leave       0.666147  0.215876\n",
       "Pensioner             0.693047  0.161574\n",
       "State servant         0.522977  0.202560\n",
       "Student               0.420672  0.267348\n",
       "Unemployed            0.416729  0.299629\n",
       "Working               0.466842  0.203708"
      ]
     },
     "execution_count": 62,
     "metadata": {},
     "output_type": "execute_result"
    }
   ],
   "source": [
    "application_train[(~application_train.EXT_SOURCE_1.isnull())].groupby('NAME_INCOME_TYPE').EXT_SOURCE_1.agg({'mean':'mean', 'std':'std'})"
   ]
  },
  {
   "cell_type": "code",
   "execution_count": 63,
   "metadata": {
    "collapsed": false
   },
   "outputs": [
    {
     "data": {
      "text/html": [
       "<div>\n",
       "<table border=\"1\" class=\"dataframe\">\n",
       "  <thead>\n",
       "    <tr style=\"text-align: right;\">\n",
       "      <th></th>\n",
       "      <th>mean</th>\n",
       "      <th>std</th>\n",
       "    </tr>\n",
       "    <tr>\n",
       "      <th>OCCUPATION_TYPE</th>\n",
       "      <th></th>\n",
       "      <th></th>\n",
       "    </tr>\n",
       "  </thead>\n",
       "  <tbody>\n",
       "    <tr>\n",
       "      <th>Accountants</th>\n",
       "      <td>0.587270</td>\n",
       "      <td>0.193059</td>\n",
       "    </tr>\n",
       "    <tr>\n",
       "      <th>Cleaning staff</th>\n",
       "      <td>0.529939</td>\n",
       "      <td>0.194366</td>\n",
       "    </tr>\n",
       "    <tr>\n",
       "      <th>Cooking staff</th>\n",
       "      <td>0.455514</td>\n",
       "      <td>0.186630</td>\n",
       "    </tr>\n",
       "    <tr>\n",
       "      <th>Core staff</th>\n",
       "      <td>0.511520</td>\n",
       "      <td>0.202100</td>\n",
       "    </tr>\n",
       "    <tr>\n",
       "      <th>Drivers</th>\n",
       "      <td>0.392040</td>\n",
       "      <td>0.194184</td>\n",
       "    </tr>\n",
       "    <tr>\n",
       "      <th>HR staff</th>\n",
       "      <td>0.568683</td>\n",
       "      <td>0.204251</td>\n",
       "    </tr>\n",
       "    <tr>\n",
       "      <th>High skill tech staff</th>\n",
       "      <td>0.514134</td>\n",
       "      <td>0.203555</td>\n",
       "    </tr>\n",
       "    <tr>\n",
       "      <th>IT staff</th>\n",
       "      <td>0.503048</td>\n",
       "      <td>0.200937</td>\n",
       "    </tr>\n",
       "    <tr>\n",
       "      <th>Laborers</th>\n",
       "      <td>0.422053</td>\n",
       "      <td>0.200620</td>\n",
       "    </tr>\n",
       "    <tr>\n",
       "      <th>Low-skill Laborers</th>\n",
       "      <td>0.328055</td>\n",
       "      <td>0.181018</td>\n",
       "    </tr>\n",
       "    <tr>\n",
       "      <th>Managers</th>\n",
       "      <td>0.554032</td>\n",
       "      <td>0.196199</td>\n",
       "    </tr>\n",
       "    <tr>\n",
       "      <th>Medicine staff</th>\n",
       "      <td>0.518346</td>\n",
       "      <td>0.190515</td>\n",
       "    </tr>\n",
       "    <tr>\n",
       "      <th>Private service staff</th>\n",
       "      <td>0.507767</td>\n",
       "      <td>0.190675</td>\n",
       "    </tr>\n",
       "    <tr>\n",
       "      <th>Realty agents</th>\n",
       "      <td>0.511589</td>\n",
       "      <td>0.191447</td>\n",
       "    </tr>\n",
       "    <tr>\n",
       "      <th>Sales staff</th>\n",
       "      <td>0.459581</td>\n",
       "      <td>0.193280</td>\n",
       "    </tr>\n",
       "    <tr>\n",
       "      <th>Secretaries</th>\n",
       "      <td>0.530492</td>\n",
       "      <td>0.191747</td>\n",
       "    </tr>\n",
       "    <tr>\n",
       "      <th>Security staff</th>\n",
       "      <td>0.441711</td>\n",
       "      <td>0.209068</td>\n",
       "    </tr>\n",
       "    <tr>\n",
       "      <th>Waiters/barmen staff</th>\n",
       "      <td>0.400126</td>\n",
       "      <td>0.187391</td>\n",
       "    </tr>\n",
       "  </tbody>\n",
       "</table>\n",
       "</div>"
      ],
      "text/plain": [
       "                           mean       std\n",
       "OCCUPATION_TYPE                          \n",
       "Accountants            0.587270  0.193059\n",
       "Cleaning staff         0.529939  0.194366\n",
       "Cooking staff          0.455514  0.186630\n",
       "Core staff             0.511520  0.202100\n",
       "Drivers                0.392040  0.194184\n",
       "HR staff               0.568683  0.204251\n",
       "High skill tech staff  0.514134  0.203555\n",
       "IT staff               0.503048  0.200937\n",
       "Laborers               0.422053  0.200620\n",
       "Low-skill Laborers     0.328055  0.181018\n",
       "Managers               0.554032  0.196199\n",
       "Medicine staff         0.518346  0.190515\n",
       "Private service staff  0.507767  0.190675\n",
       "Realty agents          0.511589  0.191447\n",
       "Sales staff            0.459581  0.193280\n",
       "Secretaries            0.530492  0.191747\n",
       "Security staff         0.441711  0.209068\n",
       "Waiters/barmen staff   0.400126  0.187391"
      ]
     },
     "execution_count": 63,
     "metadata": {},
     "output_type": "execute_result"
    }
   ],
   "source": [
    "application_train[(~application_train.EXT_SOURCE_1.isnull())].groupby('OCCUPATION_TYPE').EXT_SOURCE_1.agg({'mean':'mean', 'std':'std'})\n"
   ]
  },
  {
   "cell_type": "code",
   "execution_count": 74,
   "metadata": {
    "collapsed": false
   },
   "outputs": [
    {
     "data": {
      "text/plain": [
       "array([nan, 'Drivers', 'Core staff', 'Laborers', 'Accountants',\n",
       "       'Low-skill Laborers'], dtype=object)"
      ]
     },
     "execution_count": 74,
     "metadata": {},
     "output_type": "execute_result"
    }
   ],
   "source": [
    "application_train[(~application_train.EXT_SOURCE_1.isnull()) & (application_train.NAME_INCOME_TYPE == 'Unemployed')].OCCUPATION_TYPE.unique()\n",
    "application_train[(~application_train.EXT_SOURCE_1.isnull()) & (application_train.NAME_INCOME_TYPE == 'Student')].OCCUPATION_TYPE.unique()"
   ]
  },
  {
   "cell_type": "code",
   "execution_count": 77,
   "metadata": {
    "collapsed": false
   },
   "outputs": [
    {
     "data": {
      "text/plain": [
       "NAME_INCOME_TYPE      OCCUPATION_TYPE      \n",
       "Businessman           Core staff                   1\n",
       "                      Managers                     1\n",
       "                      NA                           2\n",
       "Commercial associate  Accountants               2525\n",
       "                      Cleaning staff             289\n",
       "                      Cooking staff              569\n",
       "                      Core staff                3777\n",
       "                      Drivers                   1754\n",
       "                      HR staff                   133\n",
       "                      High skill tech staff     1845\n",
       "                      IT staff                   124\n",
       "                      Laborers                  5694\n",
       "                      Low-skill Laborers         131\n",
       "                      Managers                  4872\n",
       "                      Medicine staff             496\n",
       "                      NA                        6434\n",
       "                      Private service staff      535\n",
       "                      Realty agents              181\n",
       "                      Sales staff               5623\n",
       "                      Secretaries                215\n",
       "                      Security staff             527\n",
       "                      Waiters/barmen staff       193\n",
       "Maternity leave       Accountants                  1\n",
       "                      Core staff                   2\n",
       "                      NA                           1\n",
       "Pensioner             NA                       12850\n",
       "State servant         Accountants                441\n",
       "                      Cleaning staff              79\n",
       "                      Cooking staff              168\n",
       "                      Core staff                3834\n",
       "                                               ...  \n",
       "                      Sales staff                100\n",
       "                      Secretaries                145\n",
       "                      Security staff             147\n",
       "                      Waiters/barmen staff        23\n",
       "Student               Accountants                  1\n",
       "                      Core staff                   3\n",
       "                      Drivers                      1\n",
       "                      Laborers                     1\n",
       "                      Low-skill Laborers           1\n",
       "                      NA                           2\n",
       "Unemployed            NA                           7\n",
       "Working               Accountants               3323\n",
       "                      Cleaning staff            1104\n",
       "                      Cooking staff             1725\n",
       "                      Core staff                7687\n",
       "                      Drivers                   4738\n",
       "                      HR staff                   189\n",
       "                      High skill tech staff     3706\n",
       "                      IT staff                   166\n",
       "                      Laborers                 17330\n",
       "                      Low-skill Laborers         529\n",
       "                      Managers                  5582\n",
       "                      Medicine staff            2209\n",
       "                      NA                       11755\n",
       "                      Private service staff      902\n",
       "                      Realty agents              257\n",
       "                      Sales staff              10545\n",
       "                      Secretaries                412\n",
       "                      Security staff            1719\n",
       "                      Waiters/barmen staff       441\n",
       "dtype: int64"
      ]
     },
     "execution_count": 77,
     "metadata": {},
     "output_type": "execute_result"
    }
   ],
   "source": [
    "application_train['NAME_INCOME_TYPE'] = application_train['NAME_INCOME_TYPE'].fillna('NA')\n",
    "application_train['OCCUPATION_TYPE'] = application_train['OCCUPATION_TYPE'].fillna('NA')\n",
    "application_train[(~application_train.EXT_SOURCE_1.isnull())].groupby(['NAME_INCOME_TYPE', 'OCCUPATION_TYPE']).size()"
   ]
  },
  {
   "cell_type": "code",
   "execution_count": 35,
   "metadata": {
    "collapsed": false
   },
   "outputs": [
    {
     "data": {
      "text/plain": [
       "0    0.906881\n",
       "1    0.093119\n",
       "Name: TARGET, dtype: float64"
      ]
     },
     "execution_count": 35,
     "metadata": {},
     "output_type": "execute_result"
    }
   ],
   "source": [
    "application_train[application_train.EXT_SOURCE_3.isnull()].TARGET.value_counts()/application_train.EXT_SOURCE_3.isnull().sum()"
   ]
  },
  {
   "cell_type": "code",
   "execution_count": 43,
   "metadata": {
    "collapsed": false
   },
   "outputs": [
    {
     "data": {
      "text/plain": [
       "0    0.922335\n",
       "1    0.077665\n",
       "Name: TARGET, dtype: float64"
      ]
     },
     "execution_count": 43,
     "metadata": {},
     "output_type": "execute_result"
    }
   ],
   "source": [
    "application_train[~application_train.EXT_SOURCE_3.isnull()].TARGET.value_counts()/(~application_train.EXT_SOURCE_3.isnull()).sum()"
   ]
  },
  {
   "cell_type": "markdown",
   "metadata": {},
   "source": [
    "### OCCUPATION_TYPE"
   ]
  },
  {
   "cell_type": "code",
   "execution_count": 45,
   "metadata": {
    "collapsed": false
   },
   "outputs": [
    {
     "data": {
      "text/plain": [
       "array(['Laborers', 'Core staff', 'Accountants', 'Managers', nan, 'Drivers',\n",
       "       'Sales staff', 'Cleaning staff', 'Cooking staff',\n",
       "       'Private service staff', 'Medicine staff', 'Security staff',\n",
       "       'High skill tech staff', 'Waiters/barmen staff',\n",
       "       'Low-skill Laborers', 'Realty agents', 'Secretaries', 'IT staff',\n",
       "       'HR staff'], dtype=object)"
      ]
     },
     "execution_count": 45,
     "metadata": {},
     "output_type": "execute_result"
    }
   ],
   "source": [
    "application_train.OCCUPATION_TYPE.unique()"
   ]
  },
  {
   "cell_type": "code",
   "execution_count": 50,
   "metadata": {
    "collapsed": false
   },
   "outputs": [
    {
     "data": {
      "text/plain": [
       "[<matplotlib.text.Text at 0x7f91e79b9780>,\n",
       " <matplotlib.text.Text at 0x7f91e796ac50>,\n",
       " <matplotlib.text.Text at 0x7f91e78ee710>,\n",
       " <matplotlib.text.Text at 0x7f91e78f3208>,\n",
       " <matplotlib.text.Text at 0x7f91e78f3cc0>,\n",
       " <matplotlib.text.Text at 0x7f91e78f77b8>,\n",
       " <matplotlib.text.Text at 0x7f91e787f2b0>,\n",
       " <matplotlib.text.Text at 0x7f91e787fd68>,\n",
       " <matplotlib.text.Text at 0x7f91e7887860>,\n",
       " <matplotlib.text.Text at 0x7f91e788b358>,\n",
       " <matplotlib.text.Text at 0x7f91e788be10>,\n",
       " <matplotlib.text.Text at 0x7f91e7891908>,\n",
       " <matplotlib.text.Text at 0x7f91e7896400>,\n",
       " <matplotlib.text.Text at 0x7f91e7896eb8>,\n",
       " <matplotlib.text.Text at 0x7f91e789d9b0>,\n",
       " <matplotlib.text.Text at 0x7f91e78a34a8>,\n",
       " <matplotlib.text.Text at 0x7f91e79576d8>,\n",
       " <matplotlib.text.Text at 0x7f91e7941898>]"
      ]
     },
     "execution_count": 50,
     "metadata": {},
     "output_type": "execute_result"
    },
    {
     "data": {
      "image/png": "[encoded data removed]",
      "text/plain": [
       "<matplotlib.figure.Figure at 0x7f91e7efbcc0>"
      ]
     },
     "metadata": {},
     "output_type": "display_data"
    }
   ],
   "source": [
    "ax = sns.countplot(application_train.OCCUPATION_TYPE)\n",
    "ax.set_xticklabels(ax.get_xticklabels(),rotation=90)\n"
   ]
  },
  {
   "cell_type": "code",
   "execution_count": 78,
   "metadata": {
    "collapsed": false
   },
   "outputs": [
    {
     "data": {
      "text/plain": [
       "[<matplotlib.text.Text at 0x7f91e6dcc080>,\n",
       " <matplotlib.text.Text at 0x7f91e6e50940>,\n",
       " <matplotlib.text.Text at 0x7f91e6aa5f98>,\n",
       " <matplotlib.text.Text at 0x7f91e6aada90>,\n",
       " <matplotlib.text.Text at 0x7f91e6ab3588>,\n",
       " <matplotlib.text.Text at 0x7f91e6ab9080>,\n",
       " <matplotlib.text.Text at 0x7f91e6ab9b38>,\n",
       " <matplotlib.text.Text at 0x7f91e6a3f630>,\n",
       " <matplotlib.text.Text at 0x7f91e6a43128>,\n",
       " <matplotlib.text.Text at 0x7f91e6a43be0>,\n",
       " <matplotlib.text.Text at 0x7f91e6a4a6d8>,\n",
       " <matplotlib.text.Text at 0x7f91e6a4f1d0>,\n",
       " <matplotlib.text.Text at 0x7f91e6a4fc88>,\n",
       " <matplotlib.text.Text at 0x7f91e6a54780>,\n",
       " <matplotlib.text.Text at 0x7f91e6a5b278>,\n",
       " <matplotlib.text.Text at 0x7f91e6a5bd30>,\n",
       " <matplotlib.text.Text at 0x7f91e6a61828>,\n",
       " <matplotlib.text.Text at 0x7f91e6a68320>,\n",
       " <matplotlib.text.Text at 0x7f91e6a68dd8>]"
      ]
     },
     "execution_count": 78,
     "metadata": {},
     "output_type": "execute_result"
    },
    {
     "data": {
      "image/png": "[encoded data removed]",
      "text/plain": [
       "<matplotlib.figure.Figure at 0x7f91e6f0cf60>"
      ]
     },
     "metadata": {},
     "output_type": "display_data"
    }
   ],
   "source": [
    "ax = sns.countplot(data = application_train, x = 'OCCUPATION_TYPE', hue='NAME_INCOME_TYPE')\n",
    "ax.set_xticklabels(ax.get_xticklabels(),rotation=90)"
   ]
  },
  {
   "cell_type": "markdown",
   "metadata": {},
   "source": [
    "### ANNUTIY"
   ]
  },
  {
   "cell_type": "code",
   "execution_count": 83,
   "metadata": {
    "collapsed": false
   },
   "outputs": [
    {
     "data": {
      "text/plain": [
       "<matplotlib.axes._subplots.AxesSubplot at 0x7f91d4941f28>"
      ]
     },
     "execution_count": 83,
     "metadata": {},
     "output_type": "execute_result"
    },
    {
     "data": {
      "image/png": "[encoded data removed]",
      "text/plain": [
       "<matplotlib.figure.Figure at 0x7f91d48dda20>"
      ]
     },
     "metadata": {},
     "output_type": "display_data"
    }
   ],
   "source": [
    "sns.distplot(application_train[~application_train.AMT_ANNUITY.isnull()].AMT_ANNUITY)"
   ]
  },
  {
   "cell_type": "code",
   "execution_count": 85,
   "metadata": {
    "collapsed": false
   },
   "outputs": [
    {
     "data": {
      "text/html": [
       "<div>\n",
       "<table border=\"1\" class=\"dataframe\">\n",
       "  <thead>\n",
       "    <tr style=\"text-align: right;\">\n",
       "      <th></th>\n",
       "      <th>SK_ID_CURR</th>\n",
       "      <th>TARGET</th>\n",
       "      <th>NAME_CONTRACT_TYPE</th>\n",
       "      <th>CODE_GENDER</th>\n",
       "      <th>FLAG_OWN_CAR</th>\n",
       "      <th>FLAG_OWN_REALTY</th>\n",
       "      <th>CNT_CHILDREN</th>\n",
       "      <th>AMT_INCOME_TOTAL</th>\n",
       "      <th>AMT_CREDIT</th>\n",
       "      <th>AMT_ANNUITY</th>\n",
       "      <th>...</th>\n",
       "      <th>FLAG_DOCUMENT_18</th>\n",
       "      <th>FLAG_DOCUMENT_19</th>\n",
       "      <th>FLAG_DOCUMENT_20</th>\n",
       "      <th>FLAG_DOCUMENT_21</th>\n",
       "      <th>AMT_REQ_CREDIT_BUREAU_HOUR</th>\n",
       "      <th>AMT_REQ_CREDIT_BUREAU_DAY</th>\n",
       "      <th>AMT_REQ_CREDIT_BUREAU_WEEK</th>\n",
       "      <th>AMT_REQ_CREDIT_BUREAU_MON</th>\n",
       "      <th>AMT_REQ_CREDIT_BUREAU_QRT</th>\n",
       "      <th>AMT_REQ_CREDIT_BUREAU_YEAR</th>\n",
       "    </tr>\n",
       "  </thead>\n",
       "  <tbody>\n",
       "    <tr>\n",
       "      <th>0</th>\n",
       "      <td>100002</td>\n",
       "      <td>1</td>\n",
       "      <td>Cash loans</td>\n",
       "      <td>M</td>\n",
       "      <td>N</td>\n",
       "      <td>Y</td>\n",
       "      <td>0</td>\n",
       "      <td>202500.0</td>\n",
       "      <td>406597.5</td>\n",
       "      <td>24700.5</td>\n",
       "      <td>...</td>\n",
       "      <td>0</td>\n",
       "      <td>0</td>\n",
       "      <td>0</td>\n",
       "      <td>0</td>\n",
       "      <td>0.0</td>\n",
       "      <td>0.0</td>\n",
       "      <td>0.0</td>\n",
       "      <td>0.0</td>\n",
       "      <td>0.0</td>\n",
       "      <td>1.0</td>\n",
       "    </tr>\n",
       "    <tr>\n",
       "      <th>1</th>\n",
       "      <td>100003</td>\n",
       "      <td>0</td>\n",
       "      <td>Cash loans</td>\n",
       "      <td>F</td>\n",
       "      <td>N</td>\n",
       "      <td>N</td>\n",
       "      <td>0</td>\n",
       "      <td>270000.0</td>\n",
       "      <td>1293502.5</td>\n",
       "      <td>35698.5</td>\n",
       "      <td>...</td>\n",
       "      <td>0</td>\n",
       "      <td>0</td>\n",
       "      <td>0</td>\n",
       "      <td>0</td>\n",
       "      <td>0.0</td>\n",
       "      <td>0.0</td>\n",
       "      <td>0.0</td>\n",
       "      <td>0.0</td>\n",
       "      <td>0.0</td>\n",
       "      <td>0.0</td>\n",
       "    </tr>\n",
       "    <tr>\n",
       "      <th>2</th>\n",
       "      <td>100004</td>\n",
       "      <td>0</td>\n",
       "      <td>Revolving loans</td>\n",
       "      <td>M</td>\n",
       "      <td>Y</td>\n",
       "      <td>Y</td>\n",
       "      <td>0</td>\n",
       "      <td>67500.0</td>\n",
       "      <td>135000.0</td>\n",
       "      <td>6750.0</td>\n",
       "      <td>...</td>\n",
       "      <td>0</td>\n",
       "      <td>0</td>\n",
       "      <td>0</td>\n",
       "      <td>0</td>\n",
       "      <td>0.0</td>\n",
       "      <td>0.0</td>\n",
       "      <td>0.0</td>\n",
       "      <td>0.0</td>\n",
       "      <td>0.0</td>\n",
       "      <td>0.0</td>\n",
       "    </tr>\n",
       "    <tr>\n",
       "      <th>3</th>\n",
       "      <td>100006</td>\n",
       "      <td>0</td>\n",
       "      <td>Cash loans</td>\n",
       "      <td>F</td>\n",
       "      <td>N</td>\n",
       "      <td>Y</td>\n",
       "      <td>0</td>\n",
       "      <td>135000.0</td>\n",
       "      <td>312682.5</td>\n",
       "      <td>29686.5</td>\n",
       "      <td>...</td>\n",
       "      <td>0</td>\n",
       "      <td>0</td>\n",
       "      <td>0</td>\n",
       "      <td>0</td>\n",
       "      <td>NaN</td>\n",
       "      <td>NaN</td>\n",
       "      <td>NaN</td>\n",
       "      <td>NaN</td>\n",
       "      <td>NaN</td>\n",
       "      <td>NaN</td>\n",
       "    </tr>\n",
       "    <tr>\n",
       "      <th>4</th>\n",
       "      <td>100007</td>\n",
       "      <td>0</td>\n",
       "      <td>Cash loans</td>\n",
       "      <td>M</td>\n",
       "      <td>N</td>\n",
       "      <td>Y</td>\n",
       "      <td>0</td>\n",
       "      <td>121500.0</td>\n",
       "      <td>513000.0</td>\n",
       "      <td>21865.5</td>\n",
       "      <td>...</td>\n",
       "      <td>0</td>\n",
       "      <td>0</td>\n",
       "      <td>0</td>\n",
       "      <td>0</td>\n",
       "      <td>0.0</td>\n",
       "      <td>0.0</td>\n",
       "      <td>0.0</td>\n",
       "      <td>0.0</td>\n",
       "      <td>0.0</td>\n",
       "      <td>0.0</td>\n",
       "    </tr>\n",
       "  </tbody>\n",
       "</table>\n",
       "<p>5 rows × 122 columns</p>\n",
       "</div>"
      ],
      "text/plain": [
       "   SK_ID_CURR  TARGET NAME_CONTRACT_TYPE CODE_GENDER FLAG_OWN_CAR  \\\n",
       "0      100002       1         Cash loans           M            N   \n",
       "1      100003       0         Cash loans           F            N   \n",
       "2      100004       0    Revolving loans           M            Y   \n",
       "3      100006       0         Cash loans           F            N   \n",
       "4      100007       0         Cash loans           M            N   \n",
       "\n",
       "  FLAG_OWN_REALTY  CNT_CHILDREN  AMT_INCOME_TOTAL  AMT_CREDIT  AMT_ANNUITY  \\\n",
       "0               Y             0          202500.0    406597.5      24700.5   \n",
       "1               N             0          270000.0   1293502.5      35698.5   \n",
       "2               Y             0           67500.0    135000.0       6750.0   \n",
       "3               Y             0          135000.0    312682.5      29686.5   \n",
       "4               Y             0          121500.0    513000.0      21865.5   \n",
       "\n",
       "              ...              FLAG_DOCUMENT_18 FLAG_DOCUMENT_19  \\\n",
       "0             ...                             0                0   \n",
       "1             ...                             0                0   \n",
       "2             ...                             0                0   \n",
       "3             ...                             0                0   \n",
       "4             ...                             0                0   \n",
       "\n",
       "  FLAG_DOCUMENT_20 FLAG_DOCUMENT_21 AMT_REQ_CREDIT_BUREAU_HOUR  \\\n",
       "0                0                0                        0.0   \n",
       "1                0                0                        0.0   \n",
       "2                0                0                        0.0   \n",
       "3                0                0                        NaN   \n",
       "4                0                0                        0.0   \n",
       "\n",
       "  AMT_REQ_CREDIT_BUREAU_DAY  AMT_REQ_CREDIT_BUREAU_WEEK  \\\n",
       "0                       0.0                         0.0   \n",
       "1                       0.0                         0.0   \n",
       "2                       0.0                         0.0   \n",
       "3                       NaN                         NaN   \n",
       "4                       0.0                         0.0   \n",
       "\n",
       "   AMT_REQ_CREDIT_BUREAU_MON  AMT_REQ_CREDIT_BUREAU_QRT  \\\n",
       "0                        0.0                        0.0   \n",
       "1                        0.0                        0.0   \n",
       "2                        0.0                        0.0   \n",
       "3                        NaN                        NaN   \n",
       "4                        0.0                        0.0   \n",
       "\n",
       "   AMT_REQ_CREDIT_BUREAU_YEAR  \n",
       "0                         1.0  \n",
       "1                         0.0  \n",
       "2                         0.0  \n",
       "3                         NaN  \n",
       "4                         0.0  \n",
       "\n",
       "[5 rows x 122 columns]"
      ]
     },
     "execution_count": 85,
     "metadata": {},
     "output_type": "execute_result"
    }
   ],
   "source": [
    "application_train.head()"
   ]
  },
  {
   "cell_type": "markdown",
   "metadata": {},
   "source": [
    "### APARTMENT Features"
   ]
  },
  {
   "cell_type": "code",
   "execution_count": 87,
   "metadata": {
    "collapsed": true
   },
   "outputs": [],
   "source": [
    "apartment_columns = ['APARTMENTS_AVG', 'BASEMENTAREA_AVG', 'YEARS_BEGINEXPLUATATION_AVG',\n",
    "'YEARS_BUILD_AVG','COMMONAREA_AVG','ELEVATORS_AVG','ENTRANCES_AVG','FLOORSMAX_AVG','FLOORSMIN_AVG',\n",
    "'LANDAREA_AVG','LIVINGAPARTMENTS_AVG','LIVINGAREA_AVG','NONLIVINGAPARTMENTS_AVG','NONLIVINGAREA_AVG',\n",
    "'APARTMENTS_MODE','BASEMENTAREA_MODE','YEARS_BEGINEXPLUATATION_MODE','YEARS_BUILD_MODE','COMMONAREA_MODE',\n",
    "'ELEVATORS_MODE','ENTRANCES_MODE','FLOORSMAX_MODE','FLOORSMIN_MODE','LANDAREA_MODE','LIVINGAPARTMENTS_MODE',\n",
    "'LIVINGAREA_MODE','NONLIVINGAPARTMENTS_MODE','NONLIVINGAREA_MODE','APARTMENTS_MEDI','BASEMENTAREA_MEDI',\n",
    "'YEARS_BEGINEXPLUATATION_MEDI','YEARS_BUILD_MEDI','COMMONAREA_MEDI','ELEVATORS_MEDI','ENTRANCES_MEDI',\n",
    "'FLOORSMAX_MEDI','FLOORSMIN_MEDI','LANDAREA_MEDI','LIVINGAPARTMENTS_MEDI','LIVINGAREA_MEDI','NONLIVINGAPARTMENTS_MEDI',\n",
    "'NONLIVINGAREA_MEDI','FONDKAPREMONT_MODE','HOUSETYPE_MODE','TOTALAREA_MODE','WALLSMATERIAL_MODE',\n",
    "'EMERGENCYSTATE_MODE']\n"
   ]
  },
  {
   "cell_type": "code",
   "execution_count": 91,
   "metadata": {
    "collapsed": false
   },
   "outputs": [
    {
     "data": {
      "text/plain": [
       "EMERGENCYSTATE_MODE             0.455625\n",
       "TOTALAREA_MODE                  0.464139\n",
       "YEARS_BEGINEXPLUATATION_AVG     0.468899\n",
       "YEARS_BEGINEXPLUATATION_MEDI    0.468899\n",
       "YEARS_BEGINEXPLUATATION_MODE    0.468899\n",
       "FLOORSMAX_MEDI                  0.478438\n",
       "FLOORSMAX_AVG                   0.478438\n",
       "FLOORSMAX_MODE                  0.478438\n",
       "LIVINGAREA_MEDI                 0.483177\n",
       "LIVINGAREA_AVG                  0.483177\n",
       "LIVINGAREA_MODE                 0.483177\n",
       "ENTRANCES_AVG                   0.483731\n",
       "ENTRANCES_MEDI                  0.483731\n",
       "ENTRANCES_MODE                  0.483731\n",
       "HOUSETYPE_MODE                  0.484552\n",
       "APARTMENTS_MEDI                 0.490050\n",
       "APARTMENTS_AVG                  0.490050\n",
       "APARTMENTS_MODE                 0.490050\n",
       "WALLSMATERIAL_MODE              0.490173\n",
       "ELEVATORS_MODE                  0.516761\n",
       "ELEVATORS_AVG                   0.516761\n",
       "ELEVATORS_MEDI                  0.516761\n",
       "NONLIVINGAREA_AVG               0.535122\n",
       "NONLIVINGAREA_MEDI              0.535122\n",
       "NONLIVINGAREA_MODE              0.535122\n",
       "BASEMENTAREA_AVG                0.567065\n",
       "BASEMENTAREA_MEDI               0.567065\n",
       "BASEMENTAREA_MODE               0.567065\n",
       "LANDAREA_MODE                   0.579641\n",
       "LANDAREA_MEDI                   0.579641\n",
       "LANDAREA_AVG                    0.579641\n",
       "YEARS_BUILD_AVG                 0.652757\n",
       "YEARS_BUILD_MODE                0.652757\n",
       "YEARS_BUILD_MEDI                0.652757\n",
       "FLOORSMIN_AVG                   0.666051\n",
       "FLOORSMIN_MEDI                  0.666051\n",
       "FLOORSMIN_MODE                  0.666051\n",
       "LIVINGAPARTMENTS_AVG            0.672493\n",
       "LIVINGAPARTMENTS_MEDI           0.672493\n",
       "LIVINGAPARTMENTS_MODE           0.672493\n",
       "FONDKAPREMONT_MODE              0.672842\n",
       "NONLIVINGAPARTMENTS_MODE        0.684125\n",
       "NONLIVINGAPARTMENTS_AVG         0.684125\n",
       "NONLIVINGAPARTMENTS_MEDI        0.684125\n",
       "COMMONAREA_AVG                  0.687161\n",
       "COMMONAREA_MODE                 0.687161\n",
       "COMMONAREA_MEDI                 0.687161\n",
       "dtype: float64"
      ]
     },
     "execution_count": 91,
     "metadata": {},
     "output_type": "execute_result"
    }
   ],
   "source": [
    "apartmen_null = application_test[apartment_columns].isnull().sum()/application_test.shape[0]\n",
    "apartmen_null.sort_values()"
   ]
  },
  {
   "cell_type": "code",
   "execution_count": 115,
   "metadata": {
    "collapsed": false
   },
   "outputs": [
    {
     "name": "stdout",
     "output_type": "stream",
     "text": [
      "[ 0.75991108  0.12195015]\n"
     ]
    }
   ],
   "source": [
    "from sklearn.decomposition import PCA\n",
    "pca = PCA(n_components=2)\n",
    "apartment_object_columns = list(application_test[apartment_columns].select_dtypes(include=['object']).columns)\n",
    "apartment_non_object_columns = list(set(apartment_columns) - set(apartment_object_columns))\n",
    "pc_dims = pca.fit_transform(application_train[apartment_non_object_columns].fillna(0))\n",
    "print(pca.explained_variance_ratio_)  \n",
    "\n"
   ]
  },
  {
   "cell_type": "code",
   "execution_count": 114,
   "metadata": {
    "collapsed": false
   },
   "outputs": [
    {
     "data": {
      "text/plain": [
       "['FONDKAPREMONT_MODE',\n",
       " 'HOUSETYPE_MODE',\n",
       " 'WALLSMATERIAL_MODE',\n",
       " 'EMERGENCYSTATE_MODE']"
      ]
     },
     "execution_count": 114,
     "metadata": {},
     "output_type": "execute_result"
    }
   ],
   "source": [
    "apartment_object_columns"
   ]
  },
  {
   "cell_type": "code",
   "execution_count": 116,
   "metadata": {
    "collapsed": false
   },
   "outputs": [
    {
     "data": {
      "text/plain": [
       "<matplotlib.collections.PathCollection at 0x7f91c51217b8>"
      ]
     },
     "execution_count": 116,
     "metadata": {},
     "output_type": "execute_result"
    },
    {
     "data": {
      "image/png": "[encoded data removed]",
      "text/plain": [
       "<matplotlib.figure.Figure at 0x7f91c51ce588>"
      ]
     },
     "metadata": {},
     "output_type": "display_data"
    }
   ],
   "source": [
    "plt.scatter(pc_dims[:, 0], pc_dims[:, 1])"
   ]
  },
  {
   "cell_type": "code",
   "execution_count": 119,
   "metadata": {
    "collapsed": false
   },
   "outputs": [
    {
     "name": "stdout",
     "output_type": "stream",
     "text": [
      "<class 'pandas.core.frame.DataFrame'>\n",
      "RangeIndex: 48744 entries, 0 to 48743\n",
      "Data columns (total 47 columns):\n",
      "APARTMENTS_AVG                  24857 non-null float64\n",
      "BASEMENTAREA_AVG                21103 non-null float64\n",
      "YEARS_BEGINEXPLUATATION_AVG     25888 non-null float64\n",
      "YEARS_BUILD_AVG                 16926 non-null float64\n",
      "COMMONAREA_AVG                  15249 non-null float64\n",
      "ELEVATORS_AVG                   23555 non-null float64\n",
      "ENTRANCES_AVG                   25165 non-null float64\n",
      "FLOORSMAX_AVG                   25423 non-null float64\n",
      "FLOORSMIN_AVG                   16278 non-null float64\n",
      "LANDAREA_AVG                    20490 non-null float64\n",
      "LIVINGAPARTMENTS_AVG            15964 non-null float64\n",
      "LIVINGAREA_AVG                  25192 non-null float64\n",
      "NONLIVINGAPARTMENTS_AVG         15397 non-null float64\n",
      "NONLIVINGAREA_AVG               22660 non-null float64\n",
      "APARTMENTS_MODE                 24857 non-null float64\n",
      "BASEMENTAREA_MODE               21103 non-null float64\n",
      "YEARS_BEGINEXPLUATATION_MODE    25888 non-null float64\n",
      "YEARS_BUILD_MODE                16926 non-null float64\n",
      "COMMONAREA_MODE                 15249 non-null float64\n",
      "ELEVATORS_MODE                  23555 non-null float64\n",
      "ENTRANCES_MODE                  25165 non-null float64\n",
      "FLOORSMAX_MODE                  25423 non-null float64\n",
      "FLOORSMIN_MODE                  16278 non-null float64\n",
      "LANDAREA_MODE                   20490 non-null float64\n",
      "LIVINGAPARTMENTS_MODE           15964 non-null float64\n",
      "LIVINGAREA_MODE                 25192 non-null float64\n",
      "NONLIVINGAPARTMENTS_MODE        15397 non-null float64\n",
      "NONLIVINGAREA_MODE              22660 non-null float64\n",
      "APARTMENTS_MEDI                 24857 non-null float64\n",
      "BASEMENTAREA_MEDI               21103 non-null float64\n",
      "YEARS_BEGINEXPLUATATION_MEDI    25888 non-null float64\n",
      "YEARS_BUILD_MEDI                16926 non-null float64\n",
      "COMMONAREA_MEDI                 15249 non-null float64\n",
      "ELEVATORS_MEDI                  23555 non-null float64\n",
      "ENTRANCES_MEDI                  25165 non-null float64\n",
      "FLOORSMAX_MEDI                  25423 non-null float64\n",
      "FLOORSMIN_MEDI                  16278 non-null float64\n",
      "LANDAREA_MEDI                   20490 non-null float64\n",
      "LIVINGAPARTMENTS_MEDI           15964 non-null float64\n",
      "LIVINGAREA_MEDI                 25192 non-null float64\n",
      "NONLIVINGAPARTMENTS_MEDI        15397 non-null float64\n",
      "NONLIVINGAREA_MEDI              22660 non-null float64\n",
      "FONDKAPREMONT_MODE              15947 non-null object\n",
      "HOUSETYPE_MODE                  25125 non-null object\n",
      "TOTALAREA_MODE                  26120 non-null float64\n",
      "WALLSMATERIAL_MODE              24851 non-null object\n",
      "EMERGENCYSTATE_MODE             26535 non-null object\n",
      "dtypes: float64(43), object(4)\n",
      "memory usage: 17.5+ MB\n"
     ]
    }
   ],
   "source": [
    "application_test[apartment_columns].info()"
   ]
  },
  {
   "cell_type": "markdown",
   "metadata": {},
   "source": [
    "### bureau "
   ]
  },
  {
   "cell_type": "code",
   "execution_count": 122,
   "metadata": {
    "collapsed": false
   },
   "outputs": [
    {
     "name": "stdout",
     "output_type": "stream",
     "text": [
      "<class 'pandas.core.frame.DataFrame'>\n",
      "RangeIndex: 1716428 entries, 0 to 1716427\n",
      "Data columns (total 17 columns):\n",
      "SK_ID_CURR                int64\n",
      "SK_ID_BUREAU              int64\n",
      "CREDIT_ACTIVE             object\n",
      "CREDIT_CURRENCY           object\n",
      "DAYS_CREDIT               int64\n",
      "CREDIT_DAY_OVERDUE        int64\n",
      "DAYS_CREDIT_ENDDATE       float64\n",
      "DAYS_ENDDATE_FACT         float64\n",
      "AMT_CREDIT_MAX_OVERDUE    float64\n",
      "CNT_CREDIT_PROLONG        int64\n",
      "AMT_CREDIT_SUM            float64\n",
      "AMT_CREDIT_SUM_DEBT       float64\n",
      "AMT_CREDIT_SUM_LIMIT      float64\n",
      "AMT_CREDIT_SUM_OVERDUE    float64\n",
      "CREDIT_TYPE               object\n",
      "DAYS_CREDIT_UPDATE        int64\n",
      "AMT_ANNUITY               float64\n",
      "dtypes: float64(8), int64(6), object(3)\n",
      "memory usage: 222.6+ MB\n"
     ]
    }
   ],
   "source": [
    "bureau = pd.read_csv('/home/neha/Desktop/code/ML/Kaggle/home_credit_default_risk/data/bureau.csv')\n",
    "bureau.info()"
   ]
  },
  {
   "cell_type": "code",
   "execution_count": 124,
   "metadata": {
    "collapsed": false
   },
   "outputs": [
    {
     "data": {
      "text/plain": [
       "array(['Closed', 'Active', 'Sold', 'Bad debt'], dtype=object)"
      ]
     },
     "execution_count": 124,
     "metadata": {},
     "output_type": "execute_result"
    }
   ],
   "source": [
    "bureau.CREDIT_ACTIVE.unique()"
   ]
  },
  {
   "cell_type": "code",
   "execution_count": 126,
   "metadata": {
    "collapsed": false
   },
   "outputs": [
    {
     "data": {
      "text/plain": [
       "Closed      1079273\n",
       "Active       630607\n",
       "Sold           6527\n",
       "Bad debt         21\n",
       "Name: CREDIT_ACTIVE, dtype: int64"
      ]
     },
     "execution_count": 126,
     "metadata": {},
     "output_type": "execute_result"
    }
   ],
   "source": [
    "bureau.CREDIT_ACTIVE.value_counts()"
   ]
  },
  {
   "cell_type": "code",
   "execution_count": 128,
   "metadata": {
    "collapsed": false
   },
   "outputs": [
    {
     "data": {
      "text/plain": [
       "array(['currency 1', 'currency 2', 'currency 4', 'currency 3'], dtype=object)"
      ]
     },
     "execution_count": 128,
     "metadata": {},
     "output_type": "execute_result"
    }
   ],
   "source": [
    "bureau.CREDIT_CURRENCY.unique()"
   ]
  },
  {
   "cell_type": "code",
   "execution_count": 130,
   "metadata": {
    "collapsed": false
   },
   "outputs": [
    {
     "data": {
      "text/plain": [
       "currency 1    1715020\n",
       "currency 2       1224\n",
       "currency 3        174\n",
       "currency 4         10\n",
       "Name: CREDIT_CURRENCY, dtype: int64"
      ]
     },
     "execution_count": 130,
     "metadata": {},
     "output_type": "execute_result"
    }
   ],
   "source": [
    "bureau.CREDIT_CURRENCY.value_counts()"
   ]
  },
  {
   "cell_type": "code",
   "execution_count": 133,
   "metadata": {
    "collapsed": false
   },
   "outputs": [
    {
     "data": {
      "text/plain": [
       "count    1.716428e+06\n",
       "mean    -1.142108e+03\n",
       "std      7.951649e+02\n",
       "min     -2.922000e+03\n",
       "25%     -1.666000e+03\n",
       "50%     -9.870000e+02\n",
       "75%     -4.740000e+02\n",
       "max      0.000000e+00\n",
       "Name: DAYS_CREDIT, dtype: float64"
      ]
     },
     "execution_count": 133,
     "metadata": {},
     "output_type": "execute_result"
    }
   ],
   "source": [
    "bureau.DAYS_CREDIT.describe()"
   ]
  },
  {
   "cell_type": "code",
   "execution_count": 136,
   "metadata": {
    "collapsed": false
   },
   "outputs": [
    {
     "data": {
      "text/plain": [
       "<matplotlib.axes._subplots.AxesSubplot at 0x7f91c2832160>"
      ]
     },
     "execution_count": 136,
     "metadata": {},
     "output_type": "execute_result"
    },
    {
     "data": {
      "image/png": "[encoded data removed]",
      "text/plain": [
       "<matplotlib.figure.Figure at 0x7f91c51a8b38>"
      ]
     },
     "metadata": {},
     "output_type": "display_data"
    }
   ],
   "source": [
    "sns.distplot(bureau.DAYS_CREDIT)"
   ]
  },
  {
   "cell_type": "code",
   "execution_count": 142,
   "metadata": {
    "collapsed": false
   },
   "outputs": [
    {
     "data": {
      "text/plain": [
       "25"
      ]
     },
     "execution_count": 142,
     "metadata": {},
     "output_type": "execute_result"
    }
   ],
   "source": [
    "(bureau.DAYS_CREDIT == 0).sum()"
   ]
  },
  {
   "cell_type": "code",
   "execution_count": 143,
   "metadata": {
    "collapsed": false
   },
   "outputs": [
    {
     "data": {
      "text/plain": [
       "count    1.716428e+06\n",
       "mean     8.181666e-01\n",
       "std      3.654443e+01\n",
       "min      0.000000e+00\n",
       "25%      0.000000e+00\n",
       "50%      0.000000e+00\n",
       "75%      0.000000e+00\n",
       "max      2.792000e+03\n",
       "Name: CREDIT_DAY_OVERDUE, dtype: float64"
      ]
     },
     "execution_count": 143,
     "metadata": {},
     "output_type": "execute_result"
    }
   ],
   "source": [
    "bureau.CREDIT_DAY_OVERDUE.describe()"
   ]
  },
  {
   "cell_type": "code",
   "execution_count": 141,
   "metadata": {
    "collapsed": false
   },
   "outputs": [
    {
     "data": {
      "text/plain": [
       "1712211"
      ]
     },
     "execution_count": 141,
     "metadata": {},
     "output_type": "execute_result"
    }
   ],
   "source": [
    "(bureau.CREDIT_DAY_OVERDUE == 0).sum()"
   ]
  },
  {
   "cell_type": "code",
   "execution_count": 139,
   "metadata": {
    "collapsed": false
   },
   "outputs": [
    {
     "data": {
      "text/plain": [
       "<matplotlib.axes._subplots.AxesSubplot at 0x7f91c2772828>"
      ]
     },
     "execution_count": 139,
     "metadata": {},
     "output_type": "execute_result"
    },
    {
     "data": {
      "image/png": "[encoded data removed]",
      "text/plain": [
       "<matplotlib.figure.Figure at 0x7f91c27c2da0>"
      ]
     },
     "metadata": {},
     "output_type": "display_data"
    }
   ],
   "source": [
    "sns.distplot(bureau[bureau.CREDIT_DAY_OVERDUE > 0].CREDIT_DAY_OVERDUE)"
   ]
  },
  {
   "cell_type": "markdown",
   "metadata": {},
   "source": [
    "### Bureau Balance"
   ]
  },
  {
   "cell_type": "code",
   "execution_count": 5,
   "metadata": {
    "collapsed": false
   },
   "outputs": [
    {
     "name": "stdout",
     "output_type": "stream",
     "text": [
      "<class 'pandas.core.frame.DataFrame'>\n",
      "RangeIndex: 27299925 entries, 0 to 27299924\n",
      "Data columns (total 3 columns):\n",
      "SK_ID_BUREAU      int64\n",
      "MONTHS_BALANCE    int64\n",
      "STATUS            object\n",
      "dtypes: int64(2), object(1)\n",
      "memory usage: 624.8+ MB\n"
     ]
    }
   ],
   "source": [
    "bureau_balance = pd.read_csv('/home/neha/Desktop/code/ML/Kaggle/home_credit_default_risk/data/bureau_balance.csv')\n",
    "bureau_balance.info()"
   ]
  },
  {
   "cell_type": "code",
   "execution_count": 6,
   "metadata": {
    "collapsed": false
   },
   "outputs": [
    {
     "data": {
      "text/html": [
       "<div>\n",
       "<table border=\"1\" class=\"dataframe\">\n",
       "  <thead>\n",
       "    <tr style=\"text-align: right;\">\n",
       "      <th></th>\n",
       "      <th>SK_ID_BUREAU</th>\n",
       "      <th>MONTHS_BALANCE</th>\n",
       "      <th>STATUS</th>\n",
       "    </tr>\n",
       "  </thead>\n",
       "  <tbody>\n",
       "    <tr>\n",
       "      <th>0</th>\n",
       "      <td>5715448</td>\n",
       "      <td>0</td>\n",
       "      <td>C</td>\n",
       "    </tr>\n",
       "    <tr>\n",
       "      <th>1</th>\n",
       "      <td>5715448</td>\n",
       "      <td>-1</td>\n",
       "      <td>C</td>\n",
       "    </tr>\n",
       "    <tr>\n",
       "      <th>2</th>\n",
       "      <td>5715448</td>\n",
       "      <td>-2</td>\n",
       "      <td>C</td>\n",
       "    </tr>\n",
       "    <tr>\n",
       "      <th>3</th>\n",
       "      <td>5715448</td>\n",
       "      <td>-3</td>\n",
       "      <td>C</td>\n",
       "    </tr>\n",
       "    <tr>\n",
       "      <th>4</th>\n",
       "      <td>5715448</td>\n",
       "      <td>-4</td>\n",
       "      <td>C</td>\n",
       "    </tr>\n",
       "  </tbody>\n",
       "</table>\n",
       "</div>"
      ],
      "text/plain": [
       "   SK_ID_BUREAU  MONTHS_BALANCE STATUS\n",
       "0       5715448               0      C\n",
       "1       5715448              -1      C\n",
       "2       5715448              -2      C\n",
       "3       5715448              -3      C\n",
       "4       5715448              -4      C"
      ]
     },
     "execution_count": 6,
     "metadata": {},
     "output_type": "execute_result"
    }
   ],
   "source": [
    "bureau_balance.head()"
   ]
  },
  {
   "cell_type": "code",
   "execution_count": 7,
   "metadata": {
    "collapsed": false
   },
   "outputs": [
    {
     "data": {
      "text/plain": [
       "array(['C', '0', 'X', '1', '2', '3', '5', '4'], dtype=object)"
      ]
     },
     "execution_count": 7,
     "metadata": {},
     "output_type": "execute_result"
    }
   ],
   "source": [
    "bureau_balance.STATUS.unique()"
   ]
  },
  {
   "cell_type": "code",
   "execution_count": 10,
   "metadata": {
    "collapsed": false
   },
   "outputs": [
    {
     "data": {
      "text/plain": [
       "C    13646993\n",
       "0     7499507\n",
       "X     5810482\n",
       "1      242347\n",
       "5       62406\n",
       "2       23419\n",
       "3        8924\n",
       "4        5847\n",
       "Name: STATUS, dtype: int64"
      ]
     },
     "execution_count": 10,
     "metadata": {},
     "output_type": "execute_result"
    }
   ],
   "source": [
    "bureau_balance.STATUS.value_counts()"
   ]
  },
  {
   "cell_type": "markdown",
   "metadata": {},
   "source": [
    "### Previous application"
   ]
  },
  {
   "cell_type": "code",
   "execution_count": 11,
   "metadata": {
    "collapsed": false
   },
   "outputs": [
    {
     "name": "stdout",
     "output_type": "stream",
     "text": [
      "<class 'pandas.core.frame.DataFrame'>\n",
      "RangeIndex: 1670214 entries, 0 to 1670213\n",
      "Data columns (total 37 columns):\n",
      "SK_ID_PREV                     1670214 non-null int64\n",
      "SK_ID_CURR                     1670214 non-null int64\n",
      "NAME_CONTRACT_TYPE             1670214 non-null object\n",
      "AMT_ANNUITY                    1297979 non-null float64\n",
      "AMT_APPLICATION                1670214 non-null float64\n",
      "AMT_CREDIT                     1670213 non-null float64\n",
      "AMT_DOWN_PAYMENT               774370 non-null float64\n",
      "AMT_GOODS_PRICE                1284699 non-null float64\n",
      "WEEKDAY_APPR_PROCESS_START     1670214 non-null object\n",
      "HOUR_APPR_PROCESS_START        1670214 non-null int64\n",
      "FLAG_LAST_APPL_PER_CONTRACT    1670214 non-null object\n",
      "NFLAG_LAST_APPL_IN_DAY         1670214 non-null int64\n",
      "RATE_DOWN_PAYMENT              774370 non-null float64\n",
      "RATE_INTEREST_PRIMARY          5951 non-null float64\n",
      "RATE_INTEREST_PRIVILEGED       5951 non-null float64\n",
      "NAME_CASH_LOAN_PURPOSE         1670214 non-null object\n",
      "NAME_CONTRACT_STATUS           1670214 non-null object\n",
      "DAYS_DECISION                  1670214 non-null int64\n",
      "NAME_PAYMENT_TYPE              1670214 non-null object\n",
      "CODE_REJECT_REASON             1670214 non-null object\n",
      "NAME_TYPE_SUITE                849809 non-null object\n",
      "NAME_CLIENT_TYPE               1670214 non-null object\n",
      "NAME_GOODS_CATEGORY            1670214 non-null object\n",
      "NAME_PORTFOLIO                 1670214 non-null object\n",
      "NAME_PRODUCT_TYPE              1670214 non-null object\n",
      "CHANNEL_TYPE                   1670214 non-null object\n",
      "SELLERPLACE_AREA               1670214 non-null int64\n",
      "NAME_SELLER_INDUSTRY           1670214 non-null object\n",
      "CNT_PAYMENT                    1297984 non-null float64\n",
      "NAME_YIELD_GROUP               1670214 non-null object\n",
      "PRODUCT_COMBINATION            1669868 non-null object\n",
      "DAYS_FIRST_DRAWING             997149 non-null float64\n",
      "DAYS_FIRST_DUE                 997149 non-null float64\n",
      "DAYS_LAST_DUE_1ST_VERSION      997149 non-null float64\n",
      "DAYS_LAST_DUE                  997149 non-null float64\n",
      "DAYS_TERMINATION               997149 non-null float64\n",
      "NFLAG_INSURED_ON_APPROVAL      997149 non-null float64\n",
      "dtypes: float64(15), int64(6), object(16)\n",
      "memory usage: 471.5+ MB\n"
     ]
    }
   ],
   "source": [
    "previous_application = pd.read_csv('/home/neha/Desktop/code/ML/Kaggle/home_credit_default_risk/data/previous_application.csv')\n",
    "previous_application.info()"
   ]
  },
  {
   "cell_type": "code",
   "execution_count": 12,
   "metadata": {
    "collapsed": false
   },
   "outputs": [
    {
     "data": {
      "text/html": [
       "<div>\n",
       "<table border=\"1\" class=\"dataframe\">\n",
       "  <thead>\n",
       "    <tr style=\"text-align: right;\">\n",
       "      <th></th>\n",
       "      <th>SK_ID_PREV</th>\n",
       "      <th>SK_ID_CURR</th>\n",
       "      <th>NAME_CONTRACT_TYPE</th>\n",
       "      <th>AMT_ANNUITY</th>\n",
       "      <th>AMT_APPLICATION</th>\n",
       "      <th>AMT_CREDIT</th>\n",
       "      <th>AMT_DOWN_PAYMENT</th>\n",
       "      <th>AMT_GOODS_PRICE</th>\n",
       "      <th>WEEKDAY_APPR_PROCESS_START</th>\n",
       "      <th>HOUR_APPR_PROCESS_START</th>\n",
       "      <th>...</th>\n",
       "      <th>NAME_SELLER_INDUSTRY</th>\n",
       "      <th>CNT_PAYMENT</th>\n",
       "      <th>NAME_YIELD_GROUP</th>\n",
       "      <th>PRODUCT_COMBINATION</th>\n",
       "      <th>DAYS_FIRST_DRAWING</th>\n",
       "      <th>DAYS_FIRST_DUE</th>\n",
       "      <th>DAYS_LAST_DUE_1ST_VERSION</th>\n",
       "      <th>DAYS_LAST_DUE</th>\n",
       "      <th>DAYS_TERMINATION</th>\n",
       "      <th>NFLAG_INSURED_ON_APPROVAL</th>\n",
       "    </tr>\n",
       "  </thead>\n",
       "  <tbody>\n",
       "    <tr>\n",
       "      <th>0</th>\n",
       "      <td>2030495</td>\n",
       "      <td>271877</td>\n",
       "      <td>Consumer loans</td>\n",
       "      <td>1730.430</td>\n",
       "      <td>17145.0</td>\n",
       "      <td>17145.0</td>\n",
       "      <td>0.0</td>\n",
       "      <td>17145.0</td>\n",
       "      <td>SATURDAY</td>\n",
       "      <td>15</td>\n",
       "      <td>...</td>\n",
       "      <td>Connectivity</td>\n",
       "      <td>12.0</td>\n",
       "      <td>middle</td>\n",
       "      <td>POS mobile with interest</td>\n",
       "      <td>365243.0</td>\n",
       "      <td>-42.0</td>\n",
       "      <td>300.0</td>\n",
       "      <td>-42.0</td>\n",
       "      <td>-37.0</td>\n",
       "      <td>0.0</td>\n",
       "    </tr>\n",
       "    <tr>\n",
       "      <th>1</th>\n",
       "      <td>2802425</td>\n",
       "      <td>108129</td>\n",
       "      <td>Cash loans</td>\n",
       "      <td>25188.615</td>\n",
       "      <td>607500.0</td>\n",
       "      <td>679671.0</td>\n",
       "      <td>NaN</td>\n",
       "      <td>607500.0</td>\n",
       "      <td>THURSDAY</td>\n",
       "      <td>11</td>\n",
       "      <td>...</td>\n",
       "      <td>XNA</td>\n",
       "      <td>36.0</td>\n",
       "      <td>low_action</td>\n",
       "      <td>Cash X-Sell: low</td>\n",
       "      <td>365243.0</td>\n",
       "      <td>-134.0</td>\n",
       "      <td>916.0</td>\n",
       "      <td>365243.0</td>\n",
       "      <td>365243.0</td>\n",
       "      <td>1.0</td>\n",
       "    </tr>\n",
       "    <tr>\n",
       "      <th>2</th>\n",
       "      <td>2523466</td>\n",
       "      <td>122040</td>\n",
       "      <td>Cash loans</td>\n",
       "      <td>15060.735</td>\n",
       "      <td>112500.0</td>\n",
       "      <td>136444.5</td>\n",
       "      <td>NaN</td>\n",
       "      <td>112500.0</td>\n",
       "      <td>TUESDAY</td>\n",
       "      <td>11</td>\n",
       "      <td>...</td>\n",
       "      <td>XNA</td>\n",
       "      <td>12.0</td>\n",
       "      <td>high</td>\n",
       "      <td>Cash X-Sell: high</td>\n",
       "      <td>365243.0</td>\n",
       "      <td>-271.0</td>\n",
       "      <td>59.0</td>\n",
       "      <td>365243.0</td>\n",
       "      <td>365243.0</td>\n",
       "      <td>1.0</td>\n",
       "    </tr>\n",
       "    <tr>\n",
       "      <th>3</th>\n",
       "      <td>2819243</td>\n",
       "      <td>176158</td>\n",
       "      <td>Cash loans</td>\n",
       "      <td>47041.335</td>\n",
       "      <td>450000.0</td>\n",
       "      <td>470790.0</td>\n",
       "      <td>NaN</td>\n",
       "      <td>450000.0</td>\n",
       "      <td>MONDAY</td>\n",
       "      <td>7</td>\n",
       "      <td>...</td>\n",
       "      <td>XNA</td>\n",
       "      <td>12.0</td>\n",
       "      <td>middle</td>\n",
       "      <td>Cash X-Sell: middle</td>\n",
       "      <td>365243.0</td>\n",
       "      <td>-482.0</td>\n",
       "      <td>-152.0</td>\n",
       "      <td>-182.0</td>\n",
       "      <td>-177.0</td>\n",
       "      <td>1.0</td>\n",
       "    </tr>\n",
       "    <tr>\n",
       "      <th>4</th>\n",
       "      <td>1784265</td>\n",
       "      <td>202054</td>\n",
       "      <td>Cash loans</td>\n",
       "      <td>31924.395</td>\n",
       "      <td>337500.0</td>\n",
       "      <td>404055.0</td>\n",
       "      <td>NaN</td>\n",
       "      <td>337500.0</td>\n",
       "      <td>THURSDAY</td>\n",
       "      <td>9</td>\n",
       "      <td>...</td>\n",
       "      <td>XNA</td>\n",
       "      <td>24.0</td>\n",
       "      <td>high</td>\n",
       "      <td>Cash Street: high</td>\n",
       "      <td>NaN</td>\n",
       "      <td>NaN</td>\n",
       "      <td>NaN</td>\n",
       "      <td>NaN</td>\n",
       "      <td>NaN</td>\n",
       "      <td>NaN</td>\n",
       "    </tr>\n",
       "  </tbody>\n",
       "</table>\n",
       "<p>5 rows × 37 columns</p>\n",
       "</div>"
      ],
      "text/plain": [
       "   SK_ID_PREV  SK_ID_CURR NAME_CONTRACT_TYPE  AMT_ANNUITY  AMT_APPLICATION  \\\n",
       "0     2030495      271877     Consumer loans     1730.430          17145.0   \n",
       "1     2802425      108129         Cash loans    25188.615         607500.0   \n",
       "2     2523466      122040         Cash loans    15060.735         112500.0   \n",
       "3     2819243      176158         Cash loans    47041.335         450000.0   \n",
       "4     1784265      202054         Cash loans    31924.395         337500.0   \n",
       "\n",
       "   AMT_CREDIT  AMT_DOWN_PAYMENT  AMT_GOODS_PRICE WEEKDAY_APPR_PROCESS_START  \\\n",
       "0     17145.0               0.0          17145.0                   SATURDAY   \n",
       "1    679671.0               NaN         607500.0                   THURSDAY   \n",
       "2    136444.5               NaN         112500.0                    TUESDAY   \n",
       "3    470790.0               NaN         450000.0                     MONDAY   \n",
       "4    404055.0               NaN         337500.0                   THURSDAY   \n",
       "\n",
       "   HOUR_APPR_PROCESS_START            ...            NAME_SELLER_INDUSTRY  \\\n",
       "0                       15            ...                    Connectivity   \n",
       "1                       11            ...                             XNA   \n",
       "2                       11            ...                             XNA   \n",
       "3                        7            ...                             XNA   \n",
       "4                        9            ...                             XNA   \n",
       "\n",
       "   CNT_PAYMENT  NAME_YIELD_GROUP       PRODUCT_COMBINATION  \\\n",
       "0         12.0            middle  POS mobile with interest   \n",
       "1         36.0        low_action          Cash X-Sell: low   \n",
       "2         12.0              high         Cash X-Sell: high   \n",
       "3         12.0            middle       Cash X-Sell: middle   \n",
       "4         24.0              high         Cash Street: high   \n",
       "\n",
       "   DAYS_FIRST_DRAWING DAYS_FIRST_DUE DAYS_LAST_DUE_1ST_VERSION  DAYS_LAST_DUE  \\\n",
       "0            365243.0          -42.0                     300.0          -42.0   \n",
       "1            365243.0         -134.0                     916.0       365243.0   \n",
       "2            365243.0         -271.0                      59.0       365243.0   \n",
       "3            365243.0         -482.0                    -152.0         -182.0   \n",
       "4                 NaN            NaN                       NaN            NaN   \n",
       "\n",
       "  DAYS_TERMINATION NFLAG_INSURED_ON_APPROVAL  \n",
       "0            -37.0                       0.0  \n",
       "1         365243.0                       1.0  \n",
       "2         365243.0                       1.0  \n",
       "3           -177.0                       1.0  \n",
       "4              NaN                       NaN  \n",
       "\n",
       "[5 rows x 37 columns]"
      ]
     },
     "execution_count": 12,
     "metadata": {},
     "output_type": "execute_result"
    }
   ],
   "source": [
    "previous_application.head()"
   ]
  }
 ],
 "metadata": {
  "kernelspec": {
   "display_name": "Python 3",
   "language": "python",
   "name": "python3"
  },
  "language_info": {
   "codemirror_mode": {
    "name": "ipython",
    "version": 3
   },
   "file_extension": ".py",
   "mimetype": "text/x-python",
   "name": "python",
   "nbconvert_exporter": "python",
   "pygments_lexer": "ipython3",
   "version": "3.6.0"
  }
 },
 "nbformat": 4,
 "nbformat_minor": 2
}
